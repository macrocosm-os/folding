{
 "cells": [
  {
   "cell_type": "markdown",
   "metadata": {
    "nbpresent": {
     "id": "dde7b85f-ae2f-42f9-9ebf-58ab93239983"
    }
   },
   "source": [
    "# Molecular dynamics simulation of a small protein using GROMACS "
   ]
  },
  {
   "cell_type": "markdown",
   "metadata": {
    "nbpresent": {
     "id": "59d19417-8116-4511-8fc5-c5abbbfe82b3"
    }
   },
   "source": [
    "    authors  : Alessandra Villa (based on a Justin Lemkuhl tutorial see http://www.mdtutorials.com or Living J. Comp. Mol. Sci. 2018, 1, 5068).    \n",
    "    goal     : learn step-by-step how to run a molecular dynamics simulation of a small protein using GROMACS \n",
    "    time     : 90 minutes\n",
    "    software : GROMACS 2023, python modules: numpy, matplotlib, re, nglviewer, md_traj, panda. \n",
    "    optional software: visualization software [VMD](https://www.ks.uiuc.edu/Research/vmd), Xmgrace plotting tool\n",
    "    tutorial source: tutorials.gromacs.org\n",
    "    version  : release\n",
    "    website  : https://tutorials.gromacs.org/docs/md-intro-tutorial.html"
   ]
  },
  {
   "cell_type": "markdown",
   "metadata": {},
   "source": [
    "# Preparations "
   ]
  },
  {
   "cell_type": "code",
   "execution_count": 7,
   "metadata": {
    "nbpresent": {
     "id": "cf4e0e9a-6503-430f-8c60-815a9ae22616"
    }
   },
   "outputs": [
    {
     "name": "stdout",
     "output_type": "stream",
     "text": [
      "/workspace/folding/md-intro-tutorial/md-intro-tutorial-main/data\n"
     ]
    },
    {
     "name": "stderr",
     "output_type": "stream",
     "text": [
      "/workspace/folding/.venv/lib/python3.10/site-packages/IPython/core/magics/osm.py:417: UserWarning: This is now an optional IPython functionality, setting dhist requires you to install the `pickleshare` library.\n",
      "  self.shell.db['dhist'] = compress_dhist(dhist)[-100:]\n"
     ]
    }
   ],
   "source": [
    "# Change to the data directory\n",
    "%cd data"
   ]
  },
  {
   "cell_type": "markdown",
   "metadata": {
    "nbpresent": {
     "id": "3d13b2f5-7423-4201-b832-303524849db8"
    }
   },
   "source": [
    "### Obtaining the input for a simulation & Visualization                                                      "
   ]
  },
  {
   "cell_type": "markdown",
   "metadata": {
    "nbpresent": {
     "id": "40fa54aa-811b-4991-8dcf-3fdc464b1249"
    }
   },
   "source": [
    "For this tutorial, we will utilize Factor Xa, a protein playing critical role in the formation of blood clots. \n",
    "- The 3D structure is available from the RCSB website, https://www.rcsb.org/ with PDB code 1FJS. \n",
    "- You can find the PDB file for the crystal structure in \"input\" directory as \"1fjs.pdb\"."
   ]
  },
  {
   "cell_type": "markdown",
   "metadata": {},
   "source": [
    "Visualizing the structue: both approaches to visualization did not work for me, but leaving them here for review. \n",
    "- nglview \n",
    "- vmd \n"
   ]
  },
  {
   "cell_type": "code",
   "execution_count": null,
   "metadata": {},
   "outputs": [],
   "source": [
    "# nglview\n",
    "# %pip install nglview\n",
    "import nglview as ng\n",
    "view = ng.show_structure_file(\"input/1fjs.pdb\")\n",
    "view\n",
    "# click and drag to rotate, zoom with your mouseweel \n",
    "# for more infor on this viewer have a look at https://github.com/nglviewer/nglview"
   ]
  },
  {
   "cell_type": "code",
   "execution_count": null,
   "metadata": {
    "nbpresent": {
     "id": "c45f02d0-d499-40b4-bb12-5b54a57e2866"
    },
    "scrolled": false
   },
   "outputs": [],
   "source": [
    "# vmd\n",
    "!vmd input/1fjs.pdb"
   ]
  },
  {
   "cell_type": "markdown",
   "metadata": {
    "nbpresent": {
     "id": "d5d197b7-16ea-4cb7-bc4c-dc18ea76e1d1"
    }
   },
   "source": [
    "### Cleaning the input structure"
   ]
  },
  {
   "cell_type": "markdown",
   "metadata": {
    "nbpresent": {
     "id": "992503cc-771a-439b-bae3-3a660a755b7c"
    }
   },
   "source": [
    "Strip out all the atoms that do not belong to the protein (e.i crystal waters, ligands, etc). Atoms (labelled \"HETATM\" in the PDB file) and eventually their connectivity. In other words, verify that all the necessary atoms are present, and the PDB file contains only protein atoms.\n",
    "- Use a plain text editor like vi, emacs (Linux/Mac), or Notepad (Windows). \n",
    "- Do not use word processing software! \n",
    "- Alternatively use grep to delete these lines very easily"
   ]
  },
  {
   "cell_type": "code",
   "execution_count": 8,
   "metadata": {
    "nbpresent": {
     "id": "2655e386-be87-4ac5-91ef-9ac4ee9360f9"
    },
    "scrolled": true
   },
   "outputs": [],
   "source": [
    "# remove lines with HETATM and CONECT from the pdb file\n",
    "!grep -v HETATM input/1fjs.pdb > 1fjs_protein_tmp.pdb\n",
    "!grep -v CONECT 1fjs_protein_tmp.pdb > 1fjs_protein.pdb"
   ]
  },
  {
   "cell_type": "code",
   "execution_count": null,
   "metadata": {},
   "outputs": [],
   "source": [
    "# Visualize the cleaned structure (optional)\n",
    "# import nglview as ng\n",
    "# view = ng.show_structure_file(\"1fjs_protein.pdb\")\n",
    "# view\n",
    "# click and drag to rotate, zoom with your mouseweel \n",
    "# for more infor on this viewer have a look at https://github.com/nglviewer/nglview\n",
    "\n",
    "# Alternative approach below \n",
    "#!vmd 1fjs_protein.pdb"
   ]
  },
  {
   "cell_type": "markdown",
   "metadata": {
    "nbpresent": {
     "id": "345d6e37-b392-4f54-b2ed-4d19f5c13b3d"
    }
   },
   "source": [
    "Check your .pdb file for entries listed under the comment MISSING, as these entries indicate either atoms or whole residues that are not present in the crystal structure. \n",
    "- Terminal regions may be absent, and may not present a problem for dynamics."
   ]
  },
  {
   "cell_type": "code",
   "execution_count": 9,
   "metadata": {},
   "outputs": [],
   "source": [
    "# check for MISSING comment in pdb file  \n",
    "!grep MISSING input/1fjs.pdb"
   ]
  },
  {
   "cell_type": "markdown",
   "metadata": {
    "nbpresent": {
     "id": "21e7a22b-6304-496d-8a9d-dfec05a513f6"
    }
   },
   "source": [
    "### Generating a topology"
   ]
  },
  {
   "cell_type": "markdown",
   "metadata": {
    "nbpresent": {
     "id": "1d259e27-9071-43e4-93ab-4c45dbf7c7a1"
    }
   },
   "source": [
    "PDB file is ready to be input into GROMACS \n",
    "We use [`gmx pdb2gmx`](https://manual.gromacs.org/current/onlinehelp/gmx-pdb2gmx.html) to generate three files:\n",
    "\n",
    "* The topology for the molecule.\n",
    "* A position restraint file.\n",
    "* A post-processed structure file. \n",
    "\n",
    "The topology (**topol.top** by default) contains all the information necessary to define the molecule within a simulation.\n",
    "- nonbonded parameters (atom types and charges)\n",
    "- bonded parameters (bonds, angles, dihedrals and atom connectivity)\n",
    "\n",
    "The purpose of `gmx pdb2gmx` is to produce a force field-compliant topology"
   ]
  },
  {
   "cell_type": "markdown",
   "metadata": {},
   "source": [
    "Note: \n",
    "- *Incomplete internal sequences or any amino acid residues that have missing atoms will cause `gmx pdb2gmx` to fail.\n",
    "- missing atoms/residues must be modeled in using other software packages. Also note that \n",
    "- `gmx pdb2gmx` is not magic, it cannot generate topologies for arbitrary molecules, just the residues defined by the force field (in the *.rtp files - generally proteins, nucleic acids, and a very finite amount of cofactors, like NAD(H) and ATP).*"
   ]
  },
  {
   "cell_type": "code",
   "execution_count": 10,
   "metadata": {
    "nbpresent": {
     "id": "2f9730de-896f-4e92-84c7-3de46d837d53"
    },
    "scrolled": true
   },
   "outputs": [
    {
     "name": "stdout",
     "output_type": "stream",
     "text": [
      "             :-) GROMACS - gmx pdb2gmx, 2021.4-Ubuntu-2021.4-2 (-:\n",
      "\n",
      "                            GROMACS is written by:\n",
      "     Andrey Alekseenko              Emile Apol              Rossen Apostolov     \n",
      "         Paul Bauer           Herman J.C. Berendsen           Par Bjelkmar       \n",
      "       Christian Blau           Viacheslav Bolnykh             Kevin Boyd        \n",
      "     Aldert van Buuren           Rudi van Drunen             Anton Feenstra      \n",
      "    Gilles Gouaillardet             Alan Gray               Gerrit Groenhof      \n",
      "       Anca Hamuraru            Vincent Hindriksen          M. Eric Irrgang      \n",
      "      Aleksei Iupinov           Christoph Junghans             Joe Jordan        \n",
      "    Dimitrios Karkoulis            Peter Kasson                Jiri Kraus        \n",
      "      Carsten Kutzner              Per Larsson              Justin A. Lemkul     \n",
      "       Viveca Lindahl            Magnus Lundborg             Erik Marklund       \n",
      "        Pascal Merz             Pieter Meulenhoff            Teemu Murtola       \n",
      "        Szilard Pall               Sander Pronk              Roland Schulz       \n",
      "       Michael Shirts            Alexey Shvetsov             Alfons Sijbers      \n",
      "       Peter Tieleman              Jon Vincent              Teemu Virolainen     \n",
      "     Christian Wennberg            Maarten Wolf              Artem Zhmurov       \n",
      "                           and the project leaders:\n",
      "        Mark Abraham, Berk Hess, Erik Lindahl, and David van der Spoel\n",
      "\n",
      "Copyright (c) 1991-2000, University of Groningen, The Netherlands.\n",
      "Copyright (c) 2001-2019, The GROMACS development team at\n",
      "Uppsala University, Stockholm University and\n",
      "the Royal Institute of Technology, Sweden.\n",
      "check out http://www.gromacs.org for more information.\n",
      "\n",
      "GROMACS is free software; you can redistribute it and/or modify it\n",
      "under the terms of the GNU Lesser General Public License\n",
      "as published by the Free Software Foundation; either version 2.1\n",
      "of the License, or (at your option) any later version.\n",
      "\n",
      "GROMACS:      gmx pdb2gmx, version 2021.4-Ubuntu-2021.4-2\n",
      "Executable:   /usr/bin/gmx\n",
      "Data prefix:  /usr\n",
      "Working dir:  /workspace/folding/md-intro-tutorial/md-intro-tutorial-main/data\n",
      "Command line:\n",
      "  gmx pdb2gmx -f 1fjs_protein.pdb -o 1fjs_processed.gro -water tip3p -ff charmm27\n",
      "\n",
      "Using the Charmm27 force field in directory charmm27.ff\n",
      "\n",
      "going to rename charmm27.ff/aminoacids.r2b\n",
      "Opening force field file /usr/share/gromacs/top/charmm27.ff/aminoacids.r2b\n",
      "\n",
      "going to rename charmm27.ff/rna.r2b\n",
      "Opening force field file /usr/share/gromacs/top/charmm27.ff/rna.r2b\n",
      "Reading 1fjs_protein.pdb...\n",
      "Read 'COAGULATION FACTOR XA; COAGULATION FACTOR XA', 2236 atoms\n",
      "\n",
      "Analyzing pdb file\n",
      "Splitting chemical chains based on TER records or chain id changing.\n",
      "\n",
      "There are 2 chains and 0 blocks of water and 286 residues with 2236 atoms\n",
      "\n",
      "  chain  #res #atoms\n",
      "\n",
      "  1 'A'   234   1852  \n",
      "\n",
      "  2 'L'    52    384  \n",
      "\n",
      "there were 14 atoms with zero occupancy and 20 atoms with          occupancy unequal to one (out of 2236 atoms). Check your pdb file.\n",
      "there were 14 atoms with zero occupancy and 20 atoms with          occupancy unequal to one (out of 2236 atoms). Check your pdb file.\n",
      "Opening force field file /usr/share/gromacs/top/charmm27.ff/atomtypes.atp\n",
      "\n",
      "Reading residue database... (Charmm27)\n",
      "Opening force field file /usr/share/gromacs/top/charmm27.ff/aminoacids.rtp\n",
      "Opening force field file /usr/share/gromacs/top/charmm27.ff/dna.rtp\n",
      "Opening force field file /usr/share/gromacs/top/charmm27.ff/lipids.rtp\n",
      "Opening force field file /usr/share/gromacs/top/charmm27.ff/rna.rtp\n",
      "Opening force field file /usr/share/gromacs/top/charmm27.ff/aminoacids.hdb\n",
      "Opening force field file /usr/share/gromacs/top/charmm27.ff/dna.hdb\n",
      "Opening force field file /usr/share/gromacs/top/charmm27.ff/lipids.hdb\n",
      "Opening force field file /usr/share/gromacs/top/charmm27.ff/rna.hdb\n",
      "Opening force field file /usr/share/gromacs/top/charmm27.ff/aminoacids.n.tdb\n",
      "Opening force field file /usr/share/gromacs/top/charmm27.ff/dna.n.tdb\n",
      "Opening force field file /usr/share/gromacs/top/charmm27.ff/rna.n.tdb\n",
      "Opening force field file /usr/share/gromacs/top/charmm27.ff/aminoacids.c.tdb\n",
      "Opening force field file /usr/share/gromacs/top/charmm27.ff/dna.c.tdb\n",
      "Opening force field file /usr/share/gromacs/top/charmm27.ff/rna.c.tdb\n",
      "\n",
      "Processing chain 1 'A' (1852 atoms, 234 residues)\n",
      "Analysing hydrogen-bonding network for automated assignment of histidine\n",
      " protonation. 362 donors and 349 acceptors were found.\n",
      "There are 555 hydrogen bonds\n",
      "Will use HISD for residue 57\n",
      "Will use HISE for residue 83\n",
      "Will use HISE for residue 91\n",
      "Will use HISE for residue 145\n",
      "Will use HISE for residue 199\n",
      "\n",
      "Identified residue ILE16 as a starting terminus.\n",
      "\n",
      "Identified residue THR244 as a ending terminus.\n",
      "8 out of 8 lines of specbond.dat converted successfully\n",
      "Special Atom Distance matrix:\n",
      "                   CYS22   CYS27   CYS42   HIS57   CYS58   HIS83   HIS91\n",
      "                    SG47    SG83   SG206  NE2318   SG324  NE2536  NE2602\n",
      "   CYS27    SG83   0.230\n",
      "   CYS42   SG206   1.706   1.726\n",
      "   HIS57  NE2318   1.948   1.957   0.488\n",
      "   CYS58   SG324   1.773   1.764   0.239   0.410\n",
      "   HIS83  NE2536   1.872   1.798   1.852   2.279   1.873\n",
      "   HIS91  NE2602   2.853   2.730   1.835   1.629   1.597   2.634\n",
      "  MET116   SD817   1.252   1.187   2.584   2.933   2.636   1.627   3.494\n",
      "  CYS122   SG856   1.708   1.478   2.379   2.509   2.269   1.937   2.281\n",
      "  MET131   SD955   2.113   1.962   2.158   1.966   1.988   2.884   1.650\n",
      "  HIS145 NE21060   1.681   1.881   2.029   2.090   2.189   3.133   3.567\n",
      "  MET157  SD1150   0.444   0.441   1.993   2.151   2.030   2.237   2.952\n",
      "  CYS168  SG1240   2.410   2.363   2.047   1.668   1.921   3.430   1.943\n",
      "  MET180  SD1333   2.454   2.400   1.600   1.169   1.431   3.072   1.338\n",
      "  CYS182  SG1351   2.251   2.220   1.931   1.568   1.827   3.346   2.037\n",
      "  CYS191  SG1433   1.587   1.712   1.218   1.163   1.340   2.724   2.665\n",
      "  HIS199 NE21485   1.407   1.306   1.711   1.594   1.615   2.569   1.992\n",
      "  CYS220  SG1644   1.746   1.851   1.264   1.115   1.355   2.864   2.577\n",
      "  MET242  SD1835   2.207   2.023   1.934   2.057   1.767   1.591   1.426\n",
      "                  MET116  CYS122  MET131  HIS145  MET157  CYS168  MET180\n",
      "                   SD817   SG856   SD955 NE21060  SD1150  SG1240  SD1333\n",
      "  CYS122   SG856   1.719\n",
      "  MET131   SD955   2.879   1.549\n",
      "  HIS145 NE21060   2.784   3.257   2.955\n",
      "  MET157  SD1150   1.417   1.664   1.956   1.752\n",
      "  CYS168  SG1240   3.501   2.566   1.163   2.504   2.283\n",
      "  MET180  SD1333   3.482   2.530   1.310   2.641   2.453   0.737\n",
      "  CYS182  SG1351   3.378   2.552   1.241   2.275   2.129   0.230   0.797\n",
      "  CYS191  SG1433   2.789   2.821   2.308   0.954   1.714   1.796   1.759\n",
      "  HIS199 NE21485   2.392   1.569   0.811   2.167   1.251   1.137   1.341\n",
      "  CYS220  SG1644   2.961   2.872   2.227   1.111   1.838   1.617   1.589\n",
      "  MET242  SD1835   2.366   1.191   1.760   3.512   2.346   2.587   2.218\n",
      "                  CYS182  CYS191  HIS199  CYS220\n",
      "                  SG1351  SG1433 NE21485  SG1644\n",
      "  CYS191  SG1433   1.584\n",
      "  HIS199 NE21485   1.054   1.611\n",
      "  CYS220  SG1644   1.407   0.237   1.574\n",
      "  MET242  SD1835   2.606   2.828   1.915   2.851\n",
      "Start terminus ILE-16: NH3+\n",
      "End terminus THR-244: COO-\n",
      "Opening force field file /usr/share/gromacs/top/charmm27.ff/aminoacids.arn\n",
      "Opening force field file /usr/share/gromacs/top/charmm27.ff/dna.arn\n",
      "Opening force field file /usr/share/gromacs/top/charmm27.ff/rna.arn\n",
      "\n",
      "Checking for duplicate atoms....\n",
      "\n",
      "Generating any missing hydrogen atoms and/or adding termini.\n",
      "\n",
      "Now there are 234 residues with 3673 atoms\n",
      "Chain time...\n",
      "\n",
      "Making bonds...\n",
      "\n",
      "Number of bonds was 3711, now 3711\n",
      "\n",
      "Generating angles, dihedrals and pairs...\n",
      "Before cleaning: 9703 pairs\n",
      "Before cleaning: 9778 dihedrals\n",
      "Keeping all generated dihedrals\n",
      "\n",
      "Making cmap torsions...\n",
      "\n",
      "There are  232 cmap torsion pairs\n",
      "\n",
      "There are 9778 dihedrals,  605 impropers, 6679 angles\n",
      "          9631 pairs,     3711 bonds and     0 virtual sites\n",
      "\n",
      "Total mass 26412.137 a.m.u.\n",
      "\n",
      "Total charge 1.000 e\n",
      "\n",
      "Writing topology\n",
      "\n",
      "Processing chain 2 'L' (384 atoms, 52 residues)\n",
      "Analysing hydrogen-bonding network for automated assignment of histidine\n",
      " protonation. 74 donors and 80 acceptors were found.\n",
      "There are 118 hydrogen bonds\n",
      "Will use HISE for residue 101\n",
      "\n",
      "Identified residue LYS87 as a starting terminus.\n",
      "\n",
      "Identified residue GLU138 as a ending terminus.\n",
      "8 out of 8 lines of specbond.dat converted successfully\n",
      "Special Atom Distance matrix:\n",
      "                   CYS89   CYS96  CYS100  HIS101  CYS109  CYS111  CYS124\n",
      "                    SG23    SG71   SG105  NE2115   SG176   SG188   SG280\n",
      "   CYS96    SG71   0.578\n",
      "  CYS100   SG105   0.236   0.347\n",
      "  HIS101  NE2115   0.735   0.673   0.662\n",
      "  CYS109   SG176   0.752   0.229   0.539   0.710\n",
      "  CYS111   SG188   1.344   0.870   1.141   0.855   0.787\n",
      "  CYS124   SG280   1.299   0.804   1.083   0.926   0.760   0.239\n",
      "  CYS132   SG338   1.943   1.630   1.787   1.458   1.656   0.993   0.967\n",
      "                \n",
      "                \n",
      "Start terminus LYS-87: NH3+\n",
      "End terminus GLU-138: COO-\n",
      "Opening force field file /usr/share/gromacs/top/charmm27.ff/aminoacids.arn\n",
      "Opening force field file /usr/share/gromacs/top/charmm27.ff/dna.arn\n",
      "Opening force field file /usr/share/gromacs/top/charmm27.ff/rna.arn\n",
      "\n",
      "Checking for duplicate atoms....\n",
      "\n",
      "Generating any missing hydrogen atoms and/or adding termini.\n",
      "\n",
      "Now there are 52 residues with 744 atoms\n",
      "Chain time...\n",
      "\n",
      "Making bonds...\n",
      "\n",
      "Number of bonds was 750, now 750\n",
      "\n",
      "Generating angles, dihedrals and pairs...\n",
      "Before cleaning: 1959 pairs\n",
      "Before cleaning: 1979 dihedrals\n",
      "Keeping all generated dihedrals\n",
      "\n",
      "Making cmap torsions...\n",
      "\n",
      "There are   50 cmap torsion pairs\n",
      "\n",
      "There are 1979 dihedrals,  141 impropers, 1348 angles\n",
      "          1950 pairs,      750 bonds and     0 virtual sites\n",
      "\n",
      "Total mass 5581.215 a.m.u.\n",
      "\n",
      "Total charge -3.000 e\n",
      "\n",
      "Writing topology\n",
      "\n",
      "Including chain 1 in system: 3673 atoms 234 residues\n",
      "\n",
      "Including chain 2 in system: 744 atoms 52 residues\n",
      "\n",
      "Now there are 4417 atoms and 286 residues\n",
      "\n",
      "Total mass in system 31993.352 a.m.u.\n",
      "\n",
      "Total charge in system -2.000 e\n",
      "\n",
      "Writing coordinate file...\n",
      "\n",
      "\t\t--------- PLEASE NOTE ------------\n",
      "\n",
      "You have successfully generated a topology from: 1fjs_protein.pdb.\n",
      "\n",
      "The Charmm27 force field and the tip3p water model are used.\n",
      "\n",
      "\t\t--------- ETON ESAELP ------------\n",
      "\n",
      "GROMACS reminds you: \"printf(\"%d is the year of the linux desktop\", year+1);\" (Anonymous)\n",
      "\n"
     ]
    }
   ],
   "source": [
    "# create the three files using gmx pdb2gmx\n",
    "!gmx pdb2gmx -f 1fjs_protein.pdb -o 1fjs_processed.gro -water tip3p -ff \"charmm27\""
   ]
  },
  {
   "cell_type": "markdown",
   "metadata": {
    "nbpresent": {
     "id": "d5ba1bb9-c859-4e03-a21b-780533486c27"
    }
   },
   "source": [
    "Choosing the CHARMM27 all-atom force field is an important decision.\n",
    "- force field will contain the information that will be written to the topology.\n",
    "- always read thoroughly about each force field and decide which is most applicable to your situation. \n",
    "- when running `gmx pdb2gmx` without the -ff flag, choices are given, additional command line input is required. "
   ]
  },
  {
   "cell_type": "markdown",
   "metadata": {
    "nbpresent": {
     "id": "313f7d4f-aef7-4034-a8f0-d01ccbc0f61a"
    }
   },
   "source": [
    "There are many other options that can be passed to `gmx pdb2gmx` (see http://manual.gromacs.org/documentation/current/onlinehelp/gmx-pdb2gmx.html). "
   ]
  },
  {
   "cell_type": "markdown",
   "metadata": {
    "nbpresent": {
     "id": "e726db3d-da64-4dc6-979a-37de5aca3555"
    }
   },
   "source": [
    "We have now generated three new files: \n",
    "- **1fjs_processed.gro**:  GROMACS-formatted structure file that contains all the atoms defined within the force field (i.e., H atoms have been added to the amino acids in the protein).\n",
    "- **topol.top**: system topology\n",
    "The posre files contain information used to restrain the positions of heavy atoms.\n",
    "- **topol_Protein_chain_X.itp** \n",
    "- **posre_Protein_chain_X.itp**\n"
   ]
  },
  {
   "cell_type": "markdown",
   "metadata": {
    "nbpresent": {
     "id": "aeae1bf0-ee7a-466f-8a74-ffa719813bc6"
    }
   },
   "source": [
    "### Understanding molecule \"topologies\""
   ]
  },
  {
   "cell_type": "markdown",
   "metadata": {
    "nbpresent": {
     "id": "93e9c7bd-075d-429f-be86-6b3118cb5b1c"
    }
   },
   "source": [
    "Using a plain text editor, you can look at what is in the output topology (topol.top)\n",
    "- `!cat topol.top`\n",
    "- \"Protein_chain_A\" defines the molecule name, based on the fact that the protein was labeled as chain A in the PDB file. \n",
    "- There are 3 exclusions for bonded neighbors. More information on exclusions <a href=http://manual.gromacs.org/current/reference-manual/topologies.html>GROMACS manual</a>."
   ]
  },
  {
   "cell_type": "markdown",
   "metadata": {
    "nbpresent": {
     "id": "db680c9f-9999-4423-b607-47b2746a64c4"
    }
   },
   "source": [
    "#### Atoms in a topology"
   ]
  },
  {
   "cell_type": "markdown",
   "metadata": {
    "nbpresent": {
     "id": "98122e18-61f8-44b2-b5cf-6b4fa20ae864"
    }
   },
   "source": [
    "The next section defines the [ atoms ] in the protein. \n",
    "- `! grep \"atoms\" -A 4 topol_Protein_chain_A.itp`"
   ]
  },
  {
   "cell_type": "markdown",
   "metadata": {
    "nbpresent": {
     "id": "09648857-440c-4e54-86c6-932fa288cfa9"
    }
   },
   "source": [
    "|Field  |  description |\n",
    "|--|--\n",
    "|nr|Atom number\n",
    "|type| Atom type\n",
    "|resnr|Amino acid residue number\n",
    "|residue| The amino acid residue name- Note that this may be different from .rtp entry. \n",
    "|atom| Atom name\n",
    "|cgnr| Charge group number - Not used anymore \n",
    "|charge| Self-explanatory - The \"qtot\" descriptor is a running total of the charge on the molecule\n",
    "|mass| Also self-explanatory\n",
    "|typeB, chargeB, massB| Used for free energy perturbation (not discussed here) "
   ]
  },
  {
   "cell_type": "markdown",
   "metadata": {
    "nbpresent": {
     "id": "18a65484-38e3-49fc-9dc2-57f04d698628"
    }
   },
   "source": [
    "#### Bonds and other interactions in a topology"
   ]
  },
  {
   "cell_type": "markdown",
   "metadata": {
    "nbpresent": {
     "id": "0a8bda1d-2727-4a76-983d-dab8112e1dcf"
    }
   },
   "source": [
    "Subsequent sections include [ bonds ], [ pairs ], [ angles ], and [ dihedrals ]. Some of these sections are self-explanatory (bonds, angles, and dihedrals. \n",
    "- `!grep \"bonds\" -A 2 topol_Protein_chain_A.itp`\n",
    "- `!grep \"pairs\" -A 2  topol_Protein_chain_A.itp`\n",
    "- `!grep \"angles\" -A 2 topol_Protein_chain_A.itp`\n",
    "- `!grep \"dihedrals\" -A 2 topol_Protein_chain_A.itp`\n",
    "- interactions are found [here](http://manual.gromacs.org/current/reference-manual/functions.html) \n",
    "special 1-4 interactions are included under [pairs](http://manual.gromacs.org/current/reference-manual/functions/interaction-methods.html#exclusions-and-1-4-interactions). \n",
    "- format associated to function types [see topology file table](http://manual.gromacs.org/documentation/2020-beta1/reference-manual/topologies/topology-file-formats.html) in GROMACS manual."
   ]
  },
  {
   "cell_type": "markdown",
   "metadata": {
    "nbpresent": {
     "id": "ef42771f-cf92-4505-a904-9e5b8f9ab0d1"
    }
   },
   "source": [
    "#### Water and position restraints"
   ]
  },
  {
   "cell_type": "markdown",
   "metadata": {
    "nbpresent": {
     "id": "b43f5e17-887e-415c-a7da-1b61d8e53b93"
    }
   },
   "source": [
    "- `!grep \"posre\" topol*.itp`\n",
    "- the \"posre.itp\" file defines a force constant used to keep atoms in place during equilibration.\n",
    "- use the following command to view it `!cat posre_Protein_chain_A.itp`\n",
    "- The remainder of the topology file is dedicated to defining other molecules and providing system-level descriptions. \n",
    "- The next moleculetype (by default) is the solvent, in this case TIP3P **water**. For an excellent summary of the many different water models, click [here](http://www1.lsbu.ac.uk/water/water_models.html)."
   ]
  },
  {
   "cell_type": "markdown",
   "metadata": {
    "nbpresent": {
     "id": "39ea31e7-3219-49d9-b756-2bd0fb8dca0b"
    }
   },
   "source": [
    "#### Ions and other parameters"
   ]
  },
  {
   "cell_type": "markdown",
   "metadata": {},
   "source": [
    "- !grep \"ions\" topol.top"
   ]
  },
  {
   "cell_type": "markdown",
   "metadata": {},
   "source": [
    "#### System level definitions"
   ]
  },
  {
   "cell_type": "markdown",
   "metadata": {
    "nbpresent": {
     "id": "5ccbb2b2-116b-48d2-9212-33ff648831ca"
    }
   },
   "source": [
    "- `!tail -8 topol.top`\n",
    "- [ system ] directive gives the name of the system that will be written to output files during the simulation.\n",
    "- [ molecules ] directive lists all of the molecules in the system.\n",
    "- - The order of the listed molecules must exactly match the order of the molecules in the coordinate (in this case, .gro) file.\n",
    "- - The names listed must match the `[ moleculetype ]` name for each species, not residue names or anything else.\n",
    "- - Otherwise, you will get fatal errors from grompp about mismatched names, molecules not being found, or a number of others."
   ]
  },
  {
   "cell_type": "markdown",
   "metadata": {
    "nbpresent": {
     "id": "598b0d30-9d4c-4b31-a670-959bb96ab87f"
    }
   },
   "source": [
    "### Solvating the simulation system"
   ]
  },
  {
   "cell_type": "markdown",
   "metadata": {
    "nbpresent": {
     "id": "4c7344d8-d42d-4e4c-918c-0e1a160a1319"
    }
   },
   "source": [
    "In this example, we are going to be simulating a simple aqueous system. It is possible to simulate proteins and other molecules in different solvents, provided that good parameters are available for all species involved.\n",
    "\n",
    "- Define the box dimensions using the [`gmx editconf`](https://manual.gromacs.org/current/onlinehelp/gmx-editconf.html) tool.\n",
    "- Fill the box with water using the [`gmx solvate`](https://manual.gromacs.org/current/onlinehelp/gmx-solvate.html) tool. \n",
    "\n",
    "You are now presented with a choice as to how to treat the unit cell. For the purpose of this tutorial, we will use the rhombic dodecahedron"
   ]
  },
  {
   "cell_type": "markdown",
   "metadata": {
    "nbpresent": {
     "id": "95ad5707-817d-46aa-b35f-09cfb6796c02"
    }
   },
   "source": [
    "### Defining the simulation box"
   ]
  },
  {
   "cell_type": "code",
   "execution_count": 11,
   "metadata": {
    "nbpresent": {
     "id": "23d642d0-a609-4be8-aed1-00aee72b22bf"
    },
    "scrolled": true
   },
   "outputs": [
    {
     "name": "stdout",
     "output_type": "stream",
     "text": [
      "             :-) GROMACS - gmx editconf, 2021.4-Ubuntu-2021.4-2 (-:\n",
      "\n",
      "                            GROMACS is written by:\n",
      "     Andrey Alekseenko              Emile Apol              Rossen Apostolov     \n",
      "         Paul Bauer           Herman J.C. Berendsen           Par Bjelkmar       \n",
      "       Christian Blau           Viacheslav Bolnykh             Kevin Boyd        \n",
      "     Aldert van Buuren           Rudi van Drunen             Anton Feenstra      \n",
      "    Gilles Gouaillardet             Alan Gray               Gerrit Groenhof      \n",
      "       Anca Hamuraru            Vincent Hindriksen          M. Eric Irrgang      \n",
      "      Aleksei Iupinov           Christoph Junghans             Joe Jordan        \n",
      "    Dimitrios Karkoulis            Peter Kasson                Jiri Kraus        \n",
      "      Carsten Kutzner              Per Larsson              Justin A. Lemkul     \n",
      "       Viveca Lindahl            Magnus Lundborg             Erik Marklund       \n",
      "        Pascal Merz             Pieter Meulenhoff            Teemu Murtola       \n",
      "        Szilard Pall               Sander Pronk              Roland Schulz       \n",
      "       Michael Shirts            Alexey Shvetsov             Alfons Sijbers      \n",
      "       Peter Tieleman              Jon Vincent              Teemu Virolainen     \n",
      "     Christian Wennberg            Maarten Wolf              Artem Zhmurov       \n",
      "                           and the project leaders:\n",
      "        Mark Abraham, Berk Hess, Erik Lindahl, and David van der Spoel\n",
      "\n",
      "Copyright (c) 1991-2000, University of Groningen, The Netherlands.\n",
      "Copyright (c) 2001-2019, The GROMACS development team at\n",
      "Uppsala University, Stockholm University and\n",
      "the Royal Institute of Technology, Sweden.\n",
      "check out http://www.gromacs.org for more information.\n",
      "\n",
      "GROMACS is free software; you can redistribute it and/or modify it\n",
      "under the terms of the GNU Lesser General Public License\n",
      "as published by the Free Software Foundation; either version 2.1\n",
      "of the License, or (at your option) any later version.\n",
      "\n",
      "GROMACS:      gmx editconf, version 2021.4-Ubuntu-2021.4-2\n",
      "Executable:   /usr/bin/gmx\n",
      "Data prefix:  /usr\n",
      "Working dir:  /workspace/folding/md-intro-tutorial/md-intro-tutorial-main/data\n",
      "Command line:\n",
      "  gmx editconf -f 1fjs_processed.gro -o 1fjs_newbox.gro -c -d 1.0 -bt dodecahedron\n",
      "\n",
      "Note that major changes are planned in future for editconf, to improve usability and utility.\n",
      "Read 4417 atoms\n",
      "Volume: 321.98 nm^3, corresponds to roughly 144800 electrons\n",
      "No velocities found\n",
      "    system size :  6.066  5.213  4.092 (nm)\n",
      "    diameter    :  6.268               (nm)\n",
      "    center      :  2.234  1.342  2.544 (nm)\n",
      "    box vectors :  5.577  7.196  8.023 (nm)\n",
      "    box angles  :  90.00  90.00  90.00 (degrees)\n",
      "    box volume  : 321.98               (nm^3)\n",
      "    shift       :  3.967  4.858  0.379 (nm)\n",
      "new center      :  6.201  6.201  2.923 (nm)\n",
      "new box vectors :  8.268  8.268  8.268 (nm)\n",
      "new box angles  :  60.00  60.00  90.00 (degrees)\n",
      "new box volume  : 399.60               (nm^3)\n",
      "\n",
      "GROMACS reminds you: \"Hang On to Your Ego\" (F. Black)\n",
      "\n"
     ]
    }
   ],
   "source": [
    "# define the box: gmx editconf\n",
    "!gmx editconf -f 1fjs_processed.gro -o 1fjs_newbox.gro -c -d 1.0 -bt dodecahedron"
   ]
  },
  {
   "cell_type": "markdown",
   "metadata": {
    "nbpresent": {
     "id": "e68f5978-ef1b-4700-84bb-a40173c8ccf8"
    }
   },
   "source": [
    "- `-c` center the protein in the box\n",
    "- `-d 1.0` place it at least 1.0 nm from the box edge\n",
    "- `-bt dodecahedron` box type is defined as a rhombic dodecahedron \n",
    "- For more on periodic boundary conditions and dodecahedrons [here](http://manual.gromacs.org/current/reference-manual/algorithms/periodic-boundary-conditions.html#pbc) "
   ]
  },
  {
   "cell_type": "markdown",
   "metadata": {
    "nbpresent": {
     "id": "75d89a8d-1463-4767-a002-581b3c015753"
    }
   },
   "source": [
    "### Filling the box with water"
   ]
  },
  {
   "cell_type": "markdown",
   "metadata": {},
   "source": [
    "`gmx solvate` will keep track of how many water molecules it adds in this step, which it then writes to your topology to reflect the changes."
   ]
  },
  {
   "cell_type": "code",
   "execution_count": 12,
   "metadata": {
    "nbpresent": {
     "id": "82f1ad5a-cef0-46fe-9494-92477b273cd9"
    },
    "scrolled": true
   },
   "outputs": [
    {
     "name": "stdout",
     "output_type": "stream",
     "text": [
      "             :-) GROMACS - gmx solvate, 2021.4-Ubuntu-2021.4-2 (-:\n",
      "\n",
      "                            GROMACS is written by:\n",
      "     Andrey Alekseenko              Emile Apol              Rossen Apostolov     \n",
      "         Paul Bauer           Herman J.C. Berendsen           Par Bjelkmar       \n",
      "       Christian Blau           Viacheslav Bolnykh             Kevin Boyd        \n",
      "     Aldert van Buuren           Rudi van Drunen             Anton Feenstra      \n",
      "    Gilles Gouaillardet             Alan Gray               Gerrit Groenhof      \n",
      "       Anca Hamuraru            Vincent Hindriksen          M. Eric Irrgang      \n",
      "      Aleksei Iupinov           Christoph Junghans             Joe Jordan        \n",
      "    Dimitrios Karkoulis            Peter Kasson                Jiri Kraus        \n",
      "      Carsten Kutzner              Per Larsson              Justin A. Lemkul     \n",
      "       Viveca Lindahl            Magnus Lundborg             Erik Marklund       \n",
      "        Pascal Merz             Pieter Meulenhoff            Teemu Murtola       \n",
      "        Szilard Pall               Sander Pronk              Roland Schulz       \n",
      "       Michael Shirts            Alexey Shvetsov             Alfons Sijbers      \n",
      "       Peter Tieleman              Jon Vincent              Teemu Virolainen     \n",
      "     Christian Wennberg            Maarten Wolf              Artem Zhmurov       \n",
      "                           and the project leaders:\n",
      "        Mark Abraham, Berk Hess, Erik Lindahl, and David van der Spoel\n",
      "\n",
      "Copyright (c) 1991-2000, University of Groningen, The Netherlands.\n",
      "Copyright (c) 2001-2019, The GROMACS development team at\n",
      "Uppsala University, Stockholm University and\n",
      "the Royal Institute of Technology, Sweden.\n",
      "check out http://www.gromacs.org for more information.\n",
      "\n",
      "GROMACS is free software; you can redistribute it and/or modify it\n",
      "under the terms of the GNU Lesser General Public License\n",
      "as published by the Free Software Foundation; either version 2.1\n",
      "of the License, or (at your option) any later version.\n",
      "\n",
      "GROMACS:      gmx solvate, version 2021.4-Ubuntu-2021.4-2\n",
      "Executable:   /usr/bin/gmx\n",
      "Data prefix:  /usr\n",
      "Working dir:  /workspace/folding/md-intro-tutorial/md-intro-tutorial-main/data\n",
      "Command line:\n",
      "  gmx solvate -cp 1fjs_newbox.gro -cs spc216.gro -o 1fjs_solv.gro -p topol.top\n",
      "\n",
      "Reading solute configuration\n",
      "Reading solvent configuration\n",
      "\n",
      "Initialising inter-atomic distances...\n",
      "\n",
      "WARNING: Masses and atomic (Van der Waals) radii will be guessed\n",
      "         based on residue and atom names, since they could not be\n",
      "         definitively assigned from the information in your input\n",
      "         files. These guessed numbers might deviate from the mass\n",
      "         and radius of the atom type. Please check the output\n",
      "         files if necessary.\n",
      "\n",
      "NOTE: From version 5.0 gmx solvate uses the Van der Waals radii\n",
      "from the source below. This means the results may be different\n",
      "compared to previous GROMACS versions.\n",
      "\n",
      "++++ PLEASE READ AND CITE THE FOLLOWING REFERENCE ++++\n",
      "A. Bondi\n",
      "van der Waals Volumes and Radii\n",
      "J. Phys. Chem. 68 (1964) pp. 441-451\n",
      "-------- -------- --- Thank You --- -------- --------\n",
      "\n",
      "Generating solvent configuration\n",
      "Will generate new solvent configuration of 5x5x4 boxes\n",
      "Solvent box contains 45345 atoms in 15115 residues\n",
      "Removed 5904 solvent atoms due to solvent-solvent overlap\n",
      "Removed 4110 solvent atoms due to solute-solvent overlap\n",
      "Sorting configuration\n",
      "Found 1 molecule type:\n",
      "    SOL (   3 atoms): 11777 residues\n",
      "Generated solvent containing 35331 atoms in 11777 residues\n",
      "Writing generated configuration to 1fjs_solv.gro\n",
      "\n",
      "Output configuration contains 39748 atoms in 12063 residues\n",
      "Volume                 :     399.595 (nm^3)\n",
      "Density                :     1023.56 (g/l)\n",
      "Number of solvent molecules:  11777   \n",
      "\n",
      "Processing topology\n",
      "Adding line for 11777 solvent molecules with resname (SOL) to topology file (topol.top)\n",
      "\n",
      "Back Off! I just backed up topol.top to ./#topol.top.1#\n",
      "\n",
      "GROMACS reminds you: \"A programmer's spouse says 'While you're at the grocery store, buy some eggs.' The programmer never comes back.\" (Anonymous)\n",
      "\n"
     ]
    }
   ],
   "source": [
    "# fill the box with water: gmx solvate \n",
    "!gmx solvate -cp 1fjs_newbox.gro -cs spc216.gro -o 1fjs_solv.gro -p topol.top"
   ]
  },
  {
   "cell_type": "markdown",
   "metadata": {
    "nbpresent": {
     "id": "3fb8e6fc-1343-47e9-925c-c754b822b91b"
    }
   },
   "source": [
    "- `-cp` configuration of the proteinis contained in the output of `gmx editconf` step, \n",
    "- `-cs` configuration of the solvent (spc216.gro) is a generic equilibrated 3-point solvent model box.\n",
    "- The output is called `1fjs_solv.gro`, and we tell solvate the name of the topology file (topol.top) so it can be modified. "
   ]
  },
  {
   "cell_type": "markdown",
   "metadata": {
    "nbpresent": {
     "id": "33086651-f3c8-43b7-b47f-36645fa72aaa"
    }
   },
   "source": [
    "### Adding Ions"
   ]
  },
  {
   "cell_type": "markdown",
   "metadata": {
    "nbpresent": {
     "id": "1c524b7e-8fcc-420a-b0fb-8ccb7d0f54c1"
    }
   },
   "source": [
    "We now have a solvated system that contains a charged protein. \n",
    "- The output of `pdb2gmx` told us that the protein has a net charge of -2e (based on its amino acid composition). \n",
    "- -  look at the last line of each [ atoms ] directive in topology file; it should read  \"qtot 1.\" for chain A and  \"qtot -3.\" for chain L. \n",
    "- - Since life does not exist at a net charge, we must add ions to our system. \n",
    "- We aim to approximate physiological conditions and use therefore a NaCl concentration of 0.15 M."
   ]
  },
  {
   "cell_type": "markdown",
   "metadata": {
    "nbpresent": {
     "id": "3c3ff084-1058-4bf3-afa0-a0cea3c1df09"
    }
   },
   "source": [
    "### Preparing the input for \"gmx genion\""
   ]
  },
  {
   "cell_type": "markdown",
   "metadata": {
    "nbpresent": {
     "id": "68bf2221-bfce-429a-95d9-156af62a3359"
    }
   },
   "source": [
    "The tool for adding ions within GROMACS is called [`gmx genion`](https://manual.gromacs.org/current/onlinehelp/gmx-genion.html). \n",
    "- `gmx genion` reads through the topology and replaces water molecules with the ions that the user specifies. \n",
    "  - `-s`: structure/state file\n",
    "  - `-o`: output is `.gro` file\n",
    "  - `-p`: process the topology to reflect the removal of water molecules and addition of ions. \n",
    "  - `-pname`, `-nname` define positive and negative ion names. (standardized, do not depend on the force field.)\n",
    "  - `-neutral` tells the gmx genion command to add ions necessary to neutralize the net charge on the protein by adding the correct number of negative ions. \n",
    "  - `conc`: add a specified concentration of ions. works in conjunction with `-neutral`: to neutralize the system \n",
    "  - *Note: Make sure to run `gmx genion` only once. This edits the topology \"in-place\" and any additions to it will stack. Start over with the `pdb2gmx` if you accidentally run it twice.\n",
    "- `.tpr` input file is called a run input file, produced by the GROMACS grompp module (GROMACS pre-processor), and contains all the parameters for all of the stoms in the system.\n",
    "- `grompp` processes coordinate file + topology information + `.mdp` parameters to generate an atomic-level input (`.tpr`). \n",
    "  - `.mdp`: (molecular dynamics parameter file)"
   ]
  },
  {
   "cell_type": "code",
   "execution_count": 19,
   "metadata": {},
   "outputs": [],
   "source": [
    "# create an empty mdp file so it can be used to create an ions.tpr file \n",
    "!touch ions.mdp"
   ]
  },
  {
   "cell_type": "code",
   "execution_count": 20,
   "metadata": {
    "nbpresent": {
     "id": "1bc074e1-d521-46ec-b9a2-359cdea24637"
    },
    "scrolled": true
   },
   "outputs": [
    {
     "name": "stdout",
     "output_type": "stream",
     "text": [
      "              :-) GROMACS - gmx grompp, 2021.4-Ubuntu-2021.4-2 (-:\n",
      "\n",
      "                            GROMACS is written by:\n",
      "     Andrey Alekseenko              Emile Apol              Rossen Apostolov     \n",
      "         Paul Bauer           Herman J.C. Berendsen           Par Bjelkmar       \n",
      "       Christian Blau           Viacheslav Bolnykh             Kevin Boyd        \n",
      "     Aldert van Buuren           Rudi van Drunen             Anton Feenstra      \n",
      "    Gilles Gouaillardet             Alan Gray               Gerrit Groenhof      \n",
      "       Anca Hamuraru            Vincent Hindriksen          M. Eric Irrgang      \n",
      "      Aleksei Iupinov           Christoph Junghans             Joe Jordan        \n",
      "    Dimitrios Karkoulis            Peter Kasson                Jiri Kraus        \n",
      "      Carsten Kutzner              Per Larsson              Justin A. Lemkul     \n",
      "       Viveca Lindahl            Magnus Lundborg             Erik Marklund       \n",
      "        Pascal Merz             Pieter Meulenhoff            Teemu Murtola       \n",
      "        Szilard Pall               Sander Pronk              Roland Schulz       \n",
      "       Michael Shirts            Alexey Shvetsov             Alfons Sijbers      \n",
      "       Peter Tieleman              Jon Vincent              Teemu Virolainen     \n",
      "     Christian Wennberg            Maarten Wolf              Artem Zhmurov       \n",
      "                           and the project leaders:\n",
      "        Mark Abraham, Berk Hess, Erik Lindahl, and David van der Spoel\n",
      "\n",
      "Copyright (c) 1991-2000, University of Groningen, The Netherlands.\n",
      "Copyright (c) 2001-2019, The GROMACS development team at\n",
      "Uppsala University, Stockholm University and\n",
      "the Royal Institute of Technology, Sweden.\n",
      "check out http://www.gromacs.org for more information.\n",
      "\n",
      "GROMACS is free software; you can redistribute it and/or modify it\n",
      "under the terms of the GNU Lesser General Public License\n",
      "as published by the Free Software Foundation; either version 2.1\n",
      "of the License, or (at your option) any later version.\n",
      "\n",
      "GROMACS:      gmx grompp, version 2021.4-Ubuntu-2021.4-2\n",
      "Executable:   /usr/bin/gmx\n",
      "Data prefix:  /usr\n",
      "Working dir:  /workspace/folding/md-intro-tutorial/md-intro-tutorial-main/data\n",
      "Command line:\n",
      "  gmx grompp -f ions.mdp -c 1fjs_solv.gro -p topol.top -o ions.tpr\n",
      "\n",
      "\n",
      "NOTE 1 [file ions.mdp]:\n",
      "  For a correct single-point energy evaluation with nsteps = 0, use\n",
      "  continuation = yes to avoid constraining the input coordinates.\n",
      "\n",
      "Setting the LD random seed to -36080998\n",
      "\n",
      "Generated 20503 of the 20503 non-bonded parameter combinations\n",
      "Generating 1-4 interactions: fudge = 1\n",
      "\n",
      "Generated 17396 of the 20503 1-4 parameter combinations\n",
      "\n",
      "Excluding 3 bonded neighbours molecule type 'Protein_chain_A'\n",
      "\n",
      "Excluding 3 bonded neighbours molecule type 'Protein_chain_L'\n",
      "\n",
      "Excluding 2 bonded neighbours molecule type 'SOL'\n",
      "\n",
      "NOTE 2 [file topol.top, line 48]:\n",
      "  System has non-zero total charge: -2.000000\n",
      "  Total charge should normally be an integer. See\n",
      "  http://www.gromacs.org/Documentation/Floating_Point_Arithmetic\n",
      "  for discussion on how close it should be to an integer.\n",
      "  \n",
      "\n",
      "\n",
      "\n",
      "NOTE 3 [file topol.top, line 48]:\n",
      "  The bond in molecule-type Protein_chain_A between atoms 415 OG1 and 416\n",
      "  HG1 has an estimated oscillational period of 9.1e-03 ps, which is less\n",
      "  than 10 times the time step of 1.0e-03 ps.\n",
      "  Maybe you forgot to change the constraints mdp option.\n",
      "\n",
      "Analysing residue names:\n",
      "There are:   286    Protein residues\n",
      "There are: 11777      Water residues\n",
      "Analysing Protein...\n",
      "Number of degrees of freedom in T-Coupling group rest is 83910.00\n",
      "\n",
      "NOTE 4 [file ions.mdp]:\n",
      "  NVE simulation with an initial temperature of zero: will use a Verlet\n",
      "  buffer of 10%. Check your energy drift!\n",
      "\n",
      "\n",
      "NOTE 5 [file ions.mdp]:\n",
      "  You are using a plain Coulomb cut-off, which might produce artifacts.\n",
      "  You might want to consider using PME electrostatics.\n",
      "\n",
      "\n",
      "\n",
      "This run will generate roughly 3 Mb of data\n",
      "\n",
      "There were 5 notes\n",
      "\n",
      "GROMACS reminds you: \"All Work and No Play Makes Jack a Dull Boy\" (The Shining)\n",
      "\n"
     ]
    }
   ],
   "source": [
    "# assembling / processing .tpr file with gmx grompp \n",
    "!gmx grompp -f ions.mdp -c 1fjs_solv.gro -p topol.top -o ions.tpr"
   ]
  },
  {
   "cell_type": "markdown",
   "metadata": {},
   "source": [
    "*Note: A lot of GROMACS tools promt for input at the command line. As this does not play well with the jupyter notebook setup, we feed the input to the command line with a print command and a newline \\n substituting enter*"
   ]
  },
  {
   "cell_type": "code",
   "execution_count": 21,
   "metadata": {
    "nbpresent": {
     "id": "88837846-7a76-4ce4-9419-6588a42e8b1f"
    },
    "scrolled": true
   },
   "outputs": [
    {
     "name": "stdout",
     "output_type": "stream",
     "text": [
      "              :-) GROMACS - gmx genion, 2021.4-Ubuntu-2021.4-2 (-:\n",
      "\n",
      "                            GROMACS is written by:\n",
      "     Andrey Alekseenko              Emile Apol              Rossen Apostolov     \n",
      "         Paul Bauer           Herman J.C. Berendsen           Par Bjelkmar       \n",
      "       Christian Blau           Viacheslav Bolnykh             Kevin Boyd        \n",
      "     Aldert van Buuren           Rudi van Drunen             Anton Feenstra      \n",
      "    Gilles Gouaillardet             Alan Gray               Gerrit Groenhof      \n",
      "       Anca Hamuraru            Vincent Hindriksen          M. Eric Irrgang      \n",
      "      Aleksei Iupinov           Christoph Junghans             Joe Jordan        \n",
      "    Dimitrios Karkoulis            Peter Kasson                Jiri Kraus        \n",
      "      Carsten Kutzner              Per Larsson              Justin A. Lemkul     \n",
      "       Viveca Lindahl            Magnus Lundborg             Erik Marklund       \n",
      "        Pascal Merz             Pieter Meulenhoff            Teemu Murtola       \n",
      "        Szilard Pall               Sander Pronk              Roland Schulz       \n",
      "       Michael Shirts            Alexey Shvetsov             Alfons Sijbers      \n",
      "       Peter Tieleman              Jon Vincent              Teemu Virolainen     \n",
      "     Christian Wennberg            Maarten Wolf              Artem Zhmurov       \n",
      "                           and the project leaders:\n",
      "        Mark Abraham, Berk Hess, Erik Lindahl, and David van der Spoel\n",
      "\n",
      "Copyright (c) 1991-2000, University of Groningen, The Netherlands.\n",
      "Copyright (c) 2001-2019, The GROMACS development team at\n",
      "Uppsala University, Stockholm University and\n",
      "the Royal Institute of Technology, Sweden.\n",
      "check out http://www.gromacs.org for more information.\n",
      "\n",
      "GROMACS is free software; you can redistribute it and/or modify it\n",
      "under the terms of the GNU Lesser General Public License\n",
      "as published by the Free Software Foundation; either version 2.1\n",
      "of the License, or (at your option) any later version.\n",
      "\n",
      "GROMACS:      gmx genion, version 2021.4-Ubuntu-2021.4-2\n",
      "Executable:   /usr/bin/gmx\n",
      "Data prefix:  /usr\n",
      "Working dir:  /workspace/folding/md-intro-tutorial/md-intro-tutorial-main/data\n",
      "Command line:\n",
      "  gmx genion -s ions.tpr -o 1fjs_solv_ions.gro -conc 0.15 -p topol.top -pname NA -nname CL -neutral\n",
      "\n",
      "Reading file ions.tpr, VERSION 2021.4-Ubuntu-2021.4-2 (single precision)\n",
      "Reading file ions.tpr, VERSION 2021.4-Ubuntu-2021.4-2 (single precision)\n",
      "Will try to add 38 NA ions and 36 CL ions.\n",
      "Select a continuous group of solvent molecules\n",
      "Group     0 (         System) has 39748 elements\n",
      "Group     1 (        Protein) has  4417 elements\n",
      "Group     2 (      Protein-H) has  2238 elements\n",
      "Group     3 (        C-alpha) has   286 elements\n",
      "Group     4 (       Backbone) has   858 elements\n",
      "Group     5 (      MainChain) has  1142 elements\n",
      "Group     6 (   MainChain+Cb) has  1401 elements\n",
      "Group     7 (    MainChain+H) has  1423 elements\n",
      "Group     8 (      SideChain) has  2994 elements\n",
      "Group     9 (    SideChain-H) has  1096 elements\n",
      "Group    10 (    Prot-Masses) has  4417 elements\n",
      "Group    11 (    non-Protein) has 35331 elements\n",
      "Group    12 (          Water) has 35331 elements\n",
      "Group    13 (            SOL) has 35331 elements\n",
      "Group    14 (      non-Water) has  4417 elements\n",
      "Select a group: Selected 13: 'SOL'\n",
      "Number of (3-atomic) solvent molecules: 11777\n",
      "\n",
      "Processing topology\n",
      "Replacing 74 solute molecules in topology file (topol.top)  by 38 NA and 36 CL ions.\n",
      "\n",
      "Back Off! I just backed up topol.top to ./#topol.top.2#\n",
      "Using random seed -1107374577.\n",
      "Replacing solvent molecule 1476 (atom 8845) with NA\n",
      "Replacing solvent molecule 6738 (atom 24631) with NA\n",
      "Replacing solvent molecule 321 (atom 5380) with NA\n",
      "Replacing solvent molecule 11760 (atom 39697) with NA\n",
      "Replacing solvent molecule 10858 (atom 36991) with NA\n",
      "Replacing solvent molecule 7194 (atom 25999) with NA\n",
      "Replacing solvent molecule 3321 (atom 14380) with NA\n",
      "Replacing solvent molecule 7570 (atom 27127) with NA\n",
      "Replacing solvent molecule 1166 (atom 7915) with NA\n",
      "Replacing solvent molecule 10601 (atom 36220) with NA\n",
      "Replacing solvent molecule 8339 (atom 29434) with NA\n",
      "Replacing solvent molecule 369 (atom 5524) with NA\n",
      "Replacing solvent molecule 11245 (atom 38152) with NA\n",
      "Replacing solvent molecule 983 (atom 7366) with NA\n",
      "Replacing solvent molecule 3928 (atom 16201) with NA\n",
      "Replacing solvent molecule 3890 (atom 16087) with NA\n",
      "Replacing solvent molecule 4313 (atom 17356) with NA\n",
      "Replacing solvent molecule 11072 (atom 37633) with NA\n",
      "Replacing solvent molecule 6897 (atom 25108) with NA\n",
      "Replacing solvent molecule 10185 (atom 34972) with NA\n",
      "Replacing solvent molecule 8549 (atom 30064) with NA\n",
      "Replacing solvent molecule 4939 (atom 19234) with NA\n",
      "Replacing solvent molecule 4593 (atom 18196) with NA\n",
      "Replacing solvent molecule 8679 (atom 30454) with NA\n",
      "Replacing solvent molecule 5441 (atom 20740) with NA\n",
      "Replacing solvent molecule 503 (atom 5926) with NA\n",
      "Replacing solvent molecule 2868 (atom 13021) with NA\n",
      "Replacing solvent molecule 876 (atom 7045) with NA\n",
      "Replacing solvent molecule 368 (atom 5521) with NA\n",
      "Replacing solvent molecule 7160 (atom 25897) with NA\n",
      "Replacing solvent molecule 11120 (atom 37777) with NA\n",
      "Replacing solvent molecule 5980 (atom 22357) with NA\n",
      "Replacing solvent molecule 9145 (atom 31852) with NA\n",
      "Replacing solvent molecule 8131 (atom 28810) with NA\n",
      "Replacing solvent molecule 4205 (atom 17032) with NA\n",
      "Replacing solvent molecule 5717 (atom 21568) with NA\n",
      "Replacing solvent molecule 8575 (atom 30142) with NA\n",
      "Replacing solvent molecule 3433 (atom 14716) with NA\n",
      "Replacing solvent molecule 11266 (atom 38215) with CL\n",
      "Replacing solvent molecule 1475 (atom 8842) with CL\n",
      "Replacing solvent molecule 9561 (atom 33100) with CL\n",
      "Replacing solvent molecule 6562 (atom 24103) with CL\n",
      "Replacing solvent molecule 4976 (atom 19345) with CL\n",
      "Replacing solvent molecule 11619 (atom 39274) with CL\n",
      "Replacing solvent molecule 8562 (atom 30103) with CL\n",
      "Replacing solvent molecule 9623 (atom 33286) with CL\n",
      "Replacing solvent molecule 9585 (atom 33172) with CL\n",
      "Replacing solvent molecule 7263 (atom 26206) with CL\n",
      "Replacing solvent molecule 3812 (atom 15853) with CL\n",
      "Replacing solvent molecule 7417 (atom 26668) with CL\n",
      "Replacing solvent molecule 9316 (atom 32365) with CL\n",
      "Replacing solvent molecule 6891 (atom 25090) with CL\n",
      "Replacing solvent molecule 8653 (atom 30376) with CL\n",
      "Replacing solvent molecule 267 (atom 5218) with CL\n",
      "Replacing solvent molecule 2789 (atom 12784) with CL\n",
      "Replacing solvent molecule 10724 (atom 36589) with CL\n",
      "Replacing solvent molecule 4803 (atom 18826) with CL\n",
      "Replacing solvent molecule 7236 (atom 26125) with CL\n",
      "Replacing solvent molecule 2998 (atom 13411) with CL\n",
      "Replacing solvent molecule 7296 (atom 26305) with CL\n",
      "Replacing solvent molecule 7292 (atom 26293) with CL\n",
      "Replacing solvent molecule 6236 (atom 23125) with CL\n",
      "Replacing solvent molecule 5681 (atom 21460) with CL\n",
      "Replacing solvent molecule 3783 (atom 15766) with CL\n",
      "Replacing solvent molecule 5057 (atom 19588) with CL\n",
      "Replacing solvent molecule 3533 (atom 15016) with CL\n",
      "Replacing solvent molecule 2347 (atom 11458) with CL\n",
      "Replacing solvent molecule 8968 (atom 31321) with CL\n",
      "Replacing solvent molecule 2015 (atom 10462) with CL\n",
      "Replacing solvent molecule 1317 (atom 8368) with CL\n",
      "Replacing solvent molecule 7028 (atom 25501) with CL\n",
      "Replacing solvent molecule 6402 (atom 23623) with CL\n",
      "Replacing solvent molecule 2774 (atom 12739) with CL\n",
      "Replacing solvent molecule 918 (atom 7171) with CL\n",
      "\n",
      "\n",
      "GROMACS reminds you: \"Today we're not going to optimize our CUDA code, cause that's just a rabbit hole of misery!\" (Tim Warburton)\n",
      "\n"
     ]
    }
   ],
   "source": [
    "!printf \"SOL\\n\" | gmx genion -s ions.tpr -o 1fjs_solv_ions.gro -conc 0.15 -p \\\n",
    "topol.top -pname NA -nname CL -neutral"
   ]
  },
  {
   "cell_type": "markdown",
   "metadata": {
    "nbpresent": {
     "id": "af2e805e-ca9f-4b95-b58f-0d4055f7d165"
    }
   },
   "source": [
    "We chose group \"SOL\" for embedding ions. You do not want to replace parts of your protein with ions."
   ]
  },
  {
   "cell_type": "markdown",
   "metadata": {
    "nbpresent": {
     "id": "bb96f417-4653-4a5e-914c-54771fe98290"
    }
   },
   "source": [
    "### Energy minimization - Ensure that we have a reasonable starting structure in terms of geometry and solvent orientation"
   ]
  },
  {
   "cell_type": "markdown",
   "metadata": {
    "nbpresent": {
     "id": "60af9d49-7607-43dd-b50e-ed6111b93c45"
    }
   },
   "source": [
    "First we must ensure the system has no steric clashes or inappropriate geometry. Then the structure is relaxed through a process called energy minimization (EM).\n",
    "- once again going to use `gmx grompp` to assemble the structure, topology, and simulation parameters into a binary input file (.tpr)\n",
    "  - Its important that we have been updating our topol.top file when running genbox and genion, or else we will get lots of error messages (\"number of coordinates in coordinate file does not match topology,\" etc).\n",
    "- then use GROMACS MD engine, mdrun, to run the energy minimization\n",
    "- `em.gro`: output file containing the energy minimized structure \n",
    "- `em.log`: ASCII-text log file containing more information on the run\n",
    "- `em.edr`: file for storage of energy \n",
    "- `em.trr`: Binary full-precision trajectory file\n"
   ]
  },
  {
   "cell_type": "code",
   "execution_count": 22,
   "metadata": {
    "nbpresent": {
     "id": "34b6c3cb-5926-4ba5-b97a-8b42457956ce"
    },
    "scrolled": true
   },
   "outputs": [
    {
     "name": "stdout",
     "output_type": "stream",
     "text": [
      "              :-) GROMACS - gmx grompp, 2021.4-Ubuntu-2021.4-2 (-:\n",
      "\n",
      "                            GROMACS is written by:\n",
      "     Andrey Alekseenko              Emile Apol              Rossen Apostolov     \n",
      "         Paul Bauer           Herman J.C. Berendsen           Par Bjelkmar       \n",
      "       Christian Blau           Viacheslav Bolnykh             Kevin Boyd        \n",
      "     Aldert van Buuren           Rudi van Drunen             Anton Feenstra      \n",
      "    Gilles Gouaillardet             Alan Gray               Gerrit Groenhof      \n",
      "       Anca Hamuraru            Vincent Hindriksen          M. Eric Irrgang      \n",
      "      Aleksei Iupinov           Christoph Junghans             Joe Jordan        \n",
      "    Dimitrios Karkoulis            Peter Kasson                Jiri Kraus        \n",
      "      Carsten Kutzner              Per Larsson              Justin A. Lemkul     \n",
      "       Viveca Lindahl            Magnus Lundborg             Erik Marklund       \n",
      "        Pascal Merz             Pieter Meulenhoff            Teemu Murtola       \n",
      "        Szilard Pall               Sander Pronk              Roland Schulz       \n",
      "       Michael Shirts            Alexey Shvetsov             Alfons Sijbers      \n",
      "       Peter Tieleman              Jon Vincent              Teemu Virolainen     \n",
      "     Christian Wennberg            Maarten Wolf              Artem Zhmurov       \n",
      "                           and the project leaders:\n",
      "        Mark Abraham, Berk Hess, Erik Lindahl, and David van der Spoel\n",
      "\n",
      "Copyright (c) 1991-2000, University of Groningen, The Netherlands.\n",
      "Copyright (c) 2001-2019, The GROMACS development team at\n",
      "Uppsala University, Stockholm University and\n",
      "the Royal Institute of Technology, Sweden.\n",
      "check out http://www.gromacs.org for more information.\n",
      "\n",
      "GROMACS is free software; you can redistribute it and/or modify it\n",
      "under the terms of the GNU Lesser General Public License\n",
      "as published by the Free Software Foundation; either version 2.1\n",
      "of the License, or (at your option) any later version.\n",
      "\n",
      "GROMACS:      gmx grompp, version 2021.4-Ubuntu-2021.4-2\n",
      "Executable:   /usr/bin/gmx\n",
      "Data prefix:  /usr\n",
      "Working dir:  /workspace/folding/md-intro-tutorial/md-intro-tutorial-main/data\n",
      "Command line:\n",
      "  gmx grompp -f input/emin-charmm.mdp -c 1fjs_solv_ions.gro -p topol.top -o em.tpr\n",
      "\n",
      "Ignoring obsolete mdp entry 'title'\n",
      "Setting the LD random seed to -145787649\n",
      "\n",
      "Generated 20503 of the 20503 non-bonded parameter combinations\n",
      "Generating 1-4 interactions: fudge = 1\n",
      "\n",
      "Generated 17396 of the 20503 1-4 parameter combinations\n",
      "\n",
      "Excluding 3 bonded neighbours molecule type 'Protein_chain_A'\n",
      "\n",
      "turning H bonds into constraints...\n",
      "\n",
      "Excluding 3 bonded neighbours molecule type 'Protein_chain_L'\n",
      "\n",
      "turning H bonds into constraints...\n",
      "\n",
      "Excluding 2 bonded neighbours molecule type 'SOL'\n",
      "\n",
      "turning H bonds into constraints...\n",
      "\n",
      "Excluding 1 bonded neighbours molecule type 'NA'\n",
      "\n",
      "turning H bonds into constraints...\n",
      "\n",
      "Excluding 1 bonded neighbours molecule type 'CL'\n",
      "\n",
      "turning H bonds into constraints...\n",
      "Analysing residue names:\n",
      "There are:   286    Protein residues\n",
      "There are: 11703      Water residues\n",
      "There are:    74        Ion residues\n",
      "Analysing Protein...\n",
      "Analysing residues not classified as Protein/DNA/RNA/Water and splitting into groups...\n",
      "Number of degrees of freedom in T-Coupling group rest is 81509.00\n",
      "Calculating fourier grid dimensions for X Y Z\n",
      "Using a fourier grid of 56x56x56, spacing 0.148 0.148 0.148\n",
      "\n",
      "Estimate for the relative computational load of the PME mesh part: 0.10\n",
      "\n",
      "This run will generate roughly 3 Mb of data\n",
      "\n",
      "GROMACS reminds you: \"I Don't Want to Catch Anybody Not Drinking.\" (Monty Python)\n",
      "\n"
     ]
    }
   ],
   "source": [
    "# prepare the .tpr binary input file\n",
    "!gmx grompp -f input/emin-charmm.mdp -c 1fjs_solv_ions.gro -p topol.top -o em.tpr"
   ]
  },
  {
   "cell_type": "code",
   "execution_count": 23,
   "metadata": {
    "nbpresent": {
     "id": "eb3e7e13-d78e-4c99-806c-99e9b30d3d69"
    },
    "scrolled": true
   },
   "outputs": [
    {
     "name": "stdout",
     "output_type": "stream",
     "text": [
      "              :-) GROMACS - gmx mdrun, 2021.4-Ubuntu-2021.4-2 (-:\n",
      "\n",
      "                            GROMACS is written by:\n",
      "     Andrey Alekseenko              Emile Apol              Rossen Apostolov     \n",
      "         Paul Bauer           Herman J.C. Berendsen           Par Bjelkmar       \n",
      "       Christian Blau           Viacheslav Bolnykh             Kevin Boyd        \n",
      "     Aldert van Buuren           Rudi van Drunen             Anton Feenstra      \n",
      "    Gilles Gouaillardet             Alan Gray               Gerrit Groenhof      \n",
      "       Anca Hamuraru            Vincent Hindriksen          M. Eric Irrgang      \n",
      "      Aleksei Iupinov           Christoph Junghans             Joe Jordan        \n",
      "    Dimitrios Karkoulis            Peter Kasson                Jiri Kraus        \n",
      "      Carsten Kutzner              Per Larsson              Justin A. Lemkul     \n",
      "       Viveca Lindahl            Magnus Lundborg             Erik Marklund       \n",
      "        Pascal Merz             Pieter Meulenhoff            Teemu Murtola       \n",
      "        Szilard Pall               Sander Pronk              Roland Schulz       \n",
      "       Michael Shirts            Alexey Shvetsov             Alfons Sijbers      \n",
      "       Peter Tieleman              Jon Vincent              Teemu Virolainen     \n",
      "     Christian Wennberg            Maarten Wolf              Artem Zhmurov       \n",
      "                           and the project leaders:\n",
      "        Mark Abraham, Berk Hess, Erik Lindahl, and David van der Spoel\n",
      "\n",
      "Copyright (c) 1991-2000, University of Groningen, The Netherlands.\n",
      "Copyright (c) 2001-2019, The GROMACS development team at\n",
      "Uppsala University, Stockholm University and\n",
      "the Royal Institute of Technology, Sweden.\n",
      "check out http://www.gromacs.org for more information.\n",
      "\n",
      "GROMACS is free software; you can redistribute it and/or modify it\n",
      "under the terms of the GNU Lesser General Public License\n",
      "as published by the Free Software Foundation; either version 2.1\n",
      "of the License, or (at your option) any later version.\n",
      "\n",
      "GROMACS:      gmx mdrun, version 2021.4-Ubuntu-2021.4-2\n",
      "Executable:   /usr/bin/gmx\n",
      "Data prefix:  /usr\n",
      "Working dir:  /workspace/folding/md-intro-tutorial/md-intro-tutorial-main/data\n",
      "Command line:\n",
      "  gmx mdrun -v -deffnm em\n",
      "\n",
      "Compiled SIMD: SSE4.1, but for this host/run AVX2_256 might be better (see\n",
      "log).\n",
      "Reading file em.tpr, VERSION 2021.4-Ubuntu-2021.4-2 (single precision)\n",
      "Using 256 MPI threads\n",
      "Using 1 OpenMP thread per tMPI thread\n",
      "\n",
      "\n",
      "Steepest Descents:\n",
      "   Tolerance (Fmax)   =  1.00000e+03\n",
      "   Number of steps    =           -1\n",
      "Step=    0, Dmax= 1.0e-02 nm, Epot= -1.50231e+05 Fmax= 4.92599e+05, atom= 6407\n",
      "Step=    1, Dmax= 1.0e-02 nm, Epot= -1.87273e+05 Fmax= 1.29703e+05, atom= 6407\n",
      "Step=    2, Dmax= 1.2e-02 nm, Epot= -2.54984e+05 Fmax= 4.43447e+04, atom= 17756\n",
      "Step=    3, Dmax= 1.4e-02 nm, Epot= -3.20160e+05 Fmax= 2.77735e+04, atom= 1444\n",
      "Step=    4, Dmax= 1.7e-02 nm, Epot= -3.57545e+05 Fmax= 2.05426e+04, atom= 4416\n",
      "Step=    5, Dmax= 2.1e-02 nm, Epot= -3.85038e+05 Fmax= 1.58930e+04, atom= 4416\n",
      "Step=    6, Dmax= 2.5e-02 nm, Epot= -4.07569e+05 Fmax= 1.01436e+04, atom= 4416\n",
      "Step=    7, Dmax= 3.0e-02 nm, Epot= -4.31316e+05 Fmax= 1.29813e+04, atom= 34895\n",
      "Step=    8, Dmax= 3.6e-02 nm, Epot= -4.44675e+05 Fmax= 1.04424e+04, atom= 34895\n",
      "Step=    9, Dmax= 4.3e-02 nm, Epot= -4.58419e+05 Fmax= 2.87865e+04, atom= 34895\n",
      "\n",
      "Step 11, time 0.011 (ps)  LINCS WARNING\n",
      "relative constraint deviation after LINCS:\n",
      "rms 0.000507, max 0.002794 (between atoms 1442 and 1443)\n",
      "bonds that rotated more than 30 degrees:\n",
      " atom 1 atom 2  angle  previous, current, constraint length\n",
      "   1445   1446   30.5    0.1000   0.1000      0.1000\n",
      "Step=   10, Dmax= 5.2e-02 nm, Epot= -4.63883e+05 Fmax= 1.33981e+04, atom= 4060\n",
      "Step=   12, Dmax= 3.1e-02 nm, Epot= -4.68128e+05 Fmax= 2.69258e+04, atom= 4060\n",
      "Step=   13, Dmax= 3.7e-02 nm, Epot= -4.72244e+05 Fmax= 2.06453e+04, atom= 4060\n",
      "Step=   14, Dmax= 4.5e-02 nm, Epot= -4.74171e+05 Fmax= 3.72337e+04, atom= 4060\n",
      "Step=   15, Dmax= 5.3e-02 nm, Epot= -4.77985e+05 Fmax= 3.12918e+04, atom= 4060\n",
      "Step=   17, Dmax= 3.2e-02 nm, Epot= -4.82182e+05 Fmax= 9.56772e+03, atom= 4060\n",
      "Step=   18, Dmax= 3.9e-02 nm, Epot= -4.84684e+05 Fmax= 3.90886e+04, atom= 4060\n",
      "Step=   19, Dmax= 4.6e-02 nm, Epot= -4.89636e+05 Fmax= 2.02448e+04, atom= 4060\n",
      "Step=   21, Dmax= 2.8e-02 nm, Epot= -4.92049e+05 Fmax= 1.50868e+04, atom= 4060\n",
      "Step=   22, Dmax= 3.3e-02 nm, Epot= -4.93331e+05 Fmax= 2.77428e+04, atom= 4060\n",
      "Step=   23, Dmax= 4.0e-02 nm, Epot= -4.95757e+05 Fmax= 2.31750e+04, atom= 4060\n",
      "Step=   25, Dmax= 2.4e-02 nm, Epot= -4.98525e+05 Fmax= 7.29355e+03, atom= 4060\n",
      "Step=   26, Dmax= 2.9e-02 nm, Epot= -5.00079e+05 Fmax= 2.90948e+04, atom= 4060\n",
      "Step=   27, Dmax= 3.5e-02 nm, Epot= -5.03565e+05 Fmax= 1.49070e+04, atom= 4060\n",
      "Step=   29, Dmax= 2.1e-02 nm, Epot= -5.05290e+05 Fmax= 1.14116e+04, atom= 4060\n",
      "Step=   30, Dmax= 2.5e-02 nm, Epot= -5.06141e+05 Fmax= 2.11276e+04, atom= 3836\n",
      "Step=   31, Dmax= 3.0e-02 nm, Epot= -5.08024e+05 Fmax= 1.78049e+04, atom= 3836\n",
      "Step=   33, Dmax= 1.8e-02 nm, Epot= -5.10047e+05 Fmax= 5.74857e+03, atom= 3836\n",
      "Step=   34, Dmax= 2.1e-02 nm, Epot= -5.11768e+05 Fmax= 2.20673e+04, atom= 3836\n",
      "Step=   35, Dmax= 2.6e-02 nm, Epot= -5.13899e+05 Fmax= 1.20078e+04, atom= 3836\n",
      "Step=   36, Dmax= 3.1e-02 nm, Epot= -5.14036e+05 Fmax= 2.80599e+04, atom= 3836\n",
      "Step=   37, Dmax= 3.7e-02 nm, Epot= -5.16149e+05 Fmax= 2.10488e+04, atom= 3836\n",
      "Step=   39, Dmax= 2.2e-02 nm, Epot= -5.17921e+05 Fmax= 8.21825e+03, atom= 3836\n",
      "Step=   40, Dmax= 2.7e-02 nm, Epot= -5.18700e+05 Fmax= 2.71746e+04, atom= 3836\n",
      "Step=   41, Dmax= 3.2e-02 nm, Epot= -5.20687e+05 Fmax= 1.48106e+04, atom= 3836\n",
      "Step=   43, Dmax= 1.9e-02 nm, Epot= -5.21791e+05 Fmax= 1.05148e+04, atom= 3836\n",
      "Step=   44, Dmax= 2.3e-02 nm, Epot= -5.22642e+05 Fmax= 1.95466e+04, atom= 3836\n",
      "Step=   45, Dmax= 2.8e-02 nm, Epot= -5.23740e+05 Fmax= 1.70452e+04, atom= 3836\n",
      "Step=   46, Dmax= 3.3e-02 nm, Epot= -5.24161e+05 Fmax= 2.61985e+04, atom= 3836\n",
      "Step=   47, Dmax= 4.0e-02 nm, Epot= -5.25098e+05 Fmax= 2.65868e+04, atom= 3836\n",
      "Step=   48, Dmax= 4.8e-02 nm, Epot= -5.25108e+05 Fmax= 3.56166e+04, atom= 3836\n",
      "Step=   49, Dmax= 5.7e-02 nm, Epot= -5.25535e+05 Fmax= 4.05828e+04, atom= 3836\n",
      "Step=   51, Dmax= 3.4e-02 nm, Epot= -5.28668e+05 Fmax= 5.06036e+03, atom= 3836\n",
      "Step=   52, Dmax= 4.1e-02 nm, Epot= -5.29871e+05 Fmax= 4.85132e+04, atom= 3836\n",
      "Step=   53, Dmax= 5.0e-02 nm, Epot= -5.33029e+05 Fmax= 1.66991e+04, atom= 3836\n",
      "Step=   55, Dmax= 3.0e-02 nm, Epot= -5.33571e+05 Fmax= 2.29720e+04, atom= 3836\n",
      "Step=   56, Dmax= 3.6e-02 nm, Epot= -5.34222e+05 Fmax= 2.35742e+04, atom= 3836\n",
      "Step=   57, Dmax= 4.3e-02 nm, Epot= -5.34412e+05 Fmax= 3.32340e+04, atom= 3836\n",
      "Step=   58, Dmax= 5.1e-02 nm, Epot= -5.35003e+05 Fmax= 3.37656e+04, atom= 3836\n",
      "Step=   60, Dmax= 3.1e-02 nm, Epot= -5.36700e+05 Fmax= 6.46360e+03, atom= 3836\n",
      "Step=   61, Dmax= 3.7e-02 nm, Epot= -5.37000e+05 Fmax= 4.21570e+04, atom= 3836\n",
      "Step=   62, Dmax= 4.4e-02 nm, Epot= -5.39202e+05 Fmax= 1.65348e+04, atom= 3836\n",
      "Step=   64, Dmax= 2.7e-02 nm, Epot= -5.39745e+05 Fmax= 1.83540e+04, atom= 3836\n",
      "Step=   65, Dmax= 3.2e-02 nm, Epot= -5.40162e+05 Fmax= 2.38031e+04, atom= 3836\n",
      "Step=   66, Dmax= 3.8e-02 nm, Epot= -5.40607e+05 Fmax= 2.62889e+04, atom= 3836\n",
      "Step=   67, Dmax= 4.6e-02 nm, Epot= -5.40743e+05 Fmax= 3.46130e+04, atom= 3836\n",
      "Step=   68, Dmax= 5.5e-02 nm, Epot= -5.41058e+05 Fmax= 3.73298e+04, atom= 3836\n",
      "Step=   70, Dmax= 3.3e-02 nm, Epot= -5.42808e+05 Fmax= 5.80567e+03, atom= 3836\n",
      "Step=   72, Dmax= 2.0e-02 nm, Epot= -5.43561e+05 Fmax= 2.07590e+04, atom= 3836\n",
      "Step=   73, Dmax= 2.4e-02 nm, Epot= -5.44274e+05 Fmax= 1.06052e+04, atom= 3836\n",
      "Step=   74, Dmax= 2.9e-02 nm, Epot= -5.44531e+05 Fmax= 2.66757e+04, atom= 3836\n",
      "Step=   75, Dmax= 3.4e-02 nm, Epot= -5.45325e+05 Fmax= 1.85436e+04, atom= 3836\n",
      "Step=   77, Dmax= 2.1e-02 nm, Epot= -5.45940e+05 Fmax= 8.59905e+03, atom= 3836\n",
      "Step=   78, Dmax= 2.5e-02 nm, Epot= -5.46342e+05 Fmax= 2.39588e+04, atom= 3836\n",
      "Step=   79, Dmax= 3.0e-02 nm, Epot= -5.47044e+05 Fmax= 1.49805e+04, atom= 3836\n",
      "Step=   81, Dmax= 1.8e-02 nm, Epot= -5.47545e+05 Fmax= 8.35251e+03, atom= 3836\n",
      "Step=   82, Dmax= 2.1e-02 nm, Epot= -5.47983e+05 Fmax= 1.96192e+04, atom= 3836\n",
      "Step=   83, Dmax= 2.6e-02 nm, Epot= -5.48537e+05 Fmax= 1.41194e+04, atom= 3836\n",
      "Step=   84, Dmax= 3.1e-02 nm, Epot= -5.48685e+05 Fmax= 2.60154e+04, atom= 3836\n",
      "Step=   85, Dmax= 3.7e-02 nm, Epot= -5.49246e+05 Fmax= 2.26734e+04, atom= 3836\n",
      "Step=   87, Dmax= 2.2e-02 nm, Epot= -5.49948e+05 Fmax= 6.55667e+03, atom= 3836\n",
      "Step=   88, Dmax= 2.7e-02 nm, Epot= -5.50347e+05 Fmax= 2.84140e+04, atom= 3836\n",
      "Step=   89, Dmax= 3.2e-02 nm, Epot= -5.51190e+05 Fmax= 1.35026e+04, atom= 3836\n",
      "Step=   91, Dmax= 1.9e-02 nm, Epot= -5.51596e+05 Fmax= 1.16389e+04, atom= 3836\n",
      "Step=   92, Dmax= 2.3e-02 nm, Epot= -5.51908e+05 Fmax= 1.84204e+04, atom= 3836\n",
      "Step=   93, Dmax= 2.8e-02 nm, Epot= -5.52302e+05 Fmax= 1.78950e+04, atom= 3836\n",
      "Step=   94, Dmax= 3.3e-02 nm, Epot= -5.52461e+05 Fmax= 2.52955e+04, atom= 3836\n",
      "Step=   95, Dmax= 4.0e-02 nm, Epot= -5.52774e+05 Fmax= 2.71123e+04, atom= 3836\n",
      "Step=   97, Dmax= 2.4e-02 nm, Epot= -5.53603e+05 Fmax= 4.37460e+03, atom= 3836\n",
      "Step=   98, Dmax= 2.9e-02 nm, Epot= -5.54246e+05 Fmax= 3.30236e+04, atom= 3836\n",
      "Step=   99, Dmax= 3.4e-02 nm, Epot= -5.55247e+05 Fmax= 1.20814e+04, atom= 3836\n",
      "Step=  101, Dmax= 2.1e-02 nm, Epot= -5.55559e+05 Fmax= 1.50793e+04, atom= 3836\n",
      "Step=  102, Dmax= 2.5e-02 nm, Epot= -5.55854e+05 Fmax= 1.72336e+04, atom= 3836\n",
      "Step=  103, Dmax= 3.0e-02 nm, Epot= -5.56082e+05 Fmax= 2.18794e+04, atom= 3836\n",
      "Step=  104, Dmax= 3.6e-02 nm, Epot= -5.56312e+05 Fmax= 2.45978e+04, atom= 3836\n",
      "Step=  105, Dmax= 4.3e-02 nm, Epot= -5.56364e+05 Fmax= 3.18254e+04, atom= 3836\n",
      "Step=  106, Dmax= 5.1e-02 nm, Epot= -5.56493e+05 Fmax= 3.49505e+04, atom= 3836\n",
      "Step=  108, Dmax= 3.1e-02 nm, Epot= -5.57666e+05 Fmax= 5.04569e+03, atom= 3836\n",
      "Step=  110, Dmax= 1.8e-02 nm, Epot= -5.58107e+05 Fmax= 1.95854e+04, atom= 3836\n",
      "Step=  111, Dmax= 2.2e-02 nm, Epot= -5.58575e+05 Fmax= 9.49057e+03, atom= 3836\n",
      "Step=  112, Dmax= 2.7e-02 nm, Epot= -5.58673e+05 Fmax= 2.51052e+04, atom= 3836\n",
      "Step=  113, Dmax= 3.2e-02 nm, Epot= -5.59209e+05 Fmax= 1.67854e+04, atom= 3836\n",
      "Step=  115, Dmax= 1.9e-02 nm, Epot= -5.59596e+05 Fmax= 8.38739e+03, atom= 3836\n",
      "Step=  116, Dmax= 2.3e-02 nm, Epot= -5.59790e+05 Fmax= 2.17900e+04, atom= 3836\n",
      "Step=  117, Dmax= 2.8e-02 nm, Epot= -5.60234e+05 Fmax= 1.43355e+04, atom= 3836\n",
      "Step=  119, Dmax= 1.7e-02 nm, Epot= -5.60567e+05 Fmax= 7.28893e+03, atom= 3836\n",
      "Step=  120, Dmax= 2.0e-02 nm, Epot= -5.60821e+05 Fmax= 1.86832e+04, atom= 3836\n",
      "Step=  121, Dmax= 2.4e-02 nm, Epot= -5.61204e+05 Fmax= 1.25755e+04, atom= 3836\n",
      "Step=  122, Dmax= 2.9e-02 nm, Epot= -5.61239e+05 Fmax= 2.46739e+04, atom= 3836\n",
      "Step=  123, Dmax= 3.4e-02 nm, Epot= -5.61643e+05 Fmax= 2.04251e+04, atom= 3836\n",
      "Step=  125, Dmax= 2.1e-02 nm, Epot= -5.62109e+05 Fmax= 6.67432e+03, atom= 3836\n",
      "Step=  126, Dmax= 2.5e-02 nm, Epot= -5.62266e+05 Fmax= 2.57541e+04, atom= 3836\n",
      "Step=  127, Dmax= 3.0e-02 nm, Epot= -5.62832e+05 Fmax= 1.31242e+04, atom= 3836\n",
      "Step=  129, Dmax= 1.8e-02 nm, Epot= -5.63110e+05 Fmax= 1.01627e+04, atom= 3836\n",
      "Step=  130, Dmax= 2.1e-02 nm, Epot= -5.63289e+05 Fmax= 1.77378e+04, atom= 3836\n",
      "Step=  131, Dmax= 2.6e-02 nm, Epot= -5.63575e+05 Fmax= 1.59021e+04, atom= 3836\n",
      "Step=  132, Dmax= 3.1e-02 nm, Epot= -5.63622e+05 Fmax= 2.41715e+04, atom= 3836\n",
      "Step=  133, Dmax= 3.7e-02 nm, Epot= -5.63869e+05 Fmax= 2.43685e+04, atom= 3836\n",
      "Step=  135, Dmax= 2.2e-02 nm, Epot= -5.64446e+05 Fmax= 4.81248e+03, atom= 3836\n",
      "Step=  136, Dmax= 2.7e-02 nm, Epot= -5.64661e+05 Fmax= 2.99405e+04, atom= 3836\n",
      "Step=  137, Dmax= 3.2e-02 nm, Epot= -5.65375e+05 Fmax= 1.18928e+04, atom= 3836\n",
      "Step=  139, Dmax= 1.9e-02 nm, Epot= -5.65593e+05 Fmax= 1.32208e+04, atom= 3836\n",
      "Step=  140, Dmax= 2.3e-02 nm, Epot= -5.65770e+05 Fmax= 1.67648e+04, atom= 3836\n",
      "Step=  141, Dmax= 2.8e-02 nm, Epot= -5.65944e+05 Fmax= 1.94532e+04, atom= 3836\n",
      "Step=  142, Dmax= 3.3e-02 nm, Epot= -5.66048e+05 Fmax= 2.36585e+04, atom= 3836\n",
      "Step=  143, Dmax= 4.0e-02 nm, Epot= -5.66113e+05 Fmax= 2.85928e+04, atom= 3836\n",
      "Step=  145, Dmax= 2.4e-02 nm, Epot= -5.66827e+05 Fmax= 2.83701e+03, atom= 3836\n",
      "Step=  146, Dmax= 2.9e-02 nm, Epot= -5.67441e+05 Fmax= 3.40826e+04, atom= 3836\n",
      "Step=  147, Dmax= 3.4e-02 nm, Epot= -5.68298e+05 Fmax= 1.08980e+04, atom= 3836\n",
      "Step=  149, Dmax= 2.1e-02 nm, Epot= -5.68449e+05 Fmax= 1.63245e+04, atom= 3836\n",
      "Step=  150, Dmax= 2.5e-02 nm, Epot= -5.68655e+05 Fmax= 1.58990e+04, atom= 3836\n",
      "Step=  151, Dmax= 3.0e-02 nm, Epot= -5.68706e+05 Fmax= 2.31283e+04, atom= 3836\n",
      "Step=  152, Dmax= 3.5e-02 nm, Epot= -5.68892e+05 Fmax= 2.32534e+04, atom= 3836\n",
      "Step=  154, Dmax= 2.1e-02 nm, Epot= -5.69386e+05 Fmax= 4.52321e+03, atom= 3836\n",
      "Step=  155, Dmax= 2.6e-02 nm, Epot= -5.69507e+05 Fmax= 2.90379e+04, atom= 3836\n",
      "Step=  156, Dmax= 3.1e-02 nm, Epot= -5.70168e+05 Fmax= 1.12230e+04, atom= 3836\n",
      "Step=  158, Dmax= 1.8e-02 nm, Epot= -5.70342e+05 Fmax= 1.28841e+04, atom= 3836\n",
      "Step=  159, Dmax= 2.2e-02 nm, Epot= -5.70488e+05 Fmax= 1.61513e+04, atom= 3836\n",
      "Step=  160, Dmax= 2.6e-02 nm, Epot= -5.70627e+05 Fmax= 1.85015e+04, atom= 3836\n",
      "Step=  161, Dmax= 3.2e-02 nm, Epot= -5.70698e+05 Fmax= 2.33893e+04, atom= 3836\n",
      "Step=  162, Dmax= 3.8e-02 nm, Epot= -5.70775e+05 Fmax= 2.64173e+04, atom= 3836\n",
      "Step=  164, Dmax= 2.3e-02 nm, Epot= -5.71373e+05 Fmax= 3.39734e+03, atom= 3836\n",
      "Step=  165, Dmax= 2.7e-02 nm, Epot= -5.71538e+05 Fmax= 3.29154e+04, atom= 3836\n",
      "Step=  166, Dmax= 3.3e-02 nm, Epot= -5.72375e+05 Fmax= 1.04214e+04, atom= 3836\n",
      "Step=  168, Dmax= 2.0e-02 nm, Epot= -5.72497e+05 Fmax= 1.53959e+04, atom= 3836\n",
      "Step=  169, Dmax= 2.4e-02 nm, Epot= -5.72665e+05 Fmax= 1.58249e+04, atom= 3836\n",
      "Step=  170, Dmax= 2.8e-02 nm, Epot= -5.72715e+05 Fmax= 2.13726e+04, atom= 3836\n",
      "Step=  171, Dmax= 3.4e-02 nm, Epot= -5.72830e+05 Fmax= 2.36424e+04, atom= 3836\n",
      "Step=  173, Dmax= 2.1e-02 nm, Epot= -5.73310e+05 Fmax= 3.42997e+03, atom= 3836\n",
      "Step=  174, Dmax= 2.5e-02 nm, Epot= -5.73542e+05 Fmax= 2.86978e+04, atom= 3836\n",
      "Step=  175, Dmax= 3.0e-02 nm, Epot= -5.74141e+05 Fmax= 1.01077e+04, atom= 3836\n",
      "Step=  177, Dmax= 1.8e-02 nm, Epot= -5.74278e+05 Fmax= 1.32314e+04, atom= 3836\n",
      "Step=  178, Dmax= 2.1e-02 nm, Epot= -5.74419e+05 Fmax= 1.45904e+04, atom= 3836\n",
      "Step=  179, Dmax= 2.6e-02 nm, Epot= -5.74503e+05 Fmax= 1.90084e+04, atom= 3836\n",
      "Step=  180, Dmax= 3.1e-02 nm, Epot= -5.74608e+05 Fmax= 2.10132e+04, atom= 3836\n",
      "Step=  182, Dmax= 1.8e-02 nm, Epot= -5.75002e+05 Fmax= 2.94917e+03, atom= 3836\n",
      "Step=  183, Dmax= 2.2e-02 nm, Epot= -5.75286e+05 Fmax= 2.61182e+04, atom= 3836\n",
      "Step=  184, Dmax= 2.6e-02 nm, Epot= -5.75822e+05 Fmax= 8.61659e+03, atom= 3836\n",
      "Step=  186, Dmax= 1.6e-02 nm, Epot= -5.75953e+05 Fmax= 1.21407e+04, atom= 3836\n",
      "Step=  187, Dmax= 1.9e-02 nm, Epot= -5.76096e+05 Fmax= 1.29019e+04, atom= 3836\n",
      "Step=  188, Dmax= 2.3e-02 nm, Epot= -5.76182e+05 Fmax= 1.69871e+04, atom= 3836\n",
      "Step=  189, Dmax= 2.7e-02 nm, Epot= -5.76290e+05 Fmax= 1.91146e+04, atom= 3836\n",
      "Step=  190, Dmax= 3.3e-02 nm, Epot= -5.76306e+05 Fmax= 2.38632e+04, atom= 3836\n",
      "Step=  191, Dmax= 3.9e-02 nm, Epot= -5.76321e+05 Fmax= 2.82099e+04, atom= 3836\n",
      "Step=  193, Dmax= 2.4e-02 nm, Epot= -5.76939e+05 Fmax= 3.12129e+03, atom= 3836\n",
      "Step=  194, Dmax= 2.8e-02 nm, Epot= -5.77051e+05 Fmax= 3.38136e+04, atom= 3836\n",
      "Step=  195, Dmax= 3.4e-02 nm, Epot= -5.77811e+05 Fmax= 1.10489e+04, atom= 3836\n",
      "Step=  197, Dmax= 2.0e-02 nm, Epot= -5.77892e+05 Fmax= 1.60274e+04, atom= 3836\n",
      "Step=  198, Dmax= 2.5e-02 nm, Epot= -5.78026e+05 Fmax= 1.61061e+04, atom= 3836\n",
      "Step=  200, Dmax= 1.5e-02 nm, Epot= -5.78279e+05 Fmax= 3.16064e+03, atom= 3836\n",
      "Step=  201, Dmax= 1.8e-02 nm, Epot= -5.78508e+05 Fmax= 2.00566e+04, atom= 3836\n",
      "Step=  202, Dmax= 2.1e-02 nm, Epot= -5.78837e+05 Fmax= 7.78332e+03, atom= 3836\n",
      "Step=  204, Dmax= 1.3e-02 nm, Epot= -5.78967e+05 Fmax= 8.92546e+03, atom= 3836\n",
      "Step=  205, Dmax= 1.5e-02 nm, Epot= -5.79086e+05 Fmax= 1.11540e+04, atom= 3836\n",
      "Step=  206, Dmax= 1.8e-02 nm, Epot= -5.79199e+05 Fmax= 1.28689e+04, atom= 3836\n",
      "Step=  207, Dmax= 2.2e-02 nm, Epot= -5.79284e+05 Fmax= 1.60888e+04, atom= 3836\n",
      "Step=  208, Dmax= 2.6e-02 nm, Epot= -5.79365e+05 Fmax= 1.84569e+04, atom= 3836\n",
      "Step=  209, Dmax= 3.2e-02 nm, Epot= -5.79380e+05 Fmax= 2.33044e+04, atom= 3836\n",
      "Step=  210, Dmax= 3.8e-02 nm, Epot= -5.79403e+05 Fmax= 2.63538e+04, atom= 3836\n",
      "Step=  212, Dmax= 2.3e-02 nm, Epot= -5.79945e+05 Fmax= 3.36364e+03, atom= 3836\n",
      "Step=  214, Dmax= 1.4e-02 nm, Epot= -5.80140e+05 Fmax= 1.48610e+04, atom= 3836\n",
      "Step=  215, Dmax= 1.6e-02 nm, Epot= -5.80352e+05 Fmax= 6.70298e+03, atom= 3836\n",
      "Step=  216, Dmax= 2.0e-02 nm, Epot= -5.80374e+05 Fmax= 1.90118e+04, atom= 3836\n",
      "Step=  217, Dmax= 2.4e-02 nm, Epot= -5.80626e+05 Fmax= 1.20324e+04, atom= 3836\n",
      "Step=  219, Dmax= 1.4e-02 nm, Epot= -5.80789e+05 Fmax= 6.63645e+03, atom= 3836\n",
      "Step=  220, Dmax= 1.7e-02 nm, Epot= -5.80858e+05 Fmax= 1.57404e+04, atom= 3836\n",
      "Step=  221, Dmax= 2.0e-02 nm, Epot= -5.81044e+05 Fmax= 1.10757e+04, atom= 3836\n",
      "Step=  223, Dmax= 1.2e-02 nm, Epot= -5.81199e+05 Fmax= 4.97113e+03, atom= 3836\n",
      "Step=  224, Dmax= 1.5e-02 nm, Epot= -5.81308e+05 Fmax= 1.43271e+04, atom= 3836\n",
      "Step=  225, Dmax= 1.8e-02 nm, Epot= -5.81492e+05 Fmax= 8.84364e+03, atom= 3836\n",
      "Step=  227, Dmax= 1.1e-02 nm, Epot= -5.81620e+05 Fmax= 5.08898e+03, atom= 3836\n",
      "Step=  228, Dmax= 1.3e-02 nm, Epot= -5.81741e+05 Fmax= 1.16057e+04, atom= 3836\n",
      "Step=  229, Dmax= 1.5e-02 nm, Epot= -5.81884e+05 Fmax= 8.41789e+03, atom= 3836\n",
      "Step=  230, Dmax= 1.8e-02 nm, Epot= -5.81934e+05 Fmax= 1.56880e+04, atom= 3836\n",
      "Step=  231, Dmax= 2.2e-02 nm, Epot= -5.82088e+05 Fmax= 1.31134e+04, atom= 3836\n",
      "Step=  233, Dmax= 1.3e-02 nm, Epot= -5.82269e+05 Fmax= 4.12919e+03, atom= 3836\n",
      "Step=  234, Dmax= 1.6e-02 nm, Epot= -5.82380e+05 Fmax= 1.66194e+04, atom= 3836\n",
      "Step=  235, Dmax= 1.9e-02 nm, Epot= -5.82607e+05 Fmax= 8.28590e+03, atom= 3836\n",
      "Step=  237, Dmax= 1.1e-02 nm, Epot= -5.82725e+05 Fmax= 6.67794e+03, atom= 3836\n",
      "Step=  238, Dmax= 1.4e-02 nm, Epot= -5.82821e+05 Fmax= 1.12800e+04, atom= 3836\n",
      "Step=  239, Dmax= 1.6e-02 nm, Epot= -5.82942e+05 Fmax= 1.02294e+04, atom= 3836\n",
      "Step=  240, Dmax= 2.0e-02 nm, Epot= -5.82989e+05 Fmax= 1.56791e+04, atom= 3836\n",
      "Step=  241, Dmax= 2.4e-02 nm, Epot= -5.83104e+05 Fmax= 1.52562e+04, atom= 3836\n",
      "Step=  243, Dmax= 1.4e-02 nm, Epot= -5.83321e+05 Fmax= 3.26479e+03, atom= 3836\n",
      "Step=  244, Dmax= 1.7e-02 nm, Epot= -5.83454e+05 Fmax= 1.90723e+04, atom= 3836\n",
      "Step=  245, Dmax= 2.0e-02 nm, Epot= -5.83738e+05 Fmax= 7.70011e+03, atom= 3836\n",
      "Step=  247, Dmax= 1.2e-02 nm, Epot= -5.83843e+05 Fmax= 8.36523e+03, atom= 3836\n",
      "Step=  248, Dmax= 1.5e-02 nm, Epot= -5.83934e+05 Fmax= 1.09442e+04, atom= 3836\n",
      "Step=  249, Dmax= 1.8e-02 nm, Epot= -5.84026e+05 Fmax= 1.21585e+04, atom= 3836\n",
      "Step=  250, Dmax= 2.1e-02 nm, Epot= -5.84084e+05 Fmax= 1.56851e+04, atom= 3836\n",
      "Step=  251, Dmax= 2.5e-02 nm, Epot= -5.84151e+05 Fmax= 1.75404e+04, atom= 3836\n",
      "Step=  253, Dmax= 1.5e-02 nm, Epot= -5.84415e+05 Fmax= 2.35188e+03, atom= 3836\n",
      "Step=  254, Dmax= 1.8e-02 nm, Epot= -5.84626e+05 Fmax= 2.17533e+04, atom= 3836\n",
      "Step=  255, Dmax= 2.2e-02 nm, Epot= -5.84985e+05 Fmax= 7.04266e+03, atom= 3836\n",
      "Step=  257, Dmax= 1.3e-02 nm, Epot= -5.85073e+05 Fmax= 1.01819e+04, atom= 3836\n",
      "Step=  258, Dmax= 1.6e-02 nm, Epot= -5.85171e+05 Fmax= 1.05807e+04, atom= 3836\n",
      "Step=  259, Dmax= 1.9e-02 nm, Epot= -5.85228e+05 Fmax= 1.42281e+04, atom= 3836\n",
      "Step=  260, Dmax= 2.3e-02 nm, Epot= -5.85306e+05 Fmax= 1.56953e+04, atom= 3836\n",
      "Step=  261, Dmax= 2.7e-02 nm, Epot= -5.85313e+05 Fmax= 1.99869e+04, atom= 3836\n",
      "Step=  262, Dmax= 3.3e-02 nm, Epot= -5.85336e+05 Fmax= 2.31608e+04, atom= 3836\n",
      "Step=  264, Dmax= 2.0e-02 nm, Epot= -5.85741e+05 Fmax= 2.79656e+03, atom= 3836\n",
      "Step=  265, Dmax= 2.4e-02 nm, Epot= -5.85787e+05 Fmax= 2.79481e+04, atom= 3836\n",
      "Step=  266, Dmax= 2.8e-02 nm, Epot= -5.86298e+05 Fmax= 9.25468e+03, atom= 3836\n",
      "Step=  268, Dmax= 1.7e-02 nm, Epot= -5.86358e+05 Fmax= 1.31453e+04, atom= 3836\n",
      "Step=  269, Dmax= 2.0e-02 nm, Epot= -5.86447e+05 Fmax= 1.35309e+04, atom= 3836\n",
      "Step=  270, Dmax= 2.4e-02 nm, Epot= -5.86454e+05 Fmax= 1.86757e+04, atom= 3836\n",
      "Step=  271, Dmax= 2.9e-02 nm, Epot= -5.86520e+05 Fmax= 1.97077e+04, atom= 3836\n",
      "Step=  273, Dmax= 1.8e-02 nm, Epot= -5.86828e+05 Fmax= 3.26479e+03, atom= 3836\n",
      "Step=  275, Dmax= 1.1e-02 nm, Epot= -5.86960e+05 Fmax= 1.07183e+04, atom= 3836\n",
      "Step=  276, Dmax= 1.3e-02 nm, Epot= -5.87086e+05 Fmax= 5.90460e+03, atom= 3836\n",
      "Step=  277, Dmax= 1.5e-02 nm, Epot= -5.87136e+05 Fmax= 1.40010e+04, atom= 3836\n",
      "Step=  278, Dmax= 1.8e-02 nm, Epot= -5.87281e+05 Fmax= 9.95423e+03, atom= 3836\n",
      "Step=  280, Dmax= 1.1e-02 nm, Epot= -5.87400e+05 Fmax= 4.45356e+03, atom= 3836\n",
      "Step=  281, Dmax= 1.3e-02 nm, Epot= -5.87484e+05 Fmax= 1.27965e+04, atom= 3836\n",
      "Step=  282, Dmax= 1.6e-02 nm, Epot= -5.87624e+05 Fmax= 7.90853e+03, atom= 3836\n",
      "Step=  284, Dmax= 9.5e-03 nm, Epot= -5.87724e+05 Fmax= 4.48294e+03, atom= 3836\n",
      "Step=  285, Dmax= 1.1e-02 nm, Epot= -5.87816e+05 Fmax= 1.04145e+04, atom= 3836\n",
      "Step=  286, Dmax= 1.4e-02 nm, Epot= -5.87929e+05 Fmax= 7.46458e+03, atom= 3836\n",
      "Step=  287, Dmax= 1.6e-02 nm, Epot= -5.87966e+05 Fmax= 1.39363e+04, atom= 3836\n",
      "Step=  288, Dmax= 2.0e-02 nm, Epot= -5.88086e+05 Fmax= 1.18378e+04, atom= 3836\n",
      "Step=  290, Dmax= 1.2e-02 nm, Epot= -5.88228e+05 Fmax= 3.65994e+03, atom= 3836\n",
      "Step=  291, Dmax= 1.4e-02 nm, Epot= -5.88318e+05 Fmax= 1.48806e+04, atom= 3836\n",
      "Step=  292, Dmax= 1.7e-02 nm, Epot= -5.88493e+05 Fmax= 7.38667e+03, atom= 3836\n",
      "Step=  294, Dmax= 1.0e-02 nm, Epot= -5.88585e+05 Fmax= 5.94673e+03, atom= 3836\n",
      "Step=  295, Dmax= 1.2e-02 nm, Epot= -5.88660e+05 Fmax= 1.00587e+04, atom= 3836\n",
      "Step=  296, Dmax= 1.5e-02 nm, Epot= -5.88755e+05 Fmax= 9.17461e+03, atom= 3836\n",
      "Step=  297, Dmax= 1.8e-02 nm, Epot= -5.88793e+05 Fmax= 1.38359e+04, atom= 3836\n",
      "Step=  298, Dmax= 2.1e-02 nm, Epot= -5.88880e+05 Fmax= 1.38920e+04, atom= 3836\n",
      "Step=  300, Dmax= 1.3e-02 nm, Epot= -5.89053e+05 Fmax= 2.78144e+03, atom= 3836\n",
      "Step=  301, Dmax= 1.5e-02 nm, Epot= -5.89177e+05 Fmax= 1.71186e+04, atom= 3836\n",
      "Step=  302, Dmax= 1.8e-02 nm, Epot= -5.89395e+05 Fmax= 6.82690e+03, atom= 3836\n",
      "Step=  304, Dmax= 1.1e-02 nm, Epot= -5.89478e+05 Fmax= 7.52771e+03, atom= 3836\n",
      "Step=  305, Dmax= 1.3e-02 nm, Epot= -5.89550e+05 Fmax= 9.67350e+03, atom= 3836\n",
      "Step=  306, Dmax= 1.6e-02 nm, Epot= -5.89623e+05 Fmax= 1.10197e+04, atom= 3836\n",
      "Step=  307, Dmax= 1.9e-02 nm, Epot= -5.89672e+05 Fmax= 1.37231e+04, atom= 3836\n",
      "Step=  308, Dmax= 2.3e-02 nm, Epot= -5.89718e+05 Fmax= 1.61084e+04, atom= 3836\n",
      "Step=  309, Dmax= 2.7e-02 nm, Epot= -5.89728e+05 Fmax= 1.94744e+04, atom= 3836\n",
      "Step=  311, Dmax= 1.6e-02 nm, Epot= -5.90022e+05 Fmax= 1.82479e+03, atom= 3836\n",
      "Step=  312, Dmax= 2.0e-02 nm, Epot= -5.90213e+05 Fmax= 2.41455e+04, atom= 3836\n",
      "Step=  313, Dmax= 2.3e-02 nm, Epot= -5.90627e+05 Fmax= 6.73864e+03, atom= 3836\n",
      "Step=  315, Dmax= 1.4e-02 nm, Epot= -5.90677e+05 Fmax= 1.16554e+04, atom= 3836\n",
      "Step=  316, Dmax= 1.7e-02 nm, Epot= -5.90770e+05 Fmax= 1.05942e+04, atom= 3836\n",
      "Step=  317, Dmax= 2.0e-02 nm, Epot= -5.90775e+05 Fmax= 1.59691e+04, atom= 3836\n",
      "Step=  318, Dmax= 2.4e-02 nm, Epot= -5.90855e+05 Fmax= 1.60882e+04, atom= 3836\n",
      "Step=  320, Dmax= 1.5e-02 nm, Epot= -5.91064e+05 Fmax= 3.18716e+03, atom= 3836\n",
      "Step=  321, Dmax= 1.8e-02 nm, Epot= -5.91103e+05 Fmax= 1.98198e+04, atom= 3836\n",
      "Step=  322, Dmax= 2.1e-02 nm, Epot= -5.91370e+05 Fmax= 7.85599e+03, atom= 3836\n",
      "Step=  324, Dmax= 1.3e-02 nm, Epot= -5.91443e+05 Fmax= 8.73389e+03, atom= 3836\n",
      "Step=  325, Dmax= 1.5e-02 nm, Epot= -5.91499e+05 Fmax= 1.11370e+04, atom= 3836\n",
      "Step=  326, Dmax= 1.8e-02 nm, Epot= -5.91558e+05 Fmax= 1.27805e+04, atom= 3836\n",
      "Step=  327, Dmax= 2.2e-02 nm, Epot= -5.91586e+05 Fmax= 1.57988e+04, atom= 3836\n",
      "Step=  328, Dmax= 2.6e-02 nm, Epot= -5.91608e+05 Fmax= 1.86854e+04, atom= 3836\n",
      "Step=  330, Dmax= 1.6e-02 nm, Epot= -5.91873e+05 Fmax= 2.06000e+03, atom= 3836\n",
      "Step=  331, Dmax= 1.9e-02 nm, Epot= -5.92011e+05 Fmax= 2.25100e+04, atom= 3836\n",
      "Step=  332, Dmax= 2.3e-02 nm, Epot= -5.92347e+05 Fmax= 7.23915e+03, atom= 3836\n",
      "Step=  334, Dmax= 1.4e-02 nm, Epot= -5.92400e+05 Fmax= 1.06680e+04, atom= 3836\n",
      "Step=  335, Dmax= 1.6e-02 nm, Epot= -5.92473e+05 Fmax= 1.06878e+04, atom= 3836\n",
      "Step=  336, Dmax= 2.0e-02 nm, Epot= -5.92491e+05 Fmax= 1.50564e+04, atom= 3836\n",
      "Step=  337, Dmax= 2.3e-02 nm, Epot= -5.92551e+05 Fmax= 1.56778e+04, atom= 3836\n",
      "Step=  339, Dmax= 1.4e-02 nm, Epot= -5.92750e+05 Fmax= 2.71932e+03, atom= 3836\n",
      "Step=  340, Dmax= 1.7e-02 nm, Epot= -5.92802e+05 Fmax= 1.95117e+04, atom= 3836\n",
      "Step=  341, Dmax= 2.0e-02 nm, Epot= -5.93070e+05 Fmax= 7.08427e+03, atom= 3836\n",
      "Step=  343, Dmax= 1.2e-02 nm, Epot= -5.93132e+05 Fmax= 8.87000e+03, atom= 3836\n",
      "Step=  344, Dmax= 1.5e-02 nm, Epot= -5.93192e+05 Fmax= 1.03119e+04, atom= 3836\n",
      "Step=  345, Dmax= 1.8e-02 nm, Epot= -5.93237e+05 Fmax= 1.26410e+04, atom= 3836\n",
      "Step=  346, Dmax= 2.1e-02 nm, Epot= -5.93274e+05 Fmax= 1.50116e+04, atom= 3836\n",
      "Step=  347, Dmax= 2.5e-02 nm, Epot= -5.93285e+05 Fmax= 1.79987e+04, atom= 3836\n",
      "Step=  349, Dmax= 1.5e-02 nm, Epot= -5.93534e+05 Fmax= 1.75760e+03, atom= 3836\n",
      "Step=  350, Dmax= 1.8e-02 nm, Epot= -5.93683e+05 Fmax= 2.23103e+04, atom= 3836\n",
      "Step=  351, Dmax= 2.2e-02 nm, Epot= -5.94032e+05 Fmax= 6.31360e+03, atom= 3836\n",
      "Step=  353, Dmax= 1.3e-02 nm, Epot= -5.94076e+05 Fmax= 1.07621e+04, atom= 3836\n",
      "Step=  354, Dmax= 1.6e-02 nm, Epot= -5.94154e+05 Fmax= 9.86363e+03, atom= 3836\n",
      "Step=  355, Dmax= 1.9e-02 nm, Epot= -5.94160e+05 Fmax= 1.47793e+04, atom= 3836\n",
      "Step=  356, Dmax= 2.3e-02 nm, Epot= -5.94227e+05 Fmax= 1.49388e+04, atom= 3836\n",
      "Step=  358, Dmax= 1.4e-02 nm, Epot= -5.94406e+05 Fmax= 2.93210e+03, atom= 3836\n",
      "Step=  359, Dmax= 1.6e-02 nm, Epot= -5.94442e+05 Fmax= 1.83944e+04, atom= 3836\n",
      "Step=  360, Dmax= 2.0e-02 nm, Epot= -5.94670e+05 Fmax= 7.26900e+03, atom= 3836\n",
      "Step=  362, Dmax= 1.2e-02 nm, Epot= -5.94733e+05 Fmax= 8.11212e+03, atom= 3836\n",
      "Step=  363, Dmax= 1.4e-02 nm, Epot= -5.94782e+05 Fmax= 1.03190e+04, atom= 3836\n",
      "Step=  364, Dmax= 1.7e-02 nm, Epot= -5.94832e+05 Fmax= 1.18543e+04, atom= 3836\n",
      "Step=  365, Dmax= 2.0e-02 nm, Epot= -5.94856e+05 Fmax= 1.46555e+04, atom= 3836\n",
      "Step=  366, Dmax= 2.4e-02 nm, Epot= -5.94876e+05 Fmax= 1.73117e+04, atom= 3836\n",
      "Step=  368, Dmax= 1.5e-02 nm, Epot= -5.95102e+05 Fmax= 1.91928e+03, atom= 3836\n",
      "Step=  369, Dmax= 1.7e-02 nm, Epot= -5.95221e+05 Fmax= 2.08696e+04, atom= 3836\n",
      "Step=  370, Dmax= 2.1e-02 nm, Epot= -5.95508e+05 Fmax= 6.71560e+03, atom= 3836\n",
      "Step=  372, Dmax= 1.3e-02 nm, Epot= -5.95554e+05 Fmax= 9.87982e+03, atom= 3836\n",
      "Step=  373, Dmax= 1.5e-02 nm, Epot= -5.95617e+05 Fmax= 9.92825e+03, atom= 3836\n",
      "Step=  374, Dmax= 1.8e-02 nm, Epot= -5.95633e+05 Fmax= 1.39360e+04, atom= 3836\n",
      "Step=  375, Dmax= 2.2e-02 nm, Epot= -5.95684e+05 Fmax= 1.45706e+04, atom= 3836\n",
      "Step=  377, Dmax= 1.3e-02 nm, Epot= -5.95855e+05 Fmax= 2.49325e+03, atom= 3836\n",
      "Step=  378, Dmax= 1.6e-02 nm, Epot= -5.95904e+05 Fmax= 1.81255e+04, atom= 3836\n",
      "Step=  379, Dmax= 1.9e-02 nm, Epot= -5.96134e+05 Fmax= 6.53484e+03, atom= 3836\n",
      "Step=  381, Dmax= 1.1e-02 nm, Epot= -5.96188e+05 Fmax= 8.26145e+03, atom= 3836\n",
      "Step=  382, Dmax= 1.4e-02 nm, Epot= -5.96241e+05 Fmax= 9.52254e+03, atom= 3836\n",
      "Step=  383, Dmax= 1.6e-02 nm, Epot= -5.96278e+05 Fmax= 1.17661e+04, atom= 3836\n",
      "Step=  384, Dmax= 1.9e-02 nm, Epot= -5.96312e+05 Fmax= 1.38694e+04, atom= 3836\n",
      "Step=  385, Dmax= 2.3e-02 nm, Epot= -5.96321e+05 Fmax= 1.67498e+04, atom= 3836\n",
      "Step=  387, Dmax= 1.4e-02 nm, Epot= -5.96535e+05 Fmax= 1.57601e+03, atom= 3836\n",
      "Step=  388, Dmax= 1.7e-02 nm, Epot= -5.96681e+05 Fmax= 2.07458e+04, atom= 3836\n",
      "Step=  389, Dmax= 2.0e-02 nm, Epot= -5.96981e+05 Fmax= 5.79395e+03, atom= 3836\n",
      "Step=  391, Dmax= 1.2e-02 nm, Epot= -5.97019e+05 Fmax= 1.00428e+04, atom= 3836\n",
      "Step=  392, Dmax= 1.5e-02 nm, Epot= -5.97088e+05 Fmax= 9.08007e+03, atom= 3836\n",
      "Step=  393, Dmax= 1.7e-02 nm, Epot= -5.97092e+05 Fmax= 1.37771e+04, atom= 3836\n",
      "Step=  394, Dmax= 2.1e-02 nm, Epot= -5.97153e+05 Fmax= 1.37739e+04, atom= 3836\n",
      "Step=  396, Dmax= 1.3e-02 nm, Epot= -5.97305e+05 Fmax= 2.79294e+03, atom= 3836\n",
      "Step=  397, Dmax= 1.5e-02 nm, Epot= -5.97335e+05 Fmax= 1.69859e+04, atom= 3836\n",
      "Step=  398, Dmax= 1.8e-02 nm, Epot= -5.97529e+05 Fmax= 6.81000e+03, atom= 3836\n",
      "Step=  400, Dmax= 1.1e-02 nm, Epot= -5.97584e+05 Fmax= 7.44915e+03, atom= 3836\n",
      "Step=  401, Dmax= 1.3e-02 nm, Epot= -5.97626e+05 Fmax= 9.64498e+03, atom= 3836\n",
      "Step=  402, Dmax= 1.6e-02 nm, Epot= -5.97672e+05 Fmax= 1.09114e+04, atom= 3836\n",
      "Step=  403, Dmax= 1.9e-02 nm, Epot= -5.97692e+05 Fmax= 1.36762e+04, atom= 3836\n",
      "Step=  404, Dmax= 2.3e-02 nm, Epot= -5.97713e+05 Fmax= 1.59582e+04, atom= 3836\n",
      "Step=  406, Dmax= 1.4e-02 nm, Epot= -5.97905e+05 Fmax= 1.86790e+03, atom= 3836\n",
      "Step=  407, Dmax= 1.6e-02 nm, Epot= -5.97998e+05 Fmax= 1.92862e+04, atom= 3836\n",
      "Step=  408, Dmax= 1.9e-02 nm, Epot= -5.98244e+05 Fmax= 6.29301e+03, atom= 3836\n",
      "Step=  410, Dmax= 1.2e-02 nm, Epot= -5.98285e+05 Fmax= 9.08314e+03, atom= 3836\n",
      "Step=  411, Dmax= 1.4e-02 nm, Epot= -5.98339e+05 Fmax= 9.28806e+03, atom= 3836\n",
      "Step=  412, Dmax= 1.7e-02 nm, Epot= -5.98356e+05 Fmax= 1.28331e+04, atom= 3836\n",
      "Step=  413, Dmax= 2.0e-02 nm, Epot= -5.98399e+05 Fmax= 1.36054e+04, atom= 3836\n",
      "Step=  415, Dmax= 1.2e-02 nm, Epot= -5.98547e+05 Fmax= 2.22077e+03, atom= 3836\n",
      "Step=  416, Dmax= 1.5e-02 nm, Epot= -5.98602e+05 Fmax= 1.69060e+04, atom= 3836\n",
      "Step=  417, Dmax= 1.7e-02 nm, Epot= -5.98802e+05 Fmax= 5.96091e+03, atom= 3836\n",
      "Step=  419, Dmax= 1.0e-02 nm, Epot= -5.98849e+05 Fmax= 7.75876e+03, atom= 3836\n",
      "Step=  420, Dmax= 1.3e-02 nm, Epot= -5.98897e+05 Fmax= 8.72992e+03, atom= 3836\n",
      "Step=  421, Dmax= 1.5e-02 nm, Epot= -5.98929e+05 Fmax= 1.10132e+04, atom= 3836\n",
      "Step=  422, Dmax= 1.8e-02 nm, Epot= -5.98962e+05 Fmax= 1.27525e+04, atom= 3836\n",
      "Step=  423, Dmax= 2.2e-02 nm, Epot= -5.98968e+05 Fmax= 1.56460e+04, atom= 3836\n",
      "Step=  425, Dmax= 1.3e-02 nm, Epot= -5.99154e+05 Fmax= 1.35225e+03, atom= 3836\n",
      "Step=  426, Dmax= 1.6e-02 nm, Epot= -5.99317e+05 Fmax= 1.93622e+04, atom= 3836\n",
      "Step=  427, Dmax= 1.9e-02 nm, Epot= -5.99578e+05 Fmax= 5.24915e+03, atom= 3836\n",
      "Step=  429, Dmax= 1.1e-02 nm, Epot= -5.99612e+05 Fmax= 9.43113e+03, atom= 3836\n",
      "Step=  430, Dmax= 1.3e-02 nm, Epot= -5.99675e+05 Fmax= 8.29865e+03, atom= 3836\n",
      "Step=  431, Dmax= 1.6e-02 nm, Epot= -5.99678e+05 Fmax= 1.28995e+04, atom= 3836\n",
      "Step=  432, Dmax= 1.9e-02 nm, Epot= -5.99735e+05 Fmax= 1.26425e+04, atom= 3836\n",
      "Step=  434, Dmax= 1.2e-02 nm, Epot= -5.99864e+05 Fmax= 2.71478e+03, atom= 3836\n",
      "Step=  435, Dmax= 1.4e-02 nm, Epot= -5.99890e+05 Fmax= 1.56321e+04, atom= 3836\n",
      "Step=  436, Dmax= 1.7e-02 nm, Epot= -6.00054e+05 Fmax= 6.43160e+03, atom= 3836\n",
      "Step=  438, Dmax= 1.0e-02 nm, Epot= -6.00104e+05 Fmax= 6.78734e+03, atom= 3836\n",
      "Step=  439, Dmax= 1.2e-02 nm, Epot= -6.00141e+05 Fmax= 9.06581e+03, atom= 3836\n",
      "Step=  440, Dmax= 1.4e-02 nm, Epot= -6.00184e+05 Fmax= 9.99154e+03, atom= 3836\n",
      "Step=  441, Dmax= 1.7e-02 nm, Epot= -6.00200e+05 Fmax= 1.28114e+04, atom= 3836\n",
      "Step=  442, Dmax= 2.1e-02 nm, Epot= -6.00224e+05 Fmax= 1.46598e+04, atom= 3836\n",
      "Step=  444, Dmax= 1.3e-02 nm, Epot= -6.00386e+05 Fmax= 1.86330e+03, atom= 3836\n",
      "Step=  445, Dmax= 1.5e-02 nm, Epot= -6.00458e+05 Fmax= 1.77764e+04, atom= 3836\n",
      "Step=  446, Dmax= 1.8e-02 nm, Epot= -6.00667e+05 Fmax= 5.94193e+03, atom= 3836\n",
      "Step=  448, Dmax= 1.1e-02 nm, Epot= -6.00706e+05 Fmax= 8.30374e+03, atom= 3836\n",
      "Step=  449, Dmax= 1.3e-02 nm, Epot= -6.00752e+05 Fmax= 8.73432e+03, atom= 3836\n",
      "Step=  450, Dmax= 1.6e-02 nm, Epot= -6.00771e+05 Fmax= 1.17706e+04, atom= 3836\n",
      "Step=  451, Dmax= 1.9e-02 nm, Epot= -6.00806e+05 Fmax= 1.27479e+04, atom= 3836\n",
      "Step=  453, Dmax= 1.1e-02 nm, Epot= -6.00936e+05 Fmax= 1.92983e+03, atom= 3836\n",
      "Step=  454, Dmax= 1.3e-02 nm, Epot= -6.01002e+05 Fmax= 1.58157e+04, atom= 3836\n",
      "Step=  455, Dmax= 1.6e-02 nm, Epot= -6.01178e+05 Fmax= 5.38812e+03, atom= 3836\n",
      "Step=  457, Dmax= 9.7e-03 nm, Epot= -6.01220e+05 Fmax= 7.33147e+03, atom= 3836\n",
      "Step=  458, Dmax= 1.2e-02 nm, Epot= -6.01265e+05 Fmax= 7.95623e+03, atom= 3836\n",
      "Step=  459, Dmax= 1.4e-02 nm, Epot= -6.01292e+05 Fmax= 1.03519e+04, atom= 3836\n",
      "Step=  460, Dmax= 1.7e-02 nm, Epot= -6.01325e+05 Fmax= 1.16802e+04, atom= 3836\n",
      "Step=  461, Dmax= 2.0e-02 nm, Epot= -6.01328e+05 Fmax= 1.46568e+04, atom= 3836\n",
      "Step=  462, Dmax= 2.4e-02 nm, Epot= -6.01333e+05 Fmax= 1.71027e+04, atom= 3836\n",
      "Step=  464, Dmax= 1.4e-02 nm, Epot= -6.01542e+05 Fmax= 2.00223e+03, atom= 3836\n",
      "Step=  465, Dmax= 1.7e-02 nm, Epot= -6.01550e+05 Fmax= 2.06731e+04, atom= 3836\n",
      "Step=  466, Dmax= 2.1e-02 nm, Epot= -6.01818e+05 Fmax= 6.73720e+03, atom= 3836\n",
      "Step=  468, Dmax= 1.3e-02 nm, Epot= -6.01845e+05 Fmax= 9.74254e+03, atom= 3836\n",
      "Step=  469, Dmax= 1.5e-02 nm, Epot= -6.01889e+05 Fmax= 9.93845e+03, atom= 3836\n",
      "Step=  471, Dmax= 9.0e-03 nm, Epot= -6.01978e+05 Fmax= 1.85048e+03, atom= 3836\n",
      "Step=  472, Dmax= 1.1e-02 nm, Epot= -6.02061e+05 Fmax= 1.23693e+04, atom= 3836\n",
      "Step=  473, Dmax= 1.3e-02 nm, Epot= -6.02177e+05 Fmax= 4.64085e+03, atom= 3836\n",
      "Step=  475, Dmax= 7.8e-03 nm, Epot= -6.02222e+05 Fmax= 5.58051e+03, atom= 3836\n",
      "Step=  476, Dmax= 9.3e-03 nm, Epot= -6.02264e+05 Fmax= 6.68043e+03, atom= 3836\n",
      "Step=  477, Dmax= 1.1e-02 nm, Epot= -6.02302e+05 Fmax= 8.02299e+03, atom= 3836\n",
      "Step=  478, Dmax= 1.3e-02 nm, Epot= -6.02334e+05 Fmax= 9.64956e+03, atom= 3836\n",
      "Step=  479, Dmax= 1.6e-02 nm, Epot= -6.02359e+05 Fmax= 1.15027e+04, atom= 3836\n",
      "Step=  480, Dmax= 1.9e-02 nm, Epot= -6.02370e+05 Fmax= 1.39706e+04, atom= 3836\n",
      "Step=  482, Dmax= 1.2e-02 nm, Epot= -6.02517e+05 Fmax= 1.35016e+03, atom= 3836\n",
      "Step=  483, Dmax= 1.4e-02 nm, Epot= -6.02649e+05 Fmax= 1.68050e+04, atom= 3836\n",
      "Step=  484, Dmax= 1.7e-02 nm, Epot= -6.02838e+05 Fmax= 5.18080e+03, atom= 3836\n",
      "Step=  486, Dmax= 1.0e-02 nm, Epot= -6.02870e+05 Fmax= 8.04814e+03, atom= 3836\n",
      "Step=  487, Dmax= 1.2e-02 nm, Epot= -6.02917e+05 Fmax= 7.75160e+03, atom= 3836\n",
      "Step=  488, Dmax= 1.4e-02 nm, Epot= -6.02929e+05 Fmax= 1.12653e+04, atom= 3836\n",
      "Step=  489, Dmax= 1.7e-02 nm, Epot= -6.02970e+05 Fmax= 1.14772e+04, atom= 3836\n",
      "Step=  491, Dmax= 1.0e-02 nm, Epot= -6.03077e+05 Fmax= 2.13955e+03, atom= 3836\n",
      "Step=  492, Dmax= 1.2e-02 nm, Epot= -6.03117e+05 Fmax= 1.42880e+04, atom= 3836\n",
      "Step=  493, Dmax= 1.5e-02 nm, Epot= -6.03260e+05 Fmax= 5.37089e+03, atom= 3836\n",
      "Step=  495, Dmax= 9.0e-03 nm, Epot= -6.03300e+05 Fmax= 6.43368e+03, atom= 3836\n",
      "Step=  496, Dmax= 1.1e-02 nm, Epot= -6.03336e+05 Fmax= 7.74028e+03, atom= 3836\n",
      "Step=  497, Dmax= 1.3e-02 nm, Epot= -6.03367e+05 Fmax= 9.24309e+03, atom= 3836\n",
      "Step=  498, Dmax= 1.6e-02 nm, Epot= -6.03390e+05 Fmax= 1.11859e+04, atom= 3836\n",
      "Step=  499, Dmax= 1.9e-02 nm, Epot= -6.03404e+05 Fmax= 1.32460e+04, atom= 3836\n",
      "Step=  501, Dmax= 1.1e-02 nm, Epot= -6.03539e+05 Fmax= 1.37987e+03, atom= 3836\n",
      "Step=  502, Dmax= 1.3e-02 nm, Epot= -6.03641e+05 Fmax= 1.63687e+04, atom= 3836\n",
      "Step=  503, Dmax= 1.6e-02 nm, Epot= -6.03827e+05 Fmax= 4.77706e+03, atom= 3836\n",
      "Step=  505, Dmax= 9.7e-03 nm, Epot= -6.03858e+05 Fmax= 7.87465e+03, atom= 3836\n",
      "Step=  506, Dmax= 1.2e-02 nm, Epot= -6.03903e+05 Fmax= 7.36488e+03, atom= 3836\n",
      "Step=  507, Dmax= 1.4e-02 nm, Epot= -6.03914e+05 Fmax= 1.08740e+04, atom= 3836\n",
      "Step=  508, Dmax= 1.7e-02 nm, Epot= -6.03954e+05 Fmax= 1.10818e+04, atom= 3836\n",
      "Step=  510, Dmax= 1.0e-02 nm, Epot= -6.04054e+05 Fmax= 2.11874e+03, atom= 3836\n",
      "Step=  511, Dmax= 1.2e-02 nm, Epot= -6.04095e+05 Fmax= 1.36430e+04, atom= 3836\n",
      "Step=  512, Dmax= 1.4e-02 nm, Epot= -6.04223e+05 Fmax= 5.32591e+03, atom= 3836\n",
      "Step=  514, Dmax= 8.7e-03 nm, Epot= -6.04262e+05 Fmax= 6.04176e+03, atom= 3836\n",
      "Step=  515, Dmax= 1.0e-02 nm, Epot= -6.04294e+05 Fmax= 7.59207e+03, atom= 3836\n",
      "Step=  516, Dmax= 1.2e-02 nm, Epot= -6.04326e+05 Fmax= 8.79124e+03, atom= 3836\n",
      "Step=  517, Dmax= 1.5e-02 nm, Epot= -6.04346e+05 Fmax= 1.08237e+04, atom= 3836\n",
      "Step=  518, Dmax= 1.8e-02 nm, Epot= -6.04362e+05 Fmax= 1.27897e+04, atom= 3836\n",
      "Step=  520, Dmax= 1.1e-02 nm, Epot= -6.04487e+05 Fmax= 1.41064e+03, atom= 3836\n",
      "Step=  521, Dmax= 1.3e-02 nm, Epot= -6.04583e+05 Fmax= 1.54573e+04, atom= 3836\n",
      "Step=  522, Dmax= 1.6e-02 nm, Epot= -6.04743e+05 Fmax= 4.93049e+03, atom= 3836\n",
      "Step=  524, Dmax= 9.3e-03 nm, Epot= -6.04774e+05 Fmax= 7.32122e+03, atom= 3836\n",
      "Step=  525, Dmax= 1.1e-02 nm, Epot= -6.04814e+05 Fmax= 7.33125e+03, atom= 3836\n",
      "Step=  526, Dmax= 1.3e-02 nm, Epot= -6.04829e+05 Fmax= 1.02954e+04, atom= 3836\n",
      "Step=  527, Dmax= 1.6e-02 nm, Epot= -6.04862e+05 Fmax= 1.07938e+04, atom= 3836\n",
      "Step=  529, Dmax= 9.6e-03 nm, Epot= -6.04957e+05 Fmax= 1.83343e+03, atom= 3836\n",
      "Step=  530, Dmax= 1.2e-02 nm, Epot= -6.05008e+05 Fmax= 1.34079e+04, atom= 3836\n",
      "Step=  531, Dmax= 1.4e-02 nm, Epot= -6.05135e+05 Fmax= 4.82121e+03, atom= 3836\n",
      "Step=  533, Dmax= 8.3e-03 nm, Epot= -6.05170e+05 Fmax= 6.12212e+03, atom= 3836\n",
      "Step=  534, Dmax= 1.0e-02 nm, Epot= -6.05205e+05 Fmax= 7.01930e+03, atom= 3836\n",
      "Step=  535, Dmax= 1.2e-02 nm, Epot= -6.05231e+05 Fmax= 8.72857e+03, atom= 3836\n",
      "Step=  536, Dmax= 1.4e-02 nm, Epot= -6.05256e+05 Fmax= 1.02101e+04, atom= 3836\n",
      "Step=  537, Dmax= 1.7e-02 nm, Epot= -6.05266e+05 Fmax= 1.24460e+04, atom= 3836\n",
      "Step=  538, Dmax= 2.1e-02 nm, Epot= -6.05268e+05 Fmax= 1.48510e+04, atom= 3836\n",
      "Step=  540, Dmax= 1.2e-02 nm, Epot= -6.05427e+05 Fmax= 1.56632e+03, atom= 3836\n",
      "Step=  541, Dmax= 1.5e-02 nm, Epot= -6.05469e+05 Fmax= 1.79176e+04, atom= 3836\n",
      "Step=  542, Dmax= 1.8e-02 nm, Epot= -6.05673e+05 Fmax= 5.64305e+03, atom= 3836\n",
      "Step=  544, Dmax= 1.1e-02 nm, Epot= -6.05695e+05 Fmax= 8.52680e+03, atom= 3836\n",
      "Step=  545, Dmax= 1.3e-02 nm, Epot= -6.05734e+05 Fmax= 8.39922e+03, atom= 3836\n",
      "Step=  546, Dmax= 1.5e-02 nm, Epot= -6.05734e+05 Fmax= 1.19775e+04, atom= 3836\n",
      "Step=  547, Dmax= 1.9e-02 nm, Epot= -6.05764e+05 Fmax= 1.23838e+04, atom= 3836\n",
      "Step=  549, Dmax= 1.1e-02 nm, Epot= -6.05881e+05 Fmax= 2.20076e+03, atom= 3836\n",
      "Step=  550, Dmax= 1.3e-02 nm, Epot= -6.05882e+05 Fmax= 1.54013e+04, atom= 3836\n",
      "Step=  551, Dmax= 1.6e-02 nm, Epot= -6.06039e+05 Fmax= 5.66016e+03, atom= 3836\n",
      "Step=  553, Dmax= 9.6e-03 nm, Epot= -6.06069e+05 Fmax= 6.98331e+03, atom= 3836\n",
      "Step=  554, Dmax= 1.2e-02 nm, Epot= -6.06098e+05 Fmax= 8.20384e+03, atom= 3836\n",
      "Step=  555, Dmax= 1.4e-02 nm, Epot= -6.06118e+05 Fmax= 9.98798e+03, atom= 3836\n",
      "Step=  556, Dmax= 1.7e-02 nm, Epot= -6.06133e+05 Fmax= 1.19015e+04, atom= 3836\n",
      "Step=  558, Dmax= 1.0e-02 nm, Epot= -6.06241e+05 Fmax= 1.26275e+03, atom= 3836\n",
      "Step=  559, Dmax= 1.2e-02 nm, Epot= -6.06342e+05 Fmax= 1.43667e+04, atom= 3836\n",
      "Step=  560, Dmax= 1.4e-02 nm, Epot= -6.06481e+05 Fmax= 4.53577e+03, atom= 3836\n",
      "Step=  562, Dmax= 8.6e-03 nm, Epot= -6.06510e+05 Fmax= 6.82234e+03, atom= 3836\n",
      "Step=  563, Dmax= 1.0e-02 nm, Epot= -6.06546e+05 Fmax= 6.76553e+03, atom= 3836\n",
      "Step=  564, Dmax= 1.2e-02 nm, Epot= -6.06560e+05 Fmax= 9.57511e+03, atom= 3836\n",
      "Step=  565, Dmax= 1.5e-02 nm, Epot= -6.06591e+05 Fmax= 9.98257e+03, atom= 3836\n",
      "Step=  567, Dmax= 8.9e-03 nm, Epot= -6.06674e+05 Fmax= 1.72787e+03, atom= 3836\n",
      "Step=  568, Dmax= 1.1e-02 nm, Epot= -6.06723e+05 Fmax= 1.24041e+04, atom= 3836\n",
      "Step=  569, Dmax= 1.3e-02 nm, Epot= -6.06833e+05 Fmax= 4.49755e+03, atom= 3836\n",
      "Step=  571, Dmax= 7.7e-03 nm, Epot= -6.06865e+05 Fmax= 5.65135e+03, atom= 3836\n",
      "Step=  572, Dmax= 9.3e-03 nm, Epot= -6.06897e+05 Fmax= 6.53187e+03, atom= 3836\n",
      "Step=  573, Dmax= 1.1e-02 nm, Epot= -6.06922e+05 Fmax= 8.07236e+03, atom= 3836\n",
      "Step=  574, Dmax= 1.3e-02 nm, Epot= -6.06944e+05 Fmax= 9.48506e+03, atom= 3836\n",
      "Step=  575, Dmax= 1.6e-02 nm, Epot= -6.06955e+05 Fmax= 1.15266e+04, atom= 3836\n",
      "Step=  576, Dmax= 1.9e-02 nm, Epot= -6.06959e+05 Fmax= 1.37786e+04, atom= 3836\n",
      "Step=  578, Dmax= 1.2e-02 nm, Epot= -6.07096e+05 Fmax= 1.43963e+03, atom= 3836\n",
      "Step=  579, Dmax= 1.4e-02 nm, Epot= -6.07146e+05 Fmax= 1.66275e+04, atom= 3836\n",
      "Step=  580, Dmax= 1.7e-02 nm, Epot= -6.07322e+05 Fmax= 5.21666e+03, atom= 3836\n",
      "Step=  582, Dmax= 1.0e-02 nm, Epot= -6.07343e+05 Fmax= 7.91772e+03, atom= 3836\n",
      "Step=  583, Dmax= 1.2e-02 nm, Epot= -6.07378e+05 Fmax= 7.77848e+03, atom= 3836\n",
      "Step=  584, Dmax= 1.4e-02 nm, Epot= -6.07381e+05 Fmax= 1.11112e+04, atom= 3836\n",
      "Step=  585, Dmax= 1.7e-02 nm, Epot= -6.07409e+05 Fmax= 1.14810e+04, atom= 3836\n",
      "Step=  587, Dmax= 1.0e-02 nm, Epot= -6.07510e+05 Fmax= 2.04547e+03, atom= 3836\n",
      "Step=  588, Dmax= 1.2e-02 nm, Epot= -6.07518e+05 Fmax= 1.42755e+04, atom= 3836\n",
      "Step=  589, Dmax= 1.5e-02 nm, Epot= -6.07654e+05 Fmax= 5.25325e+03, atom= 3836\n",
      "Step=  591, Dmax= 8.9e-03 nm, Epot= -6.07682e+05 Fmax= 6.47144e+03, atom= 3836\n",
      "Step=  592, Dmax= 1.1e-02 nm, Epot= -6.07709e+05 Fmax= 7.60890e+03, atom= 3836\n",
      "Step=  593, Dmax= 1.3e-02 nm, Epot= -6.07728e+05 Fmax= 9.26153e+03, atom= 3836\n",
      "Step=  594, Dmax= 1.5e-02 nm, Epot= -6.07743e+05 Fmax= 1.10316e+04, atom= 3836\n",
      "Step=  595, Dmax= 1.9e-02 nm, Epot= -6.07745e+05 Fmax= 1.32384e+04, atom= 3836\n",
      "Step=  597, Dmax= 1.1e-02 nm, Epot= -6.07873e+05 Fmax= 1.29036e+03, atom= 3836\n",
      "Step=  598, Dmax= 1.3e-02 nm, Epot= -6.07928e+05 Fmax= 1.63496e+04, atom= 3836\n",
      "Step=  599, Dmax= 1.6e-02 nm, Epot= -6.08108e+05 Fmax= 4.65723e+03, atom= 3836\n",
      "Step=  601, Dmax= 9.6e-03 nm, Epot= -6.08126e+05 Fmax= 7.90572e+03, atom= 3836\n",
      "Step=  602, Dmax= 1.2e-02 nm, Epot= -6.08164e+05 Fmax= 7.23269e+03, atom= 3836\n",
      "Step=  604, Dmax= 6.9e-03 nm, Epot= -6.08215e+05 Fmax= 1.86374e+03, atom= 3836\n",
      "Step=  605, Dmax= 8.3e-03 nm, Epot= -6.08262e+05 Fmax= 9.01900e+03, atom= 3836\n",
      "Step=  606, Dmax= 1.0e-02 nm, Epot= -6.08326e+05 Fmax= 4.06496e+03, atom= 3836\n",
      "Step=  608, Dmax= 6.0e-03 nm, Epot= -6.08358e+05 Fmax= 3.76856e+03, atom= 3836\n",
      "Step=  609, Dmax= 7.2e-03 nm, Epot= -6.08388e+05 Fmax= 5.64449e+03, atom= 3836\n",
      "Step=  610, Dmax= 8.6e-03 nm, Epot= -6.08420e+05 Fmax= 5.64801e+03, atom= 3836\n",
      "Step=  611, Dmax= 1.0e-02 nm, Epot= -6.08439e+05 Fmax= 7.89257e+03, atom= 3836\n",
      "Step=  612, Dmax= 1.2e-02 nm, Epot= -6.08468e+05 Fmax= 8.38113e+03, atom= 3836\n",
      "Step=  613, Dmax= 1.5e-02 nm, Epot= -6.08471e+05 Fmax= 1.11000e+04, atom= 3836\n",
      "Step=  614, Dmax= 1.8e-02 nm, Epot= -6.08487e+05 Fmax= 1.23535e+04, atom= 3836\n",
      "Step=  616, Dmax= 1.1e-02 nm, Epot= -6.08599e+05 Fmax= 1.74967e+03, atom= 3836\n",
      "Step=  617, Dmax= 1.3e-02 nm, Epot= -6.08614e+05 Fmax= 1.50540e+04, atom= 3836\n",
      "Step=  618, Dmax= 1.5e-02 nm, Epot= -6.08759e+05 Fmax= 5.20277e+03, atom= 3836\n",
      "Step=  620, Dmax= 9.2e-03 nm, Epot= -6.08782e+05 Fmax= 6.95235e+03, atom= 3836\n",
      "Step=  621, Dmax= 1.1e-02 nm, Epot= -6.08809e+05 Fmax= 7.60403e+03, atom= 3836\n",
      "Step=  622, Dmax= 1.3e-02 nm, Epot= -6.08821e+05 Fmax= 9.90035e+03, atom= 3836\n",
      "Step=  623, Dmax= 1.6e-02 nm, Epot= -6.08838e+05 Fmax= 1.10467e+04, atom= 3836\n",
      "Step=  625, Dmax= 9.6e-03 nm, Epot= -6.08932e+05 Fmax= 1.49462e+03, atom= 3836\n",
      "Step=  626, Dmax= 1.2e-02 nm, Epot= -6.08972e+05 Fmax= 1.36694e+04, atom= 3836\n",
      "Step=  627, Dmax= 1.4e-02 nm, Epot= -6.09100e+05 Fmax= 4.44097e+03, atom= 3836\n",
      "Step=  629, Dmax= 8.3e-03 nm, Epot= -6.09124e+05 Fmax= 6.42094e+03, atom= 3836\n",
      "Step=  630, Dmax= 9.9e-03 nm, Epot= -6.09153e+05 Fmax= 6.63372e+03, atom= 3836\n",
      "Step=  631, Dmax= 1.2e-02 nm, Epot= -6.09166e+05 Fmax= 9.00598e+03, atom= 3836\n",
      "Step=  632, Dmax= 1.4e-02 nm, Epot= -6.09189e+05 Fmax= 9.80415e+03, atom= 3836\n",
      "Step=  634, Dmax= 8.6e-03 nm, Epot= -6.09266e+05 Fmax= 1.50545e+03, atom= 3836\n",
      "Step=  635, Dmax= 1.0e-02 nm, Epot= -6.09316e+05 Fmax= 1.19806e+04, atom= 3836\n",
      "Step=  636, Dmax= 1.2e-02 nm, Epot= -6.09415e+05 Fmax= 4.27223e+03, atom= 3836\n",
      "Step=  638, Dmax= 7.4e-03 nm, Epot= -6.09442e+05 Fmax= 5.47314e+03, atom= 3836\n",
      "Step=  639, Dmax= 8.9e-03 nm, Epot= -6.09469e+05 Fmax= 6.21200e+03, atom= 3836\n",
      "Step=  640, Dmax= 1.1e-02 nm, Epot= -6.09489e+05 Fmax= 7.82631e+03, atom= 3836\n",
      "Step=  641, Dmax= 1.3e-02 nm, Epot= -6.09509e+05 Fmax= 8.98925e+03, atom= 3836\n",
      "Step=  642, Dmax= 1.5e-02 nm, Epot= -6.09515e+05 Fmax= 1.12413e+04, atom= 3836\n",
      "Step=  643, Dmax= 1.8e-02 nm, Epot= -6.09520e+05 Fmax= 1.29514e+04, atom= 3836\n",
      "Step=  645, Dmax= 1.1e-02 nm, Epot= -6.09642e+05 Fmax= 1.53215e+03, atom= 3836\n",
      "Step=  646, Dmax= 1.3e-02 nm, Epot= -6.09650e+05 Fmax= 1.60048e+04, atom= 3836\n",
      "Step=  647, Dmax= 1.6e-02 nm, Epot= -6.09819e+05 Fmax= 4.92526e+03, atom= 3836\n",
      "Step=  649, Dmax= 9.6e-03 nm, Epot= -6.09835e+05 Fmax= 7.61101e+03, atom= 3836\n",
      "Step=  650, Dmax= 1.1e-02 nm, Epot= -6.09866e+05 Fmax= 7.47739e+03, atom= 3836\n",
      "Step=  652, Dmax= 6.9e-03 nm, Epot= -6.09918e+05 Fmax= 1.59092e+03, atom= 3836\n",
      "Step=  653, Dmax= 8.3e-03 nm, Epot= -6.09967e+05 Fmax= 9.24644e+03, atom= 3836\n",
      "Step=  654, Dmax= 9.9e-03 nm, Epot= -6.10032e+05 Fmax= 3.79483e+03, atom= 3836\n",
      "Step=  656, Dmax= 6.0e-03 nm, Epot= -6.10061e+05 Fmax= 4.01541e+03, atom= 3836\n",
      "Step=  657, Dmax= 7.1e-03 nm, Epot= -6.10087e+05 Fmax= 5.36578e+03, atom= 3836\n",
      "Step=  658, Dmax= 8.6e-03 nm, Epot= -6.10115e+05 Fmax= 5.89116e+03, atom= 3836\n",
      "Step=  659, Dmax= 1.0e-02 nm, Epot= -6.10133e+05 Fmax= 7.60587e+03, atom= 3836\n",
      "Step=  660, Dmax= 1.2e-02 nm, Epot= -6.10154e+05 Fmax= 8.61639e+03, atom= 3836\n",
      "Step=  661, Dmax= 1.5e-02 nm, Epot= -6.10160e+05 Fmax= 1.08030e+04, atom= 3836\n",
      "Step=  662, Dmax= 1.8e-02 nm, Epot= -6.10166e+05 Fmax= 1.25762e+04, atom= 3836\n",
      "Step=  664, Dmax= 1.1e-02 nm, Epot= -6.10280e+05 Fmax= 1.48226e+03, atom= 3836\n",
      "Step=  665, Dmax= 1.3e-02 nm, Epot= -6.10302e+05 Fmax= 1.52421e+04, atom= 3836\n",
      "Step=  666, Dmax= 1.5e-02 nm, Epot= -6.10450e+05 Fmax= 4.94594e+03, atom= 3836\n",
      "Step=  668, Dmax= 9.2e-03 nm, Epot= -6.10468e+05 Fmax= 7.17994e+03, atom= 3836\n",
      "Step=  669, Dmax= 1.1e-02 nm, Epot= -6.10495e+05 Fmax= 7.32781e+03, atom= 3836\n",
      "Step=  670, Dmax= 1.3e-02 nm, Epot= -6.10499e+05 Fmax= 1.01225e+04, atom= 3836\n",
      "Step=  671, Dmax= 1.6e-02 nm, Epot= -6.10519e+05 Fmax= 1.07575e+04, atom= 3836\n",
      "Step=  673, Dmax= 9.6e-03 nm, Epot= -6.10607e+05 Fmax= 1.74435e+03, atom= 3836\n",
      "Step=  674, Dmax= 1.1e-02 nm, Epot= -6.10619e+05 Fmax= 1.33466e+04, atom= 3836\n",
      "Step=  675, Dmax= 1.4e-02 nm, Epot= -6.10738e+05 Fmax= 4.70101e+03, atom= 3836\n",
      "Step=  677, Dmax= 8.3e-03 nm, Epot= -6.10760e+05 Fmax= 6.13186e+03, atom= 3836\n",
      "Step=  678, Dmax= 9.9e-03 nm, Epot= -6.10784e+05 Fmax= 6.87927e+03, atom= 3836\n",
      "Step=  679, Dmax= 1.2e-02 nm, Epot= -6.10798e+05 Fmax= 8.71166e+03, atom= 3836\n",
      "Step=  680, Dmax= 1.4e-02 nm, Epot= -6.10813e+05 Fmax= 1.00380e+04, atom= 3836\n",
      "Step=  682, Dmax= 8.6e-03 nm, Epot= -6.10891e+05 Fmax= 1.23583e+03, atom= 3836\n",
      "Step=  683, Dmax= 1.0e-02 nm, Epot= -6.10952e+05 Fmax= 1.21831e+04, atom= 3836\n",
      "Step=  684, Dmax= 1.2e-02 nm, Epot= -6.11053e+05 Fmax= 4.01431e+03, atom= 3836\n",
      "Step=  686, Dmax= 7.4e-03 nm, Epot= -6.11076e+05 Fmax= 5.70636e+03, atom= 3836\n",
      "Step=  687, Dmax= 8.9e-03 nm, Epot= -6.11103e+05 Fmax= 5.93971e+03, atom= 3836\n",
      "Step=  688, Dmax= 1.1e-02 nm, Epot= -6.11117e+05 Fmax= 8.05495e+03, atom= 3836\n",
      "Step=  689, Dmax= 1.3e-02 nm, Epot= -6.11139e+05 Fmax= 8.70673e+03, atom= 3836\n",
      "Step=  691, Dmax= 7.7e-03 nm, Epot= -6.11202e+05 Fmax= 1.33019e+03, atom= 3836\n",
      "Step=  692, Dmax= 9.2e-03 nm, Epot= -6.11254e+05 Fmax= 1.07882e+04, atom= 3836\n",
      "Step=  693, Dmax= 1.1e-02 nm, Epot= -6.11338e+05 Fmax= 3.69502e+03, atom= 3836\n",
      "Step=  695, Dmax= 6.6e-03 nm, Epot= -6.11363e+05 Fmax= 5.00004e+03, atom= 3836\n",
      "Step=  696, Dmax= 7.9e-03 nm, Epot= -6.11388e+05 Fmax= 5.43757e+03, atom= 3836\n",
      "Step=  697, Dmax= 9.5e-03 nm, Epot= -6.11407e+05 Fmax= 7.07775e+03, atom= 3836\n",
      "Step=  698, Dmax= 1.1e-02 nm, Epot= -6.11427e+05 Fmax= 7.96174e+03, atom= 3836\n",
      "Step=  699, Dmax= 1.4e-02 nm, Epot= -6.11434e+05 Fmax= 1.00465e+04, atom= 3836\n",
      "Step=  700, Dmax= 1.6e-02 nm, Epot= -6.11442e+05 Fmax= 1.16272e+04, atom= 3836\n",
      "Step=  702, Dmax= 9.9e-03 nm, Epot= -6.11541e+05 Fmax= 1.40445e+03, atom= 3836\n",
      "Step=  703, Dmax= 1.2e-02 nm, Epot= -6.11569e+05 Fmax= 1.41082e+04, atom= 3836\n",
      "Step=  704, Dmax= 1.4e-02 nm, Epot= -6.11697e+05 Fmax= 4.60948e+03, atom= 3836\n",
      "Step=  706, Dmax= 8.5e-03 nm, Epot= -6.11716e+05 Fmax= 6.62958e+03, atom= 3836\n",
      "Step=  707, Dmax= 1.0e-02 nm, Epot= -6.11741e+05 Fmax= 6.82364e+03, atom= 3836\n",
      "Step=  708, Dmax= 1.2e-02 nm, Epot= -6.11747e+05 Fmax= 9.35346e+03, atom= 3836\n",
      "Step=  709, Dmax= 1.5e-02 nm, Epot= -6.11766e+05 Fmax= 1.00090e+04, atom= 3836\n",
      "Step=  711, Dmax= 8.9e-03 nm, Epot= -6.11843e+05 Fmax= 1.58522e+03, atom= 3836\n",
      "Step=  712, Dmax= 1.1e-02 nm, Epot= -6.11864e+05 Fmax= 1.24091e+04, atom= 3836\n",
      "Step=  713, Dmax= 1.3e-02 nm, Epot= -6.11968e+05 Fmax= 4.32510e+03, atom= 3836\n",
      "Step=  715, Dmax= 7.7e-03 nm, Epot= -6.11990e+05 Fmax= 5.71967e+03, atom= 3836\n",
      "Step=  716, Dmax= 9.2e-03 nm, Epot= -6.12013e+05 Fmax= 6.34350e+03, atom= 3836\n",
      "Step=  717, Dmax= 1.1e-02 nm, Epot= -6.12027e+05 Fmax= 8.11405e+03, atom= 3836\n",
      "Step=  718, Dmax= 1.3e-02 nm, Epot= -6.12043e+05 Fmax= 9.26828e+03, atom= 3836\n",
      "Step=  720, Dmax= 7.9e-03 nm, Epot= -6.12111e+05 Fmax= 1.18259e+03, atom= 3836\n",
      "Step=  721, Dmax= 9.5e-03 nm, Epot= -6.12171e+05 Fmax= 1.12650e+04, atom= 3836\n",
      "Step=  722, Dmax= 1.1e-02 nm, Epot= -6.12258e+05 Fmax= 3.75305e+03, atom= 3836\n",
      "Step=  724, Dmax= 6.9e-03 nm, Epot= -6.12281e+05 Fmax= 5.25730e+03, atom= 3836\n",
      "Step=  725, Dmax= 8.2e-03 nm, Epot= -6.12306e+05 Fmax= 5.54193e+03, atom= 3836\n",
      "Step=  726, Dmax= 9.9e-03 nm, Epot= -6.12321e+05 Fmax= 7.43192e+03, atom= 3836\n",
      "Step=  727, Dmax= 1.2e-02 nm, Epot= -6.12341e+05 Fmax= 8.11108e+03, atom= 3836\n",
      "Step=  728, Dmax= 1.4e-02 nm, Epot= -6.12342e+05 Fmax= 1.05840e+04, atom= 3836\n",
      "Step=  729, Dmax= 1.7e-02 nm, Epot= -6.12352e+05 Fmax= 1.17796e+04, atom= 3836\n",
      "Step=  731, Dmax= 1.0e-02 nm, Epot= -6.12452e+05 Fmax= 1.61035e+03, atom= 3836\n",
      "Step=  733, Dmax= 6.1e-03 nm, Epot= -6.12492e+05 Fmax= 6.50877e+03, atom= 3836\n",
      "Step=  734, Dmax= 7.4e-03 nm, Epot= -6.12531e+05 Fmax= 3.16198e+03, atom= 3836\n",
      "Step=  735, Dmax= 8.8e-03 nm, Epot= -6.12540e+05 Fmax= 8.43221e+03, atom= 3836\n",
      "Step=  736, Dmax= 1.1e-02 nm, Epot= -6.12587e+05 Fmax= 5.49567e+03, atom= 3836\n",
      "Step=  738, Dmax= 6.4e-03 nm, Epot= -6.12620e+05 Fmax= 2.87859e+03, atom= 3836\n",
      "Step=  739, Dmax= 7.6e-03 nm, Epot= -6.12637e+05 Fmax= 7.15135e+03, atom= 3836\n",
      "Step=  740, Dmax= 9.2e-03 nm, Epot= -6.12676e+05 Fmax= 4.89348e+03, atom= 3836\n",
      "Step=  742, Dmax= 5.5e-03 nm, Epot= -6.12706e+05 Fmax= 2.31724e+03, atom= 3836\n",
      "Step=  743, Dmax= 6.6e-03 nm, Epot= -6.12731e+05 Fmax= 6.35722e+03, atom= 3836\n",
      "Step=  744, Dmax= 7.9e-03 nm, Epot= -6.12767e+05 Fmax= 4.03793e+03, atom= 3836\n",
      "Step=  745, Dmax= 9.5e-03 nm, Epot= -6.12772e+05 Fmax= 8.42902e+03, atom= 3836\n",
      "Step=  746, Dmax= 1.1e-02 nm, Epot= -6.12812e+05 Fmax= 6.54939e+03, atom= 3836\n",
      "Step=  748, Dmax= 6.8e-03 nm, Epot= -6.12852e+05 Fmax= 2.45536e+03, atom= 3836\n",
      "Step=  749, Dmax= 8.2e-03 nm, Epot= -6.12868e+05 Fmax= 8.32517e+03, atom= 3836\n",
      "Step=  750, Dmax= 9.9e-03 nm, Epot= -6.12917e+05 Fmax= 4.62525e+03, atom= 3836\n",
      "Step=  752, Dmax= 5.9e-03 nm, Epot= -6.12946e+05 Fmax= 3.12890e+03, atom= 3836\n",
      "Step=  753, Dmax= 7.1e-03 nm, Epot= -6.12965e+05 Fmax= 6.19043e+03, atom= 3836\n",
      "Step=  754, Dmax= 8.5e-03 nm, Epot= -6.12996e+05 Fmax= 4.98775e+03, atom= 3836\n",
      "Step=  755, Dmax= 1.0e-02 nm, Epot= -6.13000e+05 Fmax= 8.41413e+03, atom= 3836\n",
      "Step=  756, Dmax= 1.2e-02 nm, Epot= -6.13032e+05 Fmax= 7.69364e+03, atom= 3836\n",
      "Step=  758, Dmax= 7.4e-03 nm, Epot= -6.13082e+05 Fmax= 1.98992e+03, atom= 3836\n",
      "Step=  759, Dmax= 8.8e-03 nm, Epot= -6.13099e+05 Fmax= 9.59218e+03, atom= 3836\n",
      "Step=  760, Dmax= 1.1e-02 nm, Epot= -6.13163e+05 Fmax= 4.33176e+03, atom= 3836\n",
      "Step=  762, Dmax= 6.4e-03 nm, Epot= -6.13188e+05 Fmax= 4.00791e+03, atom= 3836\n",
      "Step=  763, Dmax= 7.6e-03 nm, Epot= -6.13206e+05 Fmax= 6.00678e+03, atom= 3836\n",
      "Step=  764, Dmax= 9.2e-03 nm, Epot= -6.13231e+05 Fmax= 6.01411e+03, atom= 3836\n",
      "Step=  765, Dmax= 1.1e-02 nm, Epot= -6.13238e+05 Fmax= 8.39370e+03, atom= 3836\n",
      "Step=  766, Dmax= 1.3e-02 nm, Epot= -6.13258e+05 Fmax= 8.92874e+03, atom= 3836\n",
      "Step=  768, Dmax= 7.9e-03 nm, Epot= -6.13321e+05 Fmax= 1.48558e+03, atom= 3836\n",
      "Step=  769, Dmax= 9.5e-03 nm, Epot= -6.13350e+05 Fmax= 1.09449e+04, atom= 3836\n",
      "Step=  770, Dmax= 1.1e-02 nm, Epot= -6.13431e+05 Fmax= 4.02435e+03, atom= 3836\n",
      "Step=  772, Dmax= 6.8e-03 nm, Epot= -6.13453e+05 Fmax= 4.94926e+03, atom= 3836\n",
      "Step=  773, Dmax= 8.2e-03 nm, Epot= -6.13473e+05 Fmax= 5.81435e+03, atom= 3836\n",
      "Step=  774, Dmax= 9.8e-03 nm, Epot= -6.13490e+05 Fmax= 7.11388e+03, atom= 3836\n",
      "Step=  775, Dmax= 1.2e-02 nm, Epot= -6.13503e+05 Fmax= 8.37558e+03, atom= 3836\n",
      "Step=  776, Dmax= 1.4e-02 nm, Epot= -6.13508e+05 Fmax= 1.02544e+04, atom= 3836\n",
      "Step=  777, Dmax= 1.7e-02 nm, Epot= -6.13509e+05 Fmax= 1.20318e+04, atom= 3836\n",
      "Step=  779, Dmax= 1.0e-02 nm, Epot= -6.13613e+05 Fmax= 1.31167e+03, atom= 3836\n",
      "Step=  780, Dmax= 1.2e-02 nm, Epot= -6.13620e+05 Fmax= 1.48457e+04, atom= 3836\n",
      "Step=  781, Dmax= 1.5e-02 nm, Epot= -6.13764e+05 Fmax= 4.43314e+03, atom= 3836\n",
      "Step=  783, Dmax= 8.8e-03 nm, Epot= -6.13775e+05 Fmax= 7.11140e+03, atom= 3836\n",
      "Step=  784, Dmax= 1.1e-02 nm, Epot= -6.13801e+05 Fmax= 6.78484e+03, atom= 3836\n",
      "Step=  786, Dmax= 6.3e-03 nm, Epot= -6.13843e+05 Fmax= 1.56570e+03, atom= 3836\n",
      "Step=  787, Dmax= 7.6e-03 nm, Epot= -6.13876e+05 Fmax= 8.42130e+03, atom= 3836\n",
      "Step=  788, Dmax= 9.1e-03 nm, Epot= -6.13929e+05 Fmax= 3.58981e+03, atom= 3836\n",
      "Step=  790, Dmax= 5.5e-03 nm, Epot= -6.13952e+05 Fmax= 3.60329e+03, atom= 3836\n",
      "Step=  791, Dmax= 6.6e-03 nm, Epot= -6.13973e+05 Fmax= 5.03779e+03, atom= 3836\n",
      "Step=  792, Dmax= 7.9e-03 nm, Epot= -6.13995e+05 Fmax= 5.32945e+03, atom= 3836\n",
      "Step=  793, Dmax= 9.5e-03 nm, Epot= -6.14008e+05 Fmax= 7.10298e+03, atom= 3836\n",
      "Step=  794, Dmax= 1.1e-02 nm, Epot= -6.14026e+05 Fmax= 7.83642e+03, atom= 3836\n",
      "Step=  795, Dmax= 1.4e-02 nm, Epot= -6.14027e+05 Fmax= 1.00521e+04, atom= 3836\n",
      "Step=  796, Dmax= 1.6e-02 nm, Epot= -6.14033e+05 Fmax= 1.14766e+04, atom= 3836\n",
      "Step=  798, Dmax= 9.8e-03 nm, Epot= -6.14128e+05 Fmax= 1.46782e+03, atom= 3836\n",
      "Step=  799, Dmax= 1.2e-02 nm, Epot= -6.14130e+05 Fmax= 1.39527e+04, atom= 3836\n",
      "Step=  800, Dmax= 1.4e-02 nm, Epot= -6.14253e+05 Fmax= 4.64185e+03, atom= 3836\n",
      "Step=  802, Dmax= 8.5e-03 nm, Epot= -6.14268e+05 Fmax= 6.51966e+03, atom= 3836\n",
      "Step=  803, Dmax= 1.0e-02 nm, Epot= -6.14288e+05 Fmax= 6.84437e+03, atom= 3836\n",
      "Step=  804, Dmax= 1.2e-02 nm, Epot= -6.14292e+05 Fmax= 9.22429e+03, atom= 3836\n",
      "Step=  805, Dmax= 1.5e-02 nm, Epot= -6.14305e+05 Fmax= 1.00096e+04, atom= 3836\n",
      "Step=  807, Dmax= 8.8e-03 nm, Epot= -6.14381e+05 Fmax= 1.50740e+03, atom= 3836\n",
      "Step=  808, Dmax= 1.1e-02 nm, Epot= -6.14389e+05 Fmax= 1.23967e+04, atom= 3836\n",
      "Step=  809, Dmax= 1.3e-02 nm, Epot= -6.14491e+05 Fmax= 4.22666e+03, atom= 3836\n",
      "Step=  811, Dmax= 7.6e-03 nm, Epot= -6.14508e+05 Fmax= 5.74978e+03, atom= 3836\n",
      "Step=  812, Dmax= 9.1e-03 nm, Epot= -6.14528e+05 Fmax= 6.23350e+03, atom= 3836\n",
      "Step=  813, Dmax= 1.1e-02 nm, Epot= -6.14537e+05 Fmax= 8.12747e+03, atom= 3836\n",
      "Step=  814, Dmax= 1.3e-02 nm, Epot= -6.14550e+05 Fmax= 9.13907e+03, atom= 3836\n",
      "Step=  816, Dmax= 7.9e-03 nm, Epot= -6.14614e+05 Fmax= 1.24185e+03, atom= 3836\n",
      "Step=  817, Dmax= 9.5e-03 nm, Epot= -6.14651e+05 Fmax= 1.11312e+04, atom= 3836\n",
      "Step=  818, Dmax= 1.1e-02 nm, Epot= -6.14734e+05 Fmax= 3.78781e+03, atom= 3836\n",
      "Step=  820, Dmax= 6.8e-03 nm, Epot= -6.14753e+05 Fmax= 5.16090e+03, atom= 3836\n",
      "Step=  821, Dmax= 8.2e-03 nm, Epot= -6.14773e+05 Fmax= 5.56671e+03, atom= 3836\n",
      "Step=  822, Dmax= 9.8e-03 nm, Epot= -6.14785e+05 Fmax= 7.32051e+03, atom= 3836\n",
      "Step=  823, Dmax= 1.2e-02 nm, Epot= -6.14800e+05 Fmax= 8.11932e+03, atom= 3836\n",
      "Step=  825, Dmax= 7.1e-03 nm, Epot= -6.14854e+05 Fmax= 1.12666e+03, atom= 3836\n",
      "Step=  826, Dmax= 8.5e-03 nm, Epot= -6.14900e+05 Fmax= 1.00405e+04, atom= 3836\n",
      "Step=  827, Dmax= 1.0e-02 nm, Epot= -6.14972e+05 Fmax= 3.29982e+03, atom= 3836\n",
      "Step=  829, Dmax= 6.1e-03 nm, Epot= -6.14991e+05 Fmax= 4.70729e+03, atom= 3836\n",
      "Step=  830, Dmax= 7.3e-03 nm, Epot= -6.15012e+05 Fmax= 4.90609e+03, atom= 3836\n",
      "Step=  831, Dmax= 8.8e-03 nm, Epot= -6.15026e+05 Fmax= 6.62148e+03, atom= 3836\n",
      "Step=  832, Dmax= 1.1e-02 nm, Epot= -6.15044e+05 Fmax= 7.22869e+03, atom= 3836\n",
      "Step=  833, Dmax= 1.3e-02 nm, Epot= -6.15046e+05 Fmax= 9.35960e+03, atom= 3836\n",
      "Step=  834, Dmax= 1.5e-02 nm, Epot= -6.15054e+05 Fmax= 1.05986e+04, atom= 3836\n",
      "Step=  836, Dmax= 9.1e-03 nm, Epot= -6.15136e+05 Fmax= 1.40065e+03, atom= 3836\n",
      "Step=  837, Dmax= 1.1e-02 nm, Epot= -6.15145e+05 Fmax= 1.29015e+04, atom= 3836\n",
      "Step=  838, Dmax= 1.3e-02 nm, Epot= -6.15251e+05 Fmax= 4.33855e+03, atom= 3836\n",
      "Step=  840, Dmax= 7.9e-03 nm, Epot= -6.15266e+05 Fmax= 6.00713e+03, atom= 3836\n",
      "Step=  841, Dmax= 9.4e-03 nm, Epot= -6.15285e+05 Fmax= 6.38531e+03, atom= 3836\n",
      "Step=  842, Dmax= 1.1e-02 nm, Epot= -6.15291e+05 Fmax= 8.51096e+03, atom= 3836\n",
      "Step=  843, Dmax= 1.4e-02 nm, Epot= -6.15304e+05 Fmax= 9.32470e+03, atom= 3836\n",
      "Step=  845, Dmax= 8.2e-03 nm, Epot= -6.15370e+05 Fmax= 1.35564e+03, atom= 3836\n",
      "Step=  846, Dmax= 9.8e-03 nm, Epot= -6.15388e+05 Fmax= 1.15388e+04, atom= 3836\n",
      "Step=  847, Dmax= 1.2e-02 nm, Epot= -6.15478e+05 Fmax= 3.87484e+03, atom= 3836\n",
      "Step=  849, Dmax= 7.1e-03 nm, Epot= -6.15494e+05 Fmax= 5.37535e+03, atom= 3836\n",
      "Step=  850, Dmax= 8.5e-03 nm, Epot= -6.15514e+05 Fmax= 5.73455e+03, atom= 3836\n",
      "Step=  851, Dmax= 1.0e-02 nm, Epot= -6.15523e+05 Fmax= 7.58222e+03, atom= 3836\n",
      "Step=  852, Dmax= 1.2e-02 nm, Epot= -6.15537e+05 Fmax= 8.42519e+03, atom= 3836\n",
      "Step=  854, Dmax= 7.3e-03 nm, Epot= -6.15593e+05 Fmax= 1.19806e+03, atom= 3836\n",
      "Step=  855, Dmax= 8.8e-03 nm, Epot= -6.15629e+05 Fmax= 1.02784e+04, atom= 3836\n",
      "Step=  856, Dmax= 1.1e-02 nm, Epot= -6.15702e+05 Fmax= 3.55404e+03, atom= 3836\n",
      "Step=  858, Dmax= 6.3e-03 nm, Epot= -6.15720e+05 Fmax= 4.74084e+03, atom= 3836\n",
      "Step=  859, Dmax= 7.6e-03 nm, Epot= -6.15739e+05 Fmax= 5.20677e+03, atom= 3836\n",
      "Step=  860, Dmax= 9.1e-03 nm, Epot= -6.15752e+05 Fmax= 6.74053e+03, atom= 3836\n",
      "Step=  861, Dmax= 1.1e-02 nm, Epot= -6.15766e+05 Fmax= 7.57617e+03, atom= 3836\n",
      "Step=  862, Dmax= 1.3e-02 nm, Epot= -6.15768e+05 Fmax= 9.63890e+03, atom= 3836\n",
      "Step=  863, Dmax= 1.6e-02 nm, Epot= -6.15772e+05 Fmax= 1.09616e+04, atom= 3836\n",
      "Step=  865, Dmax= 9.4e-03 nm, Epot= -6.15859e+05 Fmax= 1.37345e+03, atom= 3836\n",
      "Step=  867, Dmax= 5.7e-03 nm, Epot= -6.15893e+05 Fmax= 6.10557e+03, atom= 3836\n",
      "Step=  868, Dmax= 6.8e-03 nm, Epot= -6.15927e+05 Fmax= 2.80246e+03, atom= 3836\n",
      "Step=  869, Dmax= 8.1e-03 nm, Epot= -6.15932e+05 Fmax= 7.87598e+03, atom= 3836\n",
      "Step=  870, Dmax= 9.8e-03 nm, Epot= -6.15972e+05 Fmax= 4.95105e+03, atom= 3836\n",
      "Step=  872, Dmax= 5.9e-03 nm, Epot= -6.15999e+05 Fmax= 2.76112e+03, atom= 3836\n",
      "Step=  873, Dmax= 7.0e-03 nm, Epot= -6.16012e+05 Fmax= 6.47687e+03, atom= 3836\n",
      "Step=  874, Dmax= 8.4e-03 nm, Epot= -6.16043e+05 Fmax= 4.61653e+03, atom= 3836\n",
      "Step=  876, Dmax= 5.1e-03 nm, Epot= -6.16068e+05 Fmax= 2.02520e+03, atom= 3836\n",
      "Step=  877, Dmax= 6.1e-03 nm, Epot= -6.16089e+05 Fmax= 5.96537e+03, atom= 3836\n",
      "Step=  878, Dmax= 7.3e-03 nm, Epot= -6.16120e+05 Fmax= 3.60879e+03, atom= 3836\n",
      "Step=  879, Dmax= 8.8e-03 nm, Epot= -6.16121e+05 Fmax= 7.87509e+03, atom= 3836\n",
      "Step=  880, Dmax= 1.1e-02 nm, Epot= -6.16156e+05 Fmax= 5.91924e+03, atom= 3836\n",
      "Step=  882, Dmax= 6.3e-03 nm, Epot= -6.16189e+05 Fmax= 2.37305e+03, atom= 3836\n",
      "Step=  883, Dmax= 7.6e-03 nm, Epot= -6.16199e+05 Fmax= 7.55693e+03, atom= 3836\n",
      "Step=  884, Dmax= 9.1e-03 nm, Epot= -6.16239e+05 Fmax= 4.37019e+03, atom= 3836\n",
      "Step=  886, Dmax= 5.4e-03 nm, Epot= -6.16263e+05 Fmax= 2.77143e+03, atom= 3836\n",
      "Step=  887, Dmax= 6.5e-03 nm, Epot= -6.16278e+05 Fmax= 5.81270e+03, atom= 3836\n",
      "Step=  888, Dmax= 7.8e-03 nm, Epot= -6.16305e+05 Fmax= 4.48195e+03, atom= 3836\n",
      "Step=  889, Dmax= 9.4e-03 nm, Epot= -6.16306e+05 Fmax= 7.86304e+03, atom= 3836\n",
      "Step=  890, Dmax= 1.1e-02 nm, Epot= -6.16334e+05 Fmax= 6.97073e+03, atom= 3836\n",
      "Step=  892, Dmax= 6.8e-03 nm, Epot= -6.16375e+05 Fmax= 1.94639e+03, atom= 3836\n",
      "Step=  893, Dmax= 8.1e-03 nm, Epot= -6.16385e+05 Fmax= 8.72343e+03, atom= 3836\n",
      "Step=  894, Dmax= 9.8e-03 nm, Epot= -6.16437e+05 Fmax= 4.10041e+03, atom= 3836\n",
      "Step=  896, Dmax= 5.9e-03 nm, Epot= -6.16458e+05 Fmax= 3.58010e+03, atom= 3836\n",
      "Step=  897, Dmax= 7.0e-03 nm, Epot= -6.16472e+05 Fmax= 5.64493e+03, atom= 3836\n",
      "Step=  898, Dmax= 8.4e-03 nm, Epot= -6.16493e+05 Fmax= 5.42543e+03, atom= 3836\n",
      "Step=  899, Dmax= 1.0e-02 nm, Epot= -6.16497e+05 Fmax= 7.84581e+03, atom= 3836\n",
      "Step=  900, Dmax= 1.2e-02 nm, Epot= -6.16515e+05 Fmax= 8.10603e+03, atom= 3836\n",
      "Step=  902, Dmax= 7.3e-03 nm, Epot= -6.16566e+05 Fmax= 1.48331e+03, atom= 3836\n",
      "Step=  903, Dmax= 8.7e-03 nm, Epot= -6.16583e+05 Fmax= 9.97204e+03, atom= 3836\n",
      "Step=  904, Dmax= 1.0e-02 nm, Epot= -6.16649e+05 Fmax= 3.81473e+03, atom= 3836\n",
      "Step=  906, Dmax= 6.3e-03 nm, Epot= -6.16668e+05 Fmax= 4.44781e+03, atom= 3836\n",
      "Step=  907, Dmax= 7.6e-03 nm, Epot= -6.16683e+05 Fmax= 5.46667e+03, atom= 3836\n",
      "Step=  908, Dmax= 9.1e-03 nm, Epot= -6.16697e+05 Fmax= 6.43874e+03, atom= 3836\n",
      "Step=  909, Dmax= 1.1e-02 nm, Epot= -6.16707e+05 Fmax= 7.82856e+03, atom= 3836\n",
      "Step=  910, Dmax= 1.3e-02 nm, Epot= -6.16712e+05 Fmax= 9.32662e+03, atom= 3836\n",
      "Step=  912, Dmax= 7.8e-03 nm, Epot= -6.16777e+05 Fmax= 9.86463e+02, atom= 3836\n",
      "\n",
      "writing lowest energy coordinates.\n",
      "\n",
      "Steepest Descents converged to Fmax < 1000 in 913 steps\n",
      "Potential Energy  = -6.1677725e+05\n",
      "Maximum force     =  9.8646283e+02 on atom 3836\n",
      "Norm of force     =  1.9121168e+01\n",
      "\n",
      "GROMACS reminds you: \"If my PhD doesn't allow me to be right on the internet, what is it even good for?\" (Martin Vögele)\n",
      "\n"
     ]
    }
   ],
   "source": [
    "# run mdrun to carry out the energy minimisation:\n",
    "!gmx mdrun -v -deffnm em"
   ]
  },
  {
   "cell_type": "markdown",
   "metadata": {
    "nbpresent": {
     "id": "65593f21-7e6d-426e-a48e-847cd9faa631"
    }
   },
   "source": [
    "- `-v` makes `gmx mdrun` verbose such that it prints its progress to the screen at every step. \n",
    "  - Never use this flag if run in background, on a HPC center or on a local cluster, it prints unnecessary data in the standard output file. \n",
    "- `-deffnm` define the file names of the input and output. \n",
    "  - if you did not name your grompp output \"em.tpr,\" you will have to explicitly specify its name with the `gmx mdrun` `-s` flag."
   ]
  },
  {
   "cell_type": "markdown",
   "metadata": {
    "nbpresent": {
     "id": "0274fdde-8eaf-4df7-b0da-f7744035566f"
    }
   },
   "source": [
    "### Determining if the run was successful"
   ]
  },
  {
   "cell_type": "markdown",
   "metadata": {
    "nbpresent": {
     "id": "a1ca837f-1179-4518-a425-cd9ad733cd73"
    }
   },
   "source": [
    "two very important factors to evaluate  \n",
    "- the potential energy: `Epot` should be negative and (for a simple protein in water) on the order of 100000 kJ/mol\n",
    "- the maximum force: `Fmax`, the target for which was set in minim.mdp - `emtol = 1000.0` - indicating a target Fmax of no greater than 1000 kJ/(mol nm). \n",
    "  - It is possible to arrive at a reasonable Epot with Fmax > emtol. If this happens, your system may not be stable enough for simulation. \n",
    "  - Evaluate why it may be happening, and perhaps change your minimization parameters (integrator, emstep, etc).\n",
    "\n"
   ]
  },
  {
   "cell_type": "markdown",
   "metadata": {
    "nbpresent": {
     "id": "08ee3d6c-ad7d-42be-9622-f43d9ab3d1e7"
    }
   },
   "source": [
    "### Analyzing the run results"
   ]
  },
  {
   "cell_type": "markdown",
   "metadata": {
    "nbpresent": {
     "id": "e4c99f39-4127-487f-b3fe-fbe5b3595316"
    }
   },
   "source": [
    "- Analysis using `em.edr` file containing all of the energy terms.\n",
    "- To analyse or visualize simulation data in python or jupyter notebooks, we can output a simplified xvg format from gmx-analysis tools with the option `-xvg none`"
   ]
  },
  {
   "cell_type": "code",
   "execution_count": null,
   "metadata": {
    "nbpresent": {
     "id": "9ebad872-0589-4675-a240-b89c396a35c1"
    },
    "scrolled": true
   },
   "outputs": [],
   "source": [
    "# extract potential energy to a .xvg file \n",
    "!printf \"Potential\\n0\\n\" | gmx energy -f em.edr -o potential.xvg -xvg none"
   ]
  },
  {
   "cell_type": "code",
   "execution_count": null,
   "metadata": {
    "nbpresent": {
     "id": "4ce04079-a188-4372-ac3f-10665cd8b1a5"
    },
    "scrolled": true
   },
   "outputs": [],
   "source": [
    "# plot energy minimization curve\n",
    "import pandas as pd\n",
    "import plotly.express as px \n",
    "\n",
    "df = pd.read_csv('potential.xvg', sep='\\s+', header=None, names=['step','energy'])\n",
    "px.line(df, x='step', y='energy', title='Energy Minimization')\n"
   ]
  },
  {
   "cell_type": "markdown",
   "metadata": {
    "nbpresent": {
     "id": "e6db598c-b3ac-4a16-8044-1662a0646b15"
    }
   },
   "source": [
    "- EM ensures that we have a reasonable starting structurein terms of geometry and solvent orientation\n",
    "- To begin real dynamics, we must equilibrate the solvent and ions around the protein.\n",
    "  - If we were to attempt unrestrained dynamics at this point, the system may collapse because the solvent is mostly optimized within itself, and not necessarily with the solute, and ions are randomply placed by replacing water molecules. "
   ]
  },
  {
   "cell_type": "markdown",
   "metadata": {
    "nbpresent": {
     "id": "4c85e968-f181-42fb-a3b3-ab42facdb15a"
    }
   },
   "source": [
    "### Position restraints "
   ]
  },
  {
   "cell_type": "markdown",
   "metadata": {
    "nbpresent": {
     "id": "2b10cf65-f4fd-4244-bb0b-612e4aa3ade8"
    }
   },
   "source": [
    "Use `posre.itp` to apply a position restraining force on the heavy atoms of the protein (anything that is not a hydrogen). \n",
    "- Movement is permitted, but only after overcoming a substantial energy penalty. \n",
    "- The utility of position restraints is that they allow us to relax our solvent and ions around our protein, without the added variable of structural changes in the protein. \n",
    "- The **origin** (the coordinates at which the restraint potential is zero) is provided via a coordinate file passed to the `-r` option of `grompp`. "
   ]
  },
  {
   "cell_type": "markdown",
   "metadata": {
    "nbpresent": {
     "id": "2b10cf65-f4fd-4244-bb0b-612e4aa3ade8"
    }
   },
   "source": [
    "To use Positional Restraints, add \\\"define = -DPOSRES\\\" to the `.mdp` file \n",
    "- a file with restraint coordinates must be supplied with `-r` to `gmx grompp`. (can be the same file as supplied for `-c`)"
   ]
  },
  {
   "cell_type": "markdown",
   "metadata": {
    "nbpresent": {
     "id": "4c85e968-f181-42fb-a3b3-ab42facdb15a"
    }
   },
   "source": [
    "### Equilibration run - temperature - stabilized the temperature of the system"
   ]
  },
  {
   "cell_type": "markdown",
   "metadata": {
    "nbpresent": {
     "id": "2b10cf65-f4fd-4244-bb0b-612e4aa3ade8"
    }
   },
   "source": [
    "The system needs to be brought to the temperature we wish to simulate and establish the proper orientation about the solute (the protein).\n",
    "- After we arrive at the correct temperature (based on kinetic energies), we will apply pressure to the system until it reaches the proper density.\n",
    "\n",
    "Equilibration is often conducted in two phases. \n",
    "- first phase is conducted under an NVT ensemble (constant Number of particles, Volume, and Temperature) AKA a \"isothermal-isochoric\" or \"canonical.\" \n",
    "  - The timeframe for such a procedure is depends on the contents of the system. 100-200 ps should suffice\n",
    "  - This may take a while."
   ]
  },
  {
   "cell_type": "markdown",
   "metadata": {
    "nbpresent": {
     "id": "2b10cf65-f4fd-4244-bb0b-612e4aa3ade8"
    }
   },
   "source": [
    "Call `grompp` and `mdrun` just as we did at the EM step, except: \n",
    "- use energy minimised structure as input and a different `.mdp `file for the run.\n",
    "- Instead of energy tolerance, we now give time a step size and a number of steps.\n",
    "- Furthermore, we need to set a temperature."
   ]
  },
  {
   "cell_type": "markdown",
   "metadata": {
    "nbpresent": {
     "id": "cc6aa785-2b71-44bc-8a86-0c95e3b65c82"
    }
   },
   "source": [
    "Take note of a few parameters in the new `nvt-charmm.mdp` file:\n",
    "- `gen_vel = yes`: Initiates velocity generation. Using different random seeds (gen_seed) gives different initial velocities, and thus multiple (different) simulations can be conducted from the same starting structure.\n",
    "- `tcoupl = V-rescale`: The velocity rescaling thermostat is an improvement upon the Berendsen weak coupling method, which did not reproduce a correct kinetic ensemble.\n",
    "- `pcoupl = no`: Pressure coupling is not applied. \n",
    "- A full explanation of the parameters used can be found in the GROMACS [manual](http://manual.gromacs.org/documentation/current/user-guide/mdp-options.html)"
   ]
  },
  {
   "cell_type": "code",
   "execution_count": null,
   "metadata": {
    "nbpresent": {
     "id": "2b413eeb-b4a1-4499-b977-156c6a0b4566"
    },
    "scrolled": true
   },
   "outputs": [],
   "source": [
    "# MD Equilibrium run - temperature. \n",
    "!gmx grompp -f input/nvt-charmm.mdp -c em.gro -r em.gro -p topol.top -o nvt.tpr \n",
    "!gmx mdrun -ntmpi 1 -v -deffnm nvt"
   ]
  },
  {
   "cell_type": "markdown",
   "metadata": {
    "nbpresent": {
     "id": "cc6aa785-2b71-44bc-8a86-0c95e3b65c82"
    }
   },
   "source": [
    "Analyze the temperature progression, again using gmx energy:"
   ]
  },
  {
   "cell_type": "code",
   "execution_count": null,
   "metadata": {
    "nbpresent": {
     "id": "a414818c-cb67-4514-a983-5322d9d388b0"
    },
    "scrolled": true
   },
   "outputs": [],
   "source": [
    "# extract temperature data\n",
    "!echo \"Temperature\" | gmx energy -f nvt.edr -o temperature.xvg -xvg none -b 20"
   ]
  },
  {
   "cell_type": "code",
   "execution_count": null,
   "metadata": {
    "nbpresent": {
     "id": "4ce04079-a188-4372-ac3f-10665cd8b1a5"
    },
    "scrolled": false
   },
   "outputs": [],
   "source": [
    "# Plot temperature data \n",
    "import pandas as pd\n",
    "import plotly.express as px \n",
    "\n",
    "df = pd.read_csv('temperature.xvg', sep='\\s+', header=None, names=['step','temperature'])\n",
    "px.line(df, x='step', y='temperature', title='Temperature Equilibration')"
   ]
  },
  {
   "cell_type": "markdown",
   "metadata": {
    "nbpresent": {
     "id": "00806afa-b604-4964-9616-edc3ff3d046d"
    }
   },
   "source": [
    "- Observe the plot and determine the temperature that the system reaches and remains stable at (target value (300 K))\n",
    "- Determine an equilibrium period that may be adequate for this system (ps)."
   ]
  },
  {
   "cell_type": "markdown",
   "metadata": {
    "nbpresent": {
     "id": "82f60247-efd9-4559-9b40-ddc31d78b0cf"
    }
   },
   "source": [
    "### Equilibration run - pressure - stabilize the pressure (and thus also the density) of the system"
   ]
  },
  {
   "cell_type": "markdown",
   "metadata": {
    "nbpresent": {
     "id": "d420cdd6-a94d-49a4-8776-c5ceee7b3cb4"
    }
   },
   "source": [
    "- Equilibration of pressure is conducted under an NPT ensemble, wherein the Number of particles, Pressure, and Temperature are all constant. \n",
    "- The ensemble is also called the \"isothermal-isobaric\" ensemble, and most closely resembles experimental conditions.\n",
    "\n",
    "A new `npt-charmm.mdp` file will be used. \n",
    "- Note is not drastically different from the parameter file used for NVT equilibration, note the addition of the pressure coupling section. \n",
    "\n",
    "A few other changes:\n",
    "- `continuation = yes`: Confirms we are continuing the simulation from the NVT equilibration phase\n",
    "- `gen_vel = no`: Velocities are read from the trajectory (see below) \n",
    "\n",
    "Call `grompp` and `mdrun` just as we did for temperature equilibration.\n",
    "- include `-t` flag to include the checkpoint file from the nvt equilibration\n",
    "  - this file contains all the necessary state variables to continue our simulation. \n",
    "- to conserve the velocities produced during nvt, we must include the final coordinate file (output) of the nvt simulation using `-c` option"
   ]
  },
  {
   "cell_type": "code",
   "execution_count": null,
   "metadata": {
    "nbpresent": {
     "id": "d0031438-f9e0-4d31-9c19-df4dc92d2d22"
    }
   },
   "outputs": [],
   "source": [
    "# update the files using grompp\n",
    "!gmx grompp -f input/npt-charmm.mdp -c nvt.gro -r nvt.gro -t nvt.cpt -p topol.top -o npt.tpr"
   ]
  },
  {
   "cell_type": "code",
   "execution_count": null,
   "metadata": {
    "nbpresent": {
     "id": "8a3208e1-acc3-40ab-b3be-a26fa2bb071c"
    },
    "scrolled": true
   },
   "outputs": [],
   "source": [
    "# start an MD simulation just like before\n",
    "!gmx mdrun -ntmpi 1 -v -deffnm npt"
   ]
  },
  {
   "cell_type": "markdown",
   "metadata": {
    "nbpresent": {
     "id": "eb120f75-b472-4cb1-a3ee-21c580ca03e7"
    }
   },
   "source": [
    "Analyze the pressure progression, again using energy:"
   ]
  },
  {
   "cell_type": "code",
   "execution_count": null,
   "metadata": {
    "nbpresent": {
     "id": "dd41db3e-bcdb-4cad-a8c7-834ebd3b6078"
    },
    "scrolled": false
   },
   "outputs": [],
   "source": [
    "# extract pressure data\n",
    "!echo \"Pressure\" | gmx energy -f npt.edr -o pressure.xvg -xvg none"
   ]
  },
  {
   "cell_type": "code",
   "execution_count": null,
   "metadata": {
    "nbpresent": {
     "id": "4ce04079-a188-4372-ac3f-10665cd8b1a5"
    },
    "scrolled": true
   },
   "outputs": [],
   "source": [
    "# Plot the pressure data \n",
    "import pandas as pd\n",
    "df = pd.read_csv('pressure.xvg', sep='\\s+', header=None, names=['step','pressure'])\n",
    "px.line(df, x='step', y='pressure', title='Pressure Equilibration')"
   ]
  },
  {
   "cell_type": "markdown",
   "metadata": {
    "nbpresent": {
     "id": "24293621-f825-48bb-8493-b42fbc65c616"
    }
   },
   "source": [
    "Pressure is a quantity that fluctuates widely over the course of an MD simulation\n",
    "- as is clear from the large root-mean-square fluctuation (in the order of 100 bar)\n",
    "- statistically speaking, one cannot distinguish a difference between the obtained average and the target/reference value (1 bar).\n",
    "\n",
    "Let's take a look at density:"
   ]
  },
  {
   "cell_type": "code",
   "execution_count": null,
   "metadata": {
    "nbpresent": {
     "id": "5f5636cc-2d8e-4fcb-b1a3-a6aa5e059be9"
    },
    "scrolled": true
   },
   "outputs": [],
   "source": [
    "# extract density data \n",
    "!echo \"Density\" | gmx energy -f npt.edr -o density.xvg -xvg none"
   ]
  },
  {
   "cell_type": "code",
   "execution_count": null,
   "metadata": {
    "nbpresent": {
     "id": "4ce04079-a188-4372-ac3f-10665cd8b1a5"
    },
    "scrolled": false
   },
   "outputs": [],
   "source": [
    "# plot density data \n",
    "import pandas as pd\n",
    "df = pd.read_csv('density.xvg', sep='\\s+', header=None, names=['step','density'])\n",
    "px.line(df, x='step', y='density', title='Density Equilibration')"
   ]
  },
  {
   "cell_type": "markdown",
   "metadata": {
    "nbpresent": {
     "id": "55be45c5-3caa-472d-995e-9e9532ff4f86"
    }
   },
   "source": [
    "To determine if the system is well-equilibrated now with respect to pressure and density: \n",
    "- observe the densiry plot to see if density values are very stable over time\n",
    "\n",
    "Note: Pressure-related terms are slow to converge, you may have to run NPT equilibration slightly longer than is specified here."
   ]
  },
  {
   "cell_type": "markdown",
   "metadata": {
    "nbpresent": {
     "id": "bcefd2f6-8318-40a7-98e0-dc89ecb9ca56"
    }
   },
   "source": [
    "### The \"production\" run"
   ]
  },
  {
   "cell_type": "markdown",
   "metadata": {
    "nbpresent": {
     "id": "f366f0c1-5bb1-47a1-a8af-e6f79e7eb2fc"
    }
   },
   "source": [
    "We are now ready to release the position restraints and run production MD for data collection. \n",
    "- We will make use of the checkpoint file (which in this case now contains preserve pressure coupling information) to `grompp`. We will run a 1-ns MD simulation. \n",
    "  - Note we have explictly add a section that controls the output frequency in log file (`.log`), energy file (`.edr`), in the trajcotry file (`.trr`) and the compress trajectory file (`.xtc`).\n",
    "  - note we will be using a new mdp file `md-charmm.mdp`"
   ]
  },
  {
   "cell_type": "markdown",
   "metadata": {
    "nbpresent": {
     "id": "f0ff0a16-ecdd-40e6-af2c-4234793043c1"
    }
   },
   "source": [
    "Here, we use velocity-rescaling temperature coupling as thermostat and stochastic cell rescaling as barostat. \n",
    "- A full explanation of the available thermostats and barostats in GROMACS can be found in the manual (see [here](http://manual.gromacs.org/documentation/current/reference-manual/algorithms/molecular-dynamics.html#temperature-coupling) for thermostat and [here](http://manual.gromacs.org/documentation/current/reference-manual/algorithms/molecular-dynamics.html#pressure-coupling) for barostat). \n",
    "\n",
    "Note, for thermostats and barostats we need to compute temperature or pressure. This requires global communication and is currently not done on GPU. To reduce these computational cost, \n",
    "  - [nsttcouple](https://manual.gromacs.org/current/user-guide/mdp-options.html#mdp-nsttcouple) frequency for coupling temperature set to 100 by default\n",
    "  - [nstpcouple](https://manual.gromacs.org/current/user-guide/mdp-options.html#mdp-nstpcouple) frequency for coupling pressure set to 100 by default\n",
    "  - Recommended to use `tau_t = 1` ps for V-rescale \n",
    "  - Recommended to use `tau_p = 5` ps for C-rescale\n",
    "\n",
    "`gmx grompp` will print an estimate for generated data and PME load. \n",
    "- PME load will dictate how many processors should be dedicated to the PME calculation, and how many for the PP (everything except for PME) calculations. [manual](http://manual.gromacs.org/documentation/current/user-guide/mdrun-performance.html#parallelization-schemes)"
   ]
  },
  {
   "cell_type": "code",
   "execution_count": null,
   "metadata": {
    "nbpresent": {
     "id": "9749ba51-ceef-4d26-a92b-f056a3a4e4c1"
    },
    "scrolled": true
   },
   "outputs": [],
   "source": [
    "# the produciton run `grompp`\n",
    "!gmx grompp -f input/md-charmm.mdp -c npt.gro -t npt.cpt -p topol.top -o md.tpr"
   ]
  },
  {
   "cell_type": "code",
   "execution_count": null,
   "metadata": {
    "nbpresent": {
     "id": "94034110-7553-4031-ab62-01022bce77b8"
    },
    "scrolled": true
   },
   "outputs": [],
   "source": [
    "# The production run `mdrun`\n",
    "!gmx mdrun -ntmpi 1 -v -deffnm md"
   ]
  },
  {
   "cell_type": "markdown",
   "metadata": {
    "nbpresent": {
     "id": "f5ecb43b-4d2f-44e7-85dd-62f9d2665a17"
    }
   },
   "source": [
    "### Analysis"
   ]
  },
  {
   "cell_type": "markdown",
   "metadata": {
    "nbpresent": {
     "id": "ef9d62ee-3df6-4b4e-ba99-0eb1e6374fb2"
    }
   },
   "source": [
    "What types of data are important? Wha tools do we have for analysis?\n",
    "- [`gmx trjconv`](https://manual.gromacs.org/current/onlinehelp/gmx-trjconv.html) which is used as a post-processing tool to strip out coordinates, correct for periodicity, or manually alter the trajectory (time units, frame frequency, etc)\n",
    "  - we can use this to account for any periodicity in the system. \n",
    "  - `-center`: center atoms in the box \n",
    "  - options to specify input files: `-f`, `-s`\n",
    "  - `-pcb`: sets the type of periodic boundary condition treatment. `-mol` puts the center of mass of molecules in the box, and requires a run input file to be supplied with `-s`.\n",
    "- [`gmx mindist`](https://manual.gromacs.org/current/onlinehelp/gmx-mindist.html) \n",
    "  - use this to calculate the distance between the protein and its periodic image, to check that they do not interact with one another. \n",
    "  - The distance between the protein and its periodic image should not be smaller than the cut-off used to describe non-bonded interactions.\n",
    "  - `-od`: output file\n",
    "  - `-pi`: plot the minimum distance of a group to its periodic image. \n",
    "- [`gmx rms`](https://manual.gromacs.org/current/onlinehelp/gmx-rms.html) to check for structural stability \n",
    "  - calculate RMSD relative to the crystal structure present in the original pdb file \n",
    "  - `-tu`: unit for time value \n",
    "  - Choose 4 (\"Backbone\") for both the least-squares fit and the group for RMSD calculation. "
   ]
  },
  {
   "cell_type": "code",
   "execution_count": null,
   "metadata": {
    "nbpresent": {
     "id": "49e846cb-4d93-4ff7-972e-2a01e68ffe13"
    },
    "scrolled": true
   },
   "outputs": [],
   "source": [
    "# convert trajectory files \n",
    "!printf \"1\\n1\\n\" | gmx trjconv -s md.tpr -f md.xtc -o md_center.xtc -center -pbc mol"
   ]
  },
  {
   "cell_type": "code",
   "execution_count": null,
   "metadata": {
    "nbpresent": {
     "id": "49e846cb-4d93-4ff7-972e-2a01e68ffe13"
    },
    "scrolled": true
   },
   "outputs": [],
   "source": [
    "# check distance between protein and its periodic image \n",
    "!printf \"1\\n\" | gmx mindist -s md.tpr -f md_center.xtc -pi -od mindist.xvg \n",
    "#!xmgrace mindist.xvg"
   ]
  },
  {
   "cell_type": "code",
   "execution_count": null,
   "metadata": {
    "nbpresent": {
     "id": "41a754a7-38be-4f22-b1af-838fefef505b"
    },
    "scrolled": false
   },
   "outputs": [],
   "source": [
    "# check Extract rmsd data\n",
    "!printf \"4\\n1\\n\" | gmx rms -s em.tpr -f md_center.xtc -o rmsd_xray.xvg -tu ns -xvg none"
   ]
  },
  {
   "cell_type": "code",
   "execution_count": null,
   "metadata": {
    "nbpresent": {
     "id": "4ce04079-a188-4372-ac3f-10665cd8b1a5"
    },
    "scrolled": false
   },
   "outputs": [],
   "source": [
    "# plot rmsd\n",
    "import pandas as pd\n",
    "df = pd.read_csv('rmsd_xray.xvg', sep='\\s+', header=None, names=['time','RMSD'])\n",
    "df.plot('time')"
   ]
  },
  {
   "cell_type": "markdown",
   "metadata": {
    "nbpresent": {
     "id": "0c6ed6c2-b327-4aa5-be30-5a34dda3fb00"
    }
   },
   "source": [
    "### Radius of gyration"
   ]
  },
  {
   "cell_type": "markdown",
   "metadata": {
    "nbpresent": {
     "id": "5e00cc55-3f22-419c-b7ec-12b1a1974c87"
    }
   },
   "source": [
    "This is a measure of its compactness. \n",
    "- If a protein is stably folded, it will likely maintain a relatively steady value of Rg. \n",
    "- If a protein unfolds, its Rg will change over time. \n",
    "- Analyze the radius of gyration using GROMACS [`gmx gyrate`](https://manual.gromacs.org/current/onlinehelp/gmx-gyrate.html) "
   ]
  },
  {
   "cell_type": "code",
   "execution_count": null,
   "metadata": {
    "nbpresent": {
     "id": "d5801034-d329-48bd-9563-b59b3df88421"
    },
    "scrolled": true
   },
   "outputs": [],
   "source": [
    "# analyze the radius of gyration\n",
    "!echo \"1\" | gmx gyrate -f md_center.xtc -s md.tpr -o gyrate.xvg -xvg none"
   ]
  },
  {
   "cell_type": "code",
   "execution_count": null,
   "metadata": {
    "nbpresent": {
     "id": "4ce04079-a188-4372-ac3f-10665cd8b1a5"
    },
    "scrolled": false
   },
   "outputs": [],
   "source": [
    "# plot radius of gyration\n",
    "import pandas as pd\n",
    "df = pd.read_csv('gyrate.xvg', sep='\\s+', header=None, names=['time','Rg'], usecols=[0, 1])\n",
    "df.plot('time')"
   ]
  },
  {
   "cell_type": "markdown",
   "metadata": {
    "nbpresent": {
     "id": "ca31ca31-edde-434e-9757-96e683450f2b"
    }
   },
   "source": [
    "Stable protein in its compact (folded) form implies reasonably invariant Rg values. "
   ]
  },
  {
   "cell_type": "markdown",
   "metadata": {
    "nbpresent": {
     "id": "0c6ed6c2-b327-4aa5-be30-5a34dda3fb00"
    }
   },
   "source": [
    "### Index file"
   ]
  },
  {
   "cell_type": "markdown",
   "metadata": {},
   "source": [
    "Index groups are necessary for almost every GROMACS tools. \n",
    "- If one needs special index groups, he/she can use gmx [gmx make_ndx](https://manual.gromacs.org/current/onlinehelp/gmx-make_ndx.html) to generate an index file (ndx). \n",
    "  - For example the command `splitch 1` splits the group 1 (Protein) in chains and the command `q`  close the tool.  "
   ]
  },
  {
   "cell_type": "code",
   "execution_count": null,
   "metadata": {
    "scrolled": true
   },
   "outputs": [],
   "source": [
    "# generate index group\n",
    "!printf \"splitch 1\\nq\\n\" | gmx make_ndx -f nvt.tpr -o "
   ]
  },
  {
   "cell_type": "markdown",
   "metadata": {},
   "source": [
    "Calculate the hydrogen bonds between the two protein chains using [gmx hbond](https://manual.gromacs.org/current/onlinehelp/gmx-hbond.html). \n",
    "  - The option `-num` provide the number of hydrogen bond as a function of time.  "
   ]
  },
  {
   "cell_type": "code",
   "execution_count": null,
   "metadata": {},
   "outputs": [],
   "source": [
    "# Calculate hydrogen bonds \n",
    "!printf \"17\\n18\\n\"| gmx hbond -f md.xtc -s md.tpr  -n index.ndx -num -xvg none"
   ]
  },
  {
   "cell_type": "code",
   "execution_count": null,
   "metadata": {
    "nbpresent": {
     "id": "4ce04079-a188-4372-ac3f-10665cd8b1a5"
    },
    "scrolled": false
   },
   "outputs": [],
   "source": [
    "# plot bonds \n",
    "import pandas as pd\n",
    "df = pd.read_csv('hbnum.xvg', sep='\\s+', header=None, names=['time','H-bonds'], usecols=[0, 1])\n",
    "df.plot('time')"
   ]
  },
  {
   "cell_type": "markdown",
   "metadata": {},
   "source": [
    "### Generate Report "
   ]
  },
  {
   "cell_type": "markdown",
   "metadata": {},
   "source": [
    "Report or recall about what type of simulation we have performed.(`gmx report-methods`)[https://manual.gromacs.org/current/onlinehelp/gmx-report-methods.\n",
    "html] can be useful for this purpose. \n",
    "- report methods print out basic system information on a performed run. \n",
    "- they also provide an unformatted text (with the option `-o`) or a LaTeX formatted output file with the option `-m`. "
   ]
  },
  {
   "cell_type": "code",
   "execution_count": null,
   "metadata": {},
   "outputs": [],
   "source": [
    "# generate report \n",
    "!gmx report-methods -s md.tpr"
   ]
  }
 ],
 "metadata": {
  "anaconda-cloud": {},
  "kernelspec": {
   "display_name": "Python 3 (ipykernel)",
   "language": "python",
   "name": "python3"
  },
  "language_info": {
   "codemirror_mode": {
    "name": "ipython",
    "version": 3
   },
   "file_extension": ".py",
   "mimetype": "text/x-python",
   "name": "python",
   "nbconvert_exporter": "python",
   "pygments_lexer": "ipython3",
   "version": "3.10.12"
  },
  "nbpresent": {
   "slides": {
    "5ee989b6-b87f-45b2-b186-0f81e2eb6c0e": {
     "id": "5ee989b6-b87f-45b2-b186-0f81e2eb6c0e",
     "prev": null,
     "regions": {
      "1099d9ed-4336-403d-8924-acb02ce1d7c0": {
       "attrs": {
        "height": 0.2,
        "width": 0.4,
        "x": 0.1,
        "y": 0.7
       },
       "id": "1099d9ed-4336-403d-8924-acb02ce1d7c0"
      },
      "159e8040-85d4-4abc-8f26-2cf90a0407d7": {
       "attrs": {
        "height": 0.6,
        "width": 0.8,
        "x": 0.1,
        "y": 0.1
       },
       "id": "159e8040-85d4-4abc-8f26-2cf90a0407d7"
      },
      "d9ecb908-45c1-485f-bb18-bbc91a1fd84e": {
       "attrs": {
        "height": 0.2,
        "width": 0.4,
        "x": 0.5,
        "y": 0.7
       },
       "id": "d9ecb908-45c1-485f-bb18-bbc91a1fd84e"
      }
     }
    }
   },
   "themes": {}
  }
 },
 "nbformat": 4,
 "nbformat_minor": 2
}
