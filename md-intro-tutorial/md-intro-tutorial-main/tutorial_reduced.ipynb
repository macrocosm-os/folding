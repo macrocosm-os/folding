{
 "cells": [
  {
   "cell_type": "markdown",
   "metadata": {
    "nbpresent": {
     "id": "dde7b85f-ae2f-42f9-9ebf-58ab93239983"
    }
   },
   "source": [
    "# Molecular dynamics simulation of a small protein using GROMACS "
   ]
  },
  {
   "cell_type": "markdown",
   "metadata": {
    "nbpresent": {
     "id": "59d19417-8116-4511-8fc5-c5abbbfe82b3"
    }
   },
   "source": [
    "    authors  : Alessandra Villa (based on a Justin Lemkuhl tutorial see http://www.mdtutorials.com or Living J. Comp. Mol. Sci. 2018, 1, 5068).    \n",
    "    goal     : learn step-by-step how to run a molecular dynamics simulation of a small protein using GROMACS \n",
    "    time     : 90 minutes\n",
    "    software : GROMACS 2023, python modules: numpy, matplotlib, re, nglviewer, md_traj, panda. \n",
    "    optional software: visualization software [VMD](https://www.ks.uiuc.edu/Research/vmd), Xmgrace plotting tool\n",
    "    tutorial source: tutorials.gromacs.org\n",
    "    version  : release\n",
    "    website  : https://tutorials.gromacs.org/docs/md-intro-tutorial.html"
   ]
  },
  {
   "cell_type": "markdown",
   "metadata": {},
   "source": [
    "# Preparations "
   ]
  },
  {
   "cell_type": "code",
   "execution_count": null,
   "metadata": {
    "nbpresent": {
     "id": "cf4e0e9a-6503-430f-8c60-815a9ae22616"
    }
   },
   "outputs": [],
   "source": [
    "# Change to the data directory\n",
    "%cd data"
   ]
  },
  {
   "cell_type": "markdown",
   "metadata": {
    "nbpresent": {
     "id": "3d13b2f5-7423-4201-b832-303524849db8"
    }
   },
   "source": [
    "### Obtaining the input for a simulation"
   ]
  },
  {
   "cell_type": "markdown",
   "metadata": {
    "nbpresent": {
     "id": "40fa54aa-811b-4991-8dcf-3fdc464b1249"
    }
   },
   "source": [
    "For this tutorial, we will utilize Factor Xa, a protein playing critical role in the formation of blood clots. \n",
    "- The 3D structure is available from the RCSB website, https://www.rcsb.org/ with PDB code 1FJS. \n",
    "- You can find the PDB file for the crystal structure in \"input\" directory as \"1fjs.pdb\"."
   ]
  },
  {
   "cell_type": "markdown",
   "metadata": {},
   "source": [
    "Visualizing the structue: both approaches to visualization did not work for me, but leaving them here for review. \n",
    "- nglview \n",
    "- vmd \n"
   ]
  },
  {
   "cell_type": "code",
   "execution_count": null,
   "metadata": {},
   "outputs": [],
   "source": [
    "# nglview\n",
    "# %pip install nglview\n",
    "import nglview as ng\n",
    "view = ng.show_structure_file(\"input/1fjs.pdb\")\n",
    "view\n",
    "# click and drag to rotate, zoom with your mouseweel \n",
    "# for more infor on this viewer have a look at https://github.com/nglviewer/nglview"
   ]
  },
  {
   "cell_type": "code",
   "execution_count": null,
   "metadata": {
    "nbpresent": {
     "id": "c45f02d0-d499-40b4-bb12-5b54a57e2866"
    },
    "scrolled": false
   },
   "outputs": [],
   "source": [
    "# vmd\n",
    "!vmd input/1fjs.pdb"
   ]
  },
  {
   "cell_type": "markdown",
   "metadata": {
    "nbpresent": {
     "id": "d5d197b7-16ea-4cb7-bc4c-dc18ea76e1d1"
    }
   },
   "source": [
    "### Cleaning the input structure"
   ]
  },
  {
   "cell_type": "markdown",
   "metadata": {
    "nbpresent": {
     "id": "992503cc-771a-439b-bae3-3a660a755b7c"
    }
   },
   "source": [
    "Strip out all the atoms that do not belong to the protein (e.i crystal waters, ligands, etc). Atoms (labelled \"HETATM\" in the PDB file) and eventually their connectivity. In other words, verify that all the necessary atoms are present, and the PDB file contains only protein atoms.\n",
    "- Use a plain text editor like vi, emacs (Linux/Mac), or Notepad (Windows). \n",
    "- Do not use word processing software! \n",
    "- Alternatively use grep to delete these lines very easily"
   ]
  },
  {
   "cell_type": "code",
   "execution_count": 6,
   "metadata": {
    "nbpresent": {
     "id": "2655e386-be87-4ac5-91ef-9ac4ee9360f9"
    },
    "scrolled": true
   },
   "outputs": [],
   "source": [
    "# remove lines with HETATM and CONECT from the pdb file\n",
    "!grep -v HETATM input/1fjs.pdb > 1fjs_protein_tmp.pdb\n",
    "!grep -v CONECT 1fjs_protein_tmp.pdb > 1fjs_protein.pdb"
   ]
  },
  {
   "cell_type": "code",
   "execution_count": null,
   "metadata": {},
   "outputs": [],
   "source": [
    "# Visualize the cleaned structure (optional)\n",
    "# import nglview as ng\n",
    "# view = ng.show_structure_file(\"1fjs_protein.pdb\")\n",
    "# view\n",
    "# click and drag to rotate, zoom with your mouseweel \n",
    "# for more infor on this viewer have a look at https://github.com/nglviewer/nglview\n",
    "\n",
    "# Alternative approach below \n",
    "#!vmd 1fjs_protein.pdb"
   ]
  },
  {
   "cell_type": "markdown",
   "metadata": {
    "nbpresent": {
     "id": "345d6e37-b392-4f54-b2ed-4d19f5c13b3d"
    }
   },
   "source": [
    "Check your .pdb file for entries listed under the comment MISSING, as these entries indicate either atoms or whole residues that are not present in the crystal structure. \n",
    "- Terminal regions may be absent, and may not present a problem for dynamics."
   ]
  },
  {
   "cell_type": "code",
   "execution_count": null,
   "metadata": {},
   "outputs": [],
   "source": [
    "# check for MISSING comment in pdb file  \n",
    "!grep MISSING input/1fjs.pdb"
   ]
  },
  {
   "cell_type": "markdown",
   "metadata": {
    "nbpresent": {
     "id": "21e7a22b-6304-496d-8a9d-dfec05a513f6"
    }
   },
   "source": [
    "### Generating a topology"
   ]
  },
  {
   "cell_type": "markdown",
   "metadata": {
    "nbpresent": {
     "id": "1d259e27-9071-43e4-93ab-4c45dbf7c7a1"
    }
   },
   "source": [
    "PDB file is ready to be input into GROMACS \n",
    "We use [`gmx pdb2gmx`](https://manual.gromacs.org/current/onlinehelp/gmx-pdb2gmx.html) to generate three files:\n",
    "\n",
    "* The topology for the molecule.\n",
    "* A position restraint file.\n",
    "* A post-processed structure file. \n",
    "\n",
    "The topology (**topol.top** by default) contains all the information necessary to define the molecule within a simulation.\n",
    "- nonbonded parameters (atom types and charges)\n",
    "- bonded parameters (bonds, angles, dihedrals and atom connectivity)\n",
    "\n",
    "The purpose of `gmx pdb2gmx` is to produce a force field-compliant topology"
   ]
  },
  {
   "cell_type": "markdown",
   "metadata": {},
   "source": [
    "Note: \n",
    "- *Incomplete internal sequences or any amino acid residues that have missing atoms will cause `gmx pdb2gmx` to fail.\n",
    "- missing atoms/residues must be modeled in using other software packages. Also note that \n",
    "- `gmx pdb2gmx` is not magic, it cannot generate topologies for arbitrary molecules, just the residues defined by the force field (in the *.rtp files - generally proteins, nucleic acids, and a very finite amount of cofactors, like NAD(H) and ATP).*"
   ]
  },
  {
   "cell_type": "code",
   "execution_count": 10,
   "metadata": {
    "nbpresent": {
     "id": "2f9730de-896f-4e92-84c7-3de46d837d53"
    },
    "scrolled": true
   },
   "outputs": [
    {
     "name": "stdout",
     "output_type": "stream",
     "text": [
      "             :-) GROMACS - gmx pdb2gmx, 2021.4-Ubuntu-2021.4-2 (-:\n",
      "\n",
      "                            GROMACS is written by:\n",
      "     Andrey Alekseenko              Emile Apol              Rossen Apostolov     \n",
      "         Paul Bauer           Herman J.C. Berendsen           Par Bjelkmar       \n",
      "       Christian Blau           Viacheslav Bolnykh             Kevin Boyd        \n",
      "     Aldert van Buuren           Rudi van Drunen             Anton Feenstra      \n",
      "    Gilles Gouaillardet             Alan Gray               Gerrit Groenhof      \n",
      "       Anca Hamuraru            Vincent Hindriksen          M. Eric Irrgang      \n",
      "      Aleksei Iupinov           Christoph Junghans             Joe Jordan        \n",
      "    Dimitrios Karkoulis            Peter Kasson                Jiri Kraus        \n",
      "      Carsten Kutzner              Per Larsson              Justin A. Lemkul     \n",
      "       Viveca Lindahl            Magnus Lundborg             Erik Marklund       \n",
      "        Pascal Merz             Pieter Meulenhoff            Teemu Murtola       \n",
      "        Szilard Pall               Sander Pronk              Roland Schulz       \n",
      "       Michael Shirts            Alexey Shvetsov             Alfons Sijbers      \n",
      "       Peter Tieleman              Jon Vincent              Teemu Virolainen     \n",
      "     Christian Wennberg            Maarten Wolf              Artem Zhmurov       \n",
      "                           and the project leaders:\n",
      "        Mark Abraham, Berk Hess, Erik Lindahl, and David van der Spoel\n",
      "\n",
      "Copyright (c) 1991-2000, University of Groningen, The Netherlands.\n",
      "Copyright (c) 2001-2019, The GROMACS development team at\n",
      "Uppsala University, Stockholm University and\n",
      "the Royal Institute of Technology, Sweden.\n",
      "check out http://www.gromacs.org for more information.\n",
      "\n",
      "GROMACS is free software; you can redistribute it and/or modify it\n",
      "under the terms of the GNU Lesser General Public License\n",
      "as published by the Free Software Foundation; either version 2.1\n",
      "of the License, or (at your option) any later version.\n",
      "\n",
      "GROMACS:      gmx pdb2gmx, version 2021.4-Ubuntu-2021.4-2\n",
      "Executable:   /usr/bin/gmx\n",
      "Data prefix:  /usr\n",
      "Working dir:  /workspace/folding/md-intro-tutorial/md-intro-tutorial-main/data\n",
      "Command line:\n",
      "  gmx pdb2gmx -f 1fjs_protein.pdb -o 1fjs_processed.gro -water tip3p -ff charmm27\n",
      "\n",
      "Using the Charmm27 force field in directory charmm27.ff\n",
      "\n",
      "going to rename charmm27.ff/aminoacids.r2b\n",
      "Opening force field file /usr/share/gromacs/top/charmm27.ff/aminoacids.r2b\n",
      "\n",
      "going to rename charmm27.ff/rna.r2b\n",
      "Opening force field file /usr/share/gromacs/top/charmm27.ff/rna.r2b\n",
      "Reading 1fjs_protein.pdb...\n",
      "Read 'COAGULATION FACTOR XA; COAGULATION FACTOR XA', 2236 atoms\n",
      "\n",
      "Analyzing pdb file\n",
      "Splitting chemical chains based on TER records or chain id changing.\n",
      "\n",
      "There are 2 chains and 0 blocks of water and 286 residues with 2236 atoms\n",
      "\n",
      "  chain  #res #atoms\n",
      "\n",
      "  1 'A'   234   1852  \n",
      "\n",
      "  2 'L'    52    384  \n",
      "\n",
      "there were 14 atoms with zero occupancy and 20 atoms with          occupancy unequal to one (out of 2236 atoms). Check your pdb file.\n",
      "there were 14 atoms with zero occupancy and 20 atoms with          occupancy unequal to one (out of 2236 atoms). Check your pdb file.\n",
      "Opening force field file /usr/share/gromacs/top/charmm27.ff/atomtypes.atp\n",
      "\n",
      "Reading residue database... (Charmm27)\n",
      "Opening force field file /usr/share/gromacs/top/charmm27.ff/aminoacids.rtp\n",
      "Opening force field file /usr/share/gromacs/top/charmm27.ff/dna.rtp\n",
      "Opening force field file /usr/share/gromacs/top/charmm27.ff/lipids.rtp\n",
      "Opening force field file /usr/share/gromacs/top/charmm27.ff/rna.rtp\n",
      "Opening force field file /usr/share/gromacs/top/charmm27.ff/aminoacids.hdb\n",
      "Opening force field file /usr/share/gromacs/top/charmm27.ff/dna.hdb\n",
      "Opening force field file /usr/share/gromacs/top/charmm27.ff/lipids.hdb\n",
      "Opening force field file /usr/share/gromacs/top/charmm27.ff/rna.hdb\n",
      "Opening force field file /usr/share/gromacs/top/charmm27.ff/aminoacids.n.tdb\n",
      "Opening force field file /usr/share/gromacs/top/charmm27.ff/dna.n.tdb\n",
      "Opening force field file /usr/share/gromacs/top/charmm27.ff/rna.n.tdb\n",
      "Opening force field file /usr/share/gromacs/top/charmm27.ff/aminoacids.c.tdb\n",
      "Opening force field file /usr/share/gromacs/top/charmm27.ff/dna.c.tdb\n",
      "Opening force field file /usr/share/gromacs/top/charmm27.ff/rna.c.tdb\n",
      "\n",
      "Back Off! I just backed up topol.top to ./#topol.top.3#\n",
      "\n",
      "Processing chain 1 'A' (1852 atoms, 234 residues)\n",
      "Analysing hydrogen-bonding network for automated assignment of histidine\n",
      " protonation. 362 donors and 349 acceptors were found.\n",
      "There are 555 hydrogen bonds\n",
      "Will use HISD for residue 57\n",
      "Will use HISE for residue 83\n",
      "Will use HISE for residue 91\n",
      "Will use HISE for residue 145\n",
      "Will use HISE for residue 199\n",
      "\n",
      "Identified residue ILE16 as a starting terminus.\n",
      "\n",
      "Identified residue THR244 as a ending terminus.\n",
      "8 out of 8 lines of specbond.dat converted successfully\n",
      "Special Atom Distance matrix:\n",
      "                   CYS22   CYS27   CYS42   HIS57   CYS58   HIS83   HIS91\n",
      "                    SG47    SG83   SG206  NE2318   SG324  NE2536  NE2602\n",
      "   CYS27    SG83   0.230\n",
      "   CYS42   SG206   1.706   1.726\n",
      "   HIS57  NE2318   1.948   1.957   0.488\n",
      "   CYS58   SG324   1.773   1.764   0.239   0.410\n",
      "   HIS83  NE2536   1.872   1.798   1.852   2.279   1.873\n",
      "   HIS91  NE2602   2.853   2.730   1.835   1.629   1.597   2.634\n",
      "  MET116   SD817   1.252   1.187   2.584   2.933   2.636   1.627   3.494\n",
      "  CYS122   SG856   1.708   1.478   2.379   2.509   2.269   1.937   2.281\n",
      "  MET131   SD955   2.113   1.962   2.158   1.966   1.988   2.884   1.650\n",
      "  HIS145 NE21060   1.681   1.881   2.029   2.090   2.189   3.133   3.567\n",
      "  MET157  SD1150   0.444   0.441   1.993   2.151   2.030   2.237   2.952\n",
      "  CYS168  SG1240   2.410   2.363   2.047   1.668   1.921   3.430   1.943\n",
      "  MET180  SD1333   2.454   2.400   1.600   1.169   1.431   3.072   1.338\n",
      "  CYS182  SG1351   2.251   2.220   1.931   1.568   1.827   3.346   2.037\n",
      "  CYS191  SG1433   1.587   1.712   1.218   1.163   1.340   2.724   2.665\n",
      "  HIS199 NE21485   1.407   1.306   1.711   1.594   1.615   2.569   1.992\n",
      "  CYS220  SG1644   1.746   1.851   1.264   1.115   1.355   2.864   2.577\n",
      "  MET242  SD1835   2.207   2.023   1.934   2.057   1.767   1.591   1.426\n",
      "                  MET116  CYS122  MET131  HIS145  MET157  CYS168  MET180\n",
      "                   SD817   SG856   SD955 NE21060  SD1150  SG1240  SD1333\n",
      "  CYS122   SG856   1.719\n",
      "  MET131   SD955   2.879   1.549\n",
      "  HIS145 NE21060   2.784   3.257   2.955\n",
      "  MET157  SD1150   1.417   1.664   1.956   1.752\n",
      "  CYS168  SG1240   3.501   2.566   1.163   2.504   2.283\n",
      "  MET180  SD1333   3.482   2.530   1.310   2.641   2.453   0.737\n",
      "  CYS182  SG1351   3.378   2.552   1.241   2.275   2.129   0.230   0.797\n",
      "  CYS191  SG1433   2.789   2.821   2.308   0.954   1.714   1.796   1.759\n",
      "  HIS199 NE21485   2.392   1.569   0.811   2.167   1.251   1.137   1.341\n",
      "  CYS220  SG1644   2.961   2.872   2.227   1.111   1.838   1.617   1.589\n",
      "  MET242  SD1835   2.366   1.191   1.760   3.512   2.346   2.587   2.218\n",
      "                  CYS182  CYS191  HIS199  CYS220\n",
      "                  SG1351  SG1433 NE21485  SG1644\n",
      "  CYS191  SG1433   1.584\n",
      "  HIS199 NE21485   1.054   1.611\n",
      "  CYS220  SG1644   1.407   0.237   1.574\n",
      "  MET242  SD1835   2.606   2.828   1.915   2.851\n",
      "Start terminus ILE-16: NH3+\n",
      "End terminus THR-244: COO-\n",
      "Opening force field file /usr/share/gromacs/top/charmm27.ff/aminoacids.arn\n",
      "Opening force field file /usr/share/gromacs/top/charmm27.ff/dna.arn\n",
      "Opening force field file /usr/share/gromacs/top/charmm27.ff/rna.arn\n",
      "\n",
      "Checking for duplicate atoms....\n",
      "\n",
      "Generating any missing hydrogen atoms and/or adding termini.\n",
      "\n",
      "Now there are 234 residues with 3673 atoms\n",
      "Chain time...\n",
      "\n",
      "Back Off! I just backed up topol_Protein_chain_A.itp to ./#topol_Protein_chain_A.itp.1#\n",
      "\n",
      "Making bonds...\n",
      "\n",
      "Number of bonds was 3711, now 3711\n",
      "\n",
      "Generating angles, dihedrals and pairs...\n",
      "Before cleaning: 9703 pairs\n",
      "Before cleaning: 9778 dihedrals\n",
      "Keeping all generated dihedrals\n",
      "\n",
      "Making cmap torsions...\n",
      "\n",
      "There are  232 cmap torsion pairs\n",
      "\n",
      "There are 9778 dihedrals,  605 impropers, 6679 angles\n",
      "          9631 pairs,     3711 bonds and     0 virtual sites\n",
      "\n",
      "Total mass 26412.137 a.m.u.\n",
      "\n",
      "Total charge 1.000 e\n",
      "\n",
      "Writing topology\n",
      "\n",
      "Back Off! I just backed up posre_Protein_chain_A.itp to ./#posre_Protein_chain_A.itp.1#\n",
      "\n",
      "Processing chain 2 'L' (384 atoms, 52 residues)\n",
      "Analysing hydrogen-bonding network for automated assignment of histidine\n",
      " protonation. 74 donors and 80 acceptors were found.\n",
      "There are 118 hydrogen bonds\n",
      "Will use HISE for residue 101\n",
      "\n",
      "Identified residue LYS87 as a starting terminus.\n",
      "\n",
      "Identified residue GLU138 as a ending terminus.\n",
      "8 out of 8 lines of specbond.dat converted successfully\n",
      "Special Atom Distance matrix:\n",
      "                   CYS89   CYS96  CYS100  HIS101  CYS109  CYS111  CYS124\n",
      "                    SG23    SG71   SG105  NE2115   SG176   SG188   SG280\n",
      "   CYS96    SG71   0.578\n",
      "  CYS100   SG105   0.236   0.347\n",
      "  HIS101  NE2115   0.735   0.673   0.662\n",
      "  CYS109   SG176   0.752   0.229   0.539   0.710\n",
      "  CYS111   SG188   1.344   0.870   1.141   0.855   0.787\n",
      "  CYS124   SG280   1.299   0.804   1.083   0.926   0.760   0.239\n",
      "  CYS132   SG338   1.943   1.630   1.787   1.458   1.656   0.993   0.967\n",
      "                \n",
      "                \n",
      "Start terminus LYS-87: NH3+\n",
      "End terminus GLU-138: COO-\n",
      "Opening force field file /usr/share/gromacs/top/charmm27.ff/aminoacids.arn\n",
      "Opening force field file /usr/share/gromacs/top/charmm27.ff/dna.arn\n",
      "Opening force field file /usr/share/gromacs/top/charmm27.ff/rna.arn\n",
      "\n",
      "Checking for duplicate atoms....\n",
      "\n",
      "Generating any missing hydrogen atoms and/or adding termini.\n",
      "\n",
      "Now there are 52 residues with 744 atoms\n",
      "Chain time...\n",
      "\n",
      "Back Off! I just backed up topol_Protein_chain_L.itp to ./#topol_Protein_chain_L.itp.1#\n",
      "\n",
      "Making bonds...\n",
      "\n",
      "Number of bonds was 750, now 750\n",
      "\n",
      "Generating angles, dihedrals and pairs...\n",
      "Before cleaning: 1959 pairs\n",
      "Before cleaning: 1979 dihedrals\n",
      "Keeping all generated dihedrals\n",
      "\n",
      "Making cmap torsions...\n",
      "\n",
      "There are   50 cmap torsion pairs\n",
      "\n",
      "There are 1979 dihedrals,  141 impropers, 1348 angles\n",
      "          1950 pairs,      750 bonds and     0 virtual sites\n",
      "\n",
      "Total mass 5581.215 a.m.u.\n",
      "\n",
      "Total charge -3.000 e\n",
      "\n",
      "Writing topology\n",
      "\n",
      "Back Off! I just backed up posre_Protein_chain_L.itp to ./#posre_Protein_chain_L.itp.1#\n",
      "\n",
      "Including chain 1 in system: 3673 atoms 234 residues\n",
      "\n",
      "Including chain 2 in system: 744 atoms 52 residues\n",
      "\n",
      "Now there are 4417 atoms and 286 residues\n",
      "\n",
      "Total mass in system 31993.352 a.m.u.\n",
      "\n",
      "Total charge in system -2.000 e\n",
      "\n",
      "Writing coordinate file...\n",
      "\n",
      "Back Off! I just backed up 1fjs_processed.gro to ./#1fjs_processed.gro.1#\n",
      "\n",
      "\t\t--------- PLEASE NOTE ------------\n",
      "\n",
      "You have successfully generated a topology from: 1fjs_protein.pdb.\n",
      "\n",
      "The Charmm27 force field and the tip3p water model are used.\n",
      "\n",
      "\t\t--------- ETON ESAELP ------------\n",
      "\n",
      "GROMACS reminds you: \"We must be clear that when it comes to atoms, language can be used only as in poetry. \" (Niels Bohr)\n",
      "\n"
     ]
    }
   ],
   "source": [
    "# create the three files using gmx pdb2gmx\n",
    "!gmx pdb2gmx -f 1fjs_protein.pdb -o 1fjs_processed.gro -water tip3p -ff \"charmm27\""
   ]
  },
  {
   "cell_type": "markdown",
   "metadata": {
    "nbpresent": {
     "id": "d5ba1bb9-c859-4e03-a21b-780533486c27"
    }
   },
   "source": [
    "Choosing the CHARMM27 all-atom force field is an important decision.\n",
    "- force field will contain the information that will be written to the topology.\n",
    "- always read thoroughly about each force field and decide which is most applicable to your situation. \n",
    "- when running `gmx pdb2gmx` without the -ff flag, choices are given, additional command line input is required. "
   ]
  },
  {
   "cell_type": "markdown",
   "metadata": {
    "nbpresent": {
     "id": "313f7d4f-aef7-4034-a8f0-d01ccbc0f61a"
    }
   },
   "source": [
    "There are many other options that can be passed to `gmx pdb2gmx` (see http://manual.gromacs.org/documentation/current/onlinehelp/gmx-pdb2gmx.html). "
   ]
  },
  {
   "cell_type": "markdown",
   "metadata": {
    "nbpresent": {
     "id": "e726db3d-da64-4dc6-979a-37de5aca3555"
    }
   },
   "source": [
    "We have now generated three new files: \n",
    "- **1fjs_processed.gro**:  GROMACS-formatted structure file that contains all the atoms defined within the force field (i.e., H atoms have been added to the amino acids in the protein).\n",
    "- **topol.top**: system topology\n",
    "The posre files contain information used to restrain the positions of heavy atoms.\n",
    "- **topol_Protein_chain_X.itp** \n",
    "- **posre_Protein_chain_X.itp**\n"
   ]
  },
  {
   "cell_type": "markdown",
   "metadata": {
    "nbpresent": {
     "id": "aeae1bf0-ee7a-466f-8a74-ffa719813bc6"
    }
   },
   "source": [
    "### Understanding molecule \"topologies\""
   ]
  },
  {
   "cell_type": "markdown",
   "metadata": {
    "nbpresent": {
     "id": "93e9c7bd-075d-429f-be86-6b3118cb5b1c"
    }
   },
   "source": [
    "Using a plain text editor, you can look at what is in the output topology (topol.top)\n",
    "- `!cat topol.top`\n",
    "- \"Protein_chain_A\" defines the molecule name, based on the fact that the protein was labeled as chain A in the PDB file. \n",
    "- There are 3 exclusions for bonded neighbors. More information on exclusions <a href=http://manual.gromacs.org/current/reference-manual/topologies.html>GROMACS manual</a>."
   ]
  },
  {
   "cell_type": "markdown",
   "metadata": {
    "nbpresent": {
     "id": "db680c9f-9999-4423-b607-47b2746a64c4"
    }
   },
   "source": [
    "#### Atoms in a topology"
   ]
  },
  {
   "cell_type": "markdown",
   "metadata": {
    "nbpresent": {
     "id": "98122e18-61f8-44b2-b5cf-6b4fa20ae864"
    }
   },
   "source": [
    "The next section defines the [ atoms ] in the protein. \n",
    "- `! grep \"atoms\" -A 4 topol_Protein_chain_A.itp`"
   ]
  },
  {
   "cell_type": "markdown",
   "metadata": {
    "nbpresent": {
     "id": "09648857-440c-4e54-86c6-932fa288cfa9"
    }
   },
   "source": [
    "|Field  |  description |\n",
    "|--|--\n",
    "|nr|Atom number\n",
    "|type| Atom type\n",
    "|resnr|Amino acid residue number\n",
    "|residue| The amino acid residue name- Note that this may be different from .rtp entry. \n",
    "|atom| Atom name\n",
    "|cgnr| Charge group number - Not used anymore \n",
    "|charge| Self-explanatory - The \"qtot\" descriptor is a running total of the charge on the molecule\n",
    "|mass| Also self-explanatory\n",
    "|typeB, chargeB, massB| Used for free energy perturbation (not discussed here) "
   ]
  },
  {
   "cell_type": "markdown",
   "metadata": {
    "nbpresent": {
     "id": "18a65484-38e3-49fc-9dc2-57f04d698628"
    }
   },
   "source": [
    "#### Bonds and other interactions in a topology"
   ]
  },
  {
   "cell_type": "markdown",
   "metadata": {
    "nbpresent": {
     "id": "0a8bda1d-2727-4a76-983d-dab8112e1dcf"
    }
   },
   "source": [
    "Subsequent sections include [ bonds ], [ pairs ], [ angles ], and [ dihedrals ]. Some of these sections are self-explanatory (bonds, angles, and dihedrals. \n",
    "- `!grep \"bonds\" -A 2 topol_Protein_chain_A.itp`\n",
    "- `!grep \"pairs\" -A 2  topol_Protein_chain_A.itp`\n",
    "- `!grep \"angles\" -A 2 topol_Protein_chain_A.itp`\n",
    "- `!grep \"dihedrals\" -A 2 topol_Protein_chain_A.itp`\n",
    "- interactions are found [here](http://manual.gromacs.org/current/reference-manual/functions.html) \n",
    "special 1-4 interactions are included under [pairs](http://manual.gromacs.org/current/reference-manual/functions/interaction-methods.html#exclusions-and-1-4-interactions). \n",
    "- format associated to function types [see topology file table](http://manual.gromacs.org/documentation/2020-beta1/reference-manual/topologies/topology-file-formats.html) in GROMACS manual."
   ]
  },
  {
   "cell_type": "markdown",
   "metadata": {
    "nbpresent": {
     "id": "ef42771f-cf92-4505-a904-9e5b8f9ab0d1"
    }
   },
   "source": [
    "#### Water and position restraints"
   ]
  },
  {
   "cell_type": "markdown",
   "metadata": {
    "nbpresent": {
     "id": "b43f5e17-887e-415c-a7da-1b61d8e53b93"
    }
   },
   "source": [
    "- `!grep \"posre\" topol*.itp`\n",
    "- the \"posre.itp\" file defines a force constant used to keep atoms in place during equilibration.\n",
    "- use the following command to view it `!cat posre_Protein_chain_A.itp`\n",
    "- The remainder of the topology file is dedicated to defining other molecules and providing system-level descriptions. \n",
    "- The next moleculetype (by default) is the solvent, in this case TIP3P **water**. For an excellent summary of the many different water models, click [here](http://www1.lsbu.ac.uk/water/water_models.html)."
   ]
  },
  {
   "cell_type": "markdown",
   "metadata": {
    "nbpresent": {
     "id": "39ea31e7-3219-49d9-b756-2bd0fb8dca0b"
    }
   },
   "source": [
    "#### Ions and other parameters"
   ]
  },
  {
   "cell_type": "markdown",
   "metadata": {},
   "source": [
    "- !grep \"ions\" topol.top"
   ]
  },
  {
   "cell_type": "markdown",
   "metadata": {},
   "source": [
    "#### System level definitions"
   ]
  },
  {
   "cell_type": "markdown",
   "metadata": {
    "nbpresent": {
     "id": "5ccbb2b2-116b-48d2-9212-33ff648831ca"
    }
   },
   "source": [
    "- `!tail -8 topol.top`\n",
    "- [ system ] directive gives the name of the system that will be written to output files during the simulation.\n",
    "- [ molecules ] directive lists all of the molecules in the system.\n",
    "- - The order of the listed molecules must exactly match the order of the molecules in the coordinate (in this case, .gro) file.\n",
    "- - The names listed must match the `[ moleculetype ]` name for each species, not residue names or anything else.\n",
    "- - Otherwise, you will get fatal errors from grompp about mismatched names, molecules not being found, or a number of others."
   ]
  },
  {
   "cell_type": "markdown",
   "metadata": {
    "nbpresent": {
     "id": "598b0d30-9d4c-4b31-a670-959bb96ab87f"
    }
   },
   "source": [
    "### Solvating the simulation system"
   ]
  },
  {
   "cell_type": "markdown",
   "metadata": {
    "nbpresent": {
     "id": "4c7344d8-d42d-4e4c-918c-0e1a160a1319"
    }
   },
   "source": [
    "In this example, we are going to be simulating a simple aqueous system. It is possible to simulate proteins and other molecules in different solvents, provided that good parameters are available for all species involved.\n",
    "\n",
    "- Define the box dimensions using the [`gmx editconf`](https://manual.gromacs.org/current/onlinehelp/gmx-editconf.html) tool.\n",
    "- Fill the box with water using the [`gmx solvate`](https://manual.gromacs.org/current/onlinehelp/gmx-solvate.html) tool. \n",
    "\n",
    "You are now presented with a choice as to how to treat the unit cell. For the purpose of this tutorial, we will use the rhombic dodecahedron"
   ]
  },
  {
   "cell_type": "markdown",
   "metadata": {
    "nbpresent": {
     "id": "95ad5707-817d-46aa-b35f-09cfb6796c02"
    }
   },
   "source": [
    "### Defining the simulation box"
   ]
  },
  {
   "cell_type": "code",
   "execution_count": null,
   "metadata": {
    "nbpresent": {
     "id": "23d642d0-a609-4be8-aed1-00aee72b22bf"
    },
    "scrolled": true
   },
   "outputs": [],
   "source": [
    "# define the box: gmx editconf\n",
    "!gmx editconf -f 1fjs_processed.gro -o 1fjs_newbox.gro -c -d 1.0 -bt dodecahedron"
   ]
  },
  {
   "cell_type": "markdown",
   "metadata": {
    "nbpresent": {
     "id": "e68f5978-ef1b-4700-84bb-a40173c8ccf8"
    }
   },
   "source": [
    "- `-c` center the protein in the box\n",
    "- `-d 1.0` place it at least 1.0 nm from the box edge\n",
    "- `-bt dodecahedron` box type is defined as a rhombic dodecahedron \n",
    "- For more on periodic boundary conditions and dodecahedrons [here](http://manual.gromacs.org/current/reference-manual/algorithms/periodic-boundary-conditions.html#pbc) "
   ]
  },
  {
   "cell_type": "markdown",
   "metadata": {
    "nbpresent": {
     "id": "75d89a8d-1463-4767-a002-581b3c015753"
    }
   },
   "source": [
    "### Filling the box with water"
   ]
  },
  {
   "cell_type": "markdown",
   "metadata": {},
   "source": [
    "`gmx solvate` will keep track of how many water molecules it adds in this step, which it then writes to your topology to reflect the changes."
   ]
  },
  {
   "cell_type": "code",
   "execution_count": null,
   "metadata": {
    "nbpresent": {
     "id": "82f1ad5a-cef0-46fe-9494-92477b273cd9"
    },
    "scrolled": true
   },
   "outputs": [],
   "source": [
    "# fill the box with water: gmx solvate \n",
    "!gmx solvate -cp 1fjs_newbox.gro -cs spc216.gro -o 1fjs_solv.gro -p topol.top"
   ]
  },
  {
   "cell_type": "markdown",
   "metadata": {
    "nbpresent": {
     "id": "3fb8e6fc-1343-47e9-925c-c754b822b91b"
    }
   },
   "source": [
    "- `-cp` configuration of the proteinis contained in the output of `gmx editconf` step, \n",
    "- `-cs` configuration of the solvent (spc216.gro) is a generic equilibrated 3-point solvent model box.\n",
    "- The output is called `1fjs_solv.gro`, and we tell solvate the name of the topology file (topol.top) so it can be modified. "
   ]
  },
  {
   "cell_type": "markdown",
   "metadata": {
    "nbpresent": {
     "id": "33086651-f3c8-43b7-b47f-36645fa72aaa"
    }
   },
   "source": [
    "### Adding Ions"
   ]
  },
  {
   "cell_type": "markdown",
   "metadata": {
    "nbpresent": {
     "id": "1c524b7e-8fcc-420a-b0fb-8ccb7d0f54c1"
    }
   },
   "source": [
    "We now have a solvated system that contains a charged protein. \n",
    "- The output of `pdb2gmx` told us that the protein has a net charge of -2e (based on its amino acid composition). \n",
    "- -  look at the last line of each [ atoms ] directive in topology file; it should read  \"qtot 1.\" for chain A and  \"qtot -3.\" for chain L. \n",
    "- - Since life does not exist at a net charge, we must add ions to our system. \n",
    "- We aim to approximate physiological conditions and use therefore a NaCl concentration of 0.15 M."
   ]
  },
  {
   "cell_type": "markdown",
   "metadata": {
    "nbpresent": {
     "id": "3c3ff084-1058-4bf3-afa0-a0cea3c1df09"
    }
   },
   "source": [
    "### Preparing the input for \"gmx genion\""
   ]
  },
  {
   "cell_type": "markdown",
   "metadata": {
    "nbpresent": {
     "id": "68bf2221-bfce-429a-95d9-156af62a3359"
    }
   },
   "source": [
    "The tool for adding ions within GROMACS is called [`gmx genion`](https://manual.gromacs.org/current/onlinehelp/gmx-genion.html). \n",
    "- `gmx genion` reads through the topology and replaces water molecules with the ions that the user specifies. \n",
    "  - `-s`: structure/state file\n",
    "  - `-o`: output is `.gro` file\n",
    "  - `-p`: process the topology to reflect the removal of water molecules and addition of ions. \n",
    "  - `-pname`, `-nname` define positive and negative ion names. (standardized, do not depend on the force field.)\n",
    "  - `-neutral` tells the gmx genion command to add ions necessary to neutralize the net charge on the protein by adding the correct number of negative ions. \n",
    "  - `conc`: add a specified concentration of ions. works in conjunction with `-neutral`: to neutralize the system \n",
    "  - *Note: Make sure to run `gmx genion` only once. This edits the topology \"in-place\" and any additions to it will stack. Start over with the `pdb2gmx` if you accidentally run it twice.\n",
    "- `.tpr` input file is called a run input file, produced by the GROMACS grompp module (GROMACS pre-processor), and contains all the parameters for all of the stoms in the system.\n",
    "- `grompp` processes coordinate file + topology information + `.mdp` parameters to generate an atomic-level input (`.tpr`). \n",
    "  - `.mdp`: (molecular dynamics parameter file)"
   ]
  },
  {
   "cell_type": "code",
   "execution_count": null,
   "metadata": {
    "nbpresent": {
     "id": "1bc074e1-d521-46ec-b9a2-359cdea24637"
    },
    "scrolled": true
   },
   "outputs": [],
   "source": [
    "# assembling / processing .tpr file with gmx grompp \n",
    "!gmx grompp -f ions.mdp -c 1fjs_solv.gro -p topol.top -o ions.tpr"
   ]
  },
  {
   "cell_type": "markdown",
   "metadata": {},
   "source": [
    "*Note: A lot of GROMACS tools promt for input at the command line. As this does not play well with the jupyter notebook setup, we feed the input to the command line with a print command and a newline \\n substituting enter*"
   ]
  },
  {
   "cell_type": "code",
   "execution_count": null,
   "metadata": {
    "nbpresent": {
     "id": "88837846-7a76-4ce4-9419-6588a42e8b1f"
    },
    "scrolled": true
   },
   "outputs": [],
   "source": [
    "!printf \"SOL\\n\" | gmx genion -s ions.tpr -o 1fjs_solv_ions.gro -conc 0.15 -p \\\n",
    "topol.top -pname NA -nname CL -neutral"
   ]
  },
  {
   "cell_type": "markdown",
   "metadata": {
    "nbpresent": {
     "id": "af2e805e-ca9f-4b95-b58f-0d4055f7d165"
    }
   },
   "source": [
    "We chose group \"SOL\" for embedding ions. You do not want to replace parts of your protein with ions."
   ]
  },
  {
   "cell_type": "markdown",
   "metadata": {
    "nbpresent": {
     "id": "bb96f417-4653-4a5e-914c-54771fe98290"
    }
   },
   "source": [
    "### Energy minimization - Ensure that we have a reasonable starting structure in terms of geometry and solvent orientation"
   ]
  },
  {
   "cell_type": "markdown",
   "metadata": {
    "nbpresent": {
     "id": "60af9d49-7607-43dd-b50e-ed6111b93c45"
    }
   },
   "source": [
    "First we must ensure the system has no steric clashes or inappropriate geometry. Then the structure is relaxed through a process called energy minimization (EM).\n",
    "- once again going to use `gmx grompp` to assemble the structure, topology, and simulation parameters into a binary input file (.tpr)\n",
    "  - Its important that we have been updating our topol.top file when running genbox and genion, or else we will get lots of error messages (\"number of coordinates in coordinate file does not match topology,\" etc).\n",
    "- then use GROMACS MD engine, mdrun, to run the energy minimization\n",
    "- `em.gro`: output file containing the energy minimized structure \n",
    "- `em.log`: ASCII-text log file containing more information on the run\n",
    "- `em.edr`: file for storage of energy \n",
    "- `em.trr`: Binary full-precision trajectory file\n"
   ]
  },
  {
   "cell_type": "code",
   "execution_count": null,
   "metadata": {
    "nbpresent": {
     "id": "34b6c3cb-5926-4ba5-b97a-8b42457956ce"
    },
    "scrolled": true
   },
   "outputs": [],
   "source": [
    "# prepare the .tpr binary input file\n",
    "!gmx grompp -f input/emin-charmm.mdp -c 1fjs_solv_ions.gro -p topol.top -o em.tpr"
   ]
  },
  {
   "cell_type": "code",
   "execution_count": null,
   "metadata": {
    "nbpresent": {
     "id": "eb3e7e13-d78e-4c99-806c-99e9b30d3d69"
    },
    "scrolled": true
   },
   "outputs": [],
   "source": [
    "# run mdrun to carry out the energy minimisation:\n",
    "!gmx mdrun -v -deffnm em"
   ]
  },
  {
   "cell_type": "markdown",
   "metadata": {
    "nbpresent": {
     "id": "65593f21-7e6d-426e-a48e-847cd9faa631"
    }
   },
   "source": [
    "- `-v` makes `gmx mdrun` verbose such that it prints its progress to the screen at every step. \n",
    "  - Never use this flag if run in background, on a HPC center or on a local cluster, it prints unnecessary data in the standard output file. \n",
    "- `-deffnm` define the file names of the input and output. \n",
    "  - if you did not name your grompp output \"em.tpr,\" you will have to explicitly specify its name with the `gmx mdrun` `-s` flag."
   ]
  },
  {
   "cell_type": "markdown",
   "metadata": {
    "nbpresent": {
     "id": "0274fdde-8eaf-4df7-b0da-f7744035566f"
    }
   },
   "source": [
    "### Determining if the run was successful"
   ]
  },
  {
   "cell_type": "markdown",
   "metadata": {
    "nbpresent": {
     "id": "a1ca837f-1179-4518-a425-cd9ad733cd73"
    }
   },
   "source": [
    "two very important factors to evaluate  \n",
    "- the potential energy: `Epot` should be negative and (for a simple protein in water) on the order of 100000 kJ/mol\n",
    "- the maximum force: `Fmax`, the target for which was set in minim.mdp - `emtol = 1000.0` - indicating a target Fmax of no greater than 1000 kJ/(mol nm). \n",
    "  - It is possible to arrive at a reasonable Epot with Fmax > emtol. If this happens, your system may not be stable enough for simulation. \n",
    "  - Evaluate why it may be happening, and perhaps change your minimization parameters (integrator, emstep, etc).\n",
    "\n"
   ]
  },
  {
   "cell_type": "markdown",
   "metadata": {
    "nbpresent": {
     "id": "08ee3d6c-ad7d-42be-9622-f43d9ab3d1e7"
    }
   },
   "source": [
    "### Analyzing the run results"
   ]
  },
  {
   "cell_type": "markdown",
   "metadata": {
    "nbpresent": {
     "id": "e4c99f39-4127-487f-b3fe-fbe5b3595316"
    }
   },
   "source": [
    "- Analysis using `em.edr` file containing all of the energy terms.\n",
    "- To analyse or visualize simulation data in python or jupyter notebooks, we can output a simplified xvg format from gmx-analysis tools with the option `-xvg none`"
   ]
  },
  {
   "cell_type": "code",
   "execution_count": null,
   "metadata": {
    "nbpresent": {
     "id": "9ebad872-0589-4675-a240-b89c396a35c1"
    },
    "scrolled": true
   },
   "outputs": [],
   "source": [
    "# extract potential energy to a .xvg file \n",
    "!printf \"Potential\\n0\\n\" | gmx energy -f em.edr -o potential.xvg -xvg none"
   ]
  },
  {
   "cell_type": "code",
   "execution_count": null,
   "metadata": {
    "nbpresent": {
     "id": "4ce04079-a188-4372-ac3f-10665cd8b1a5"
    },
    "scrolled": true
   },
   "outputs": [],
   "source": [
    "# plot energy minimization curve\n",
    "import pandas as pd\n",
    "import plotly.express as px \n",
    "\n",
    "df = pd.read_csv('potential.xvg', sep='\\s+', header=None, names=['step','energy'])\n",
    "px.line(df, x='step', y='energy', title='Energy Minimization')\n"
   ]
  },
  {
   "cell_type": "markdown",
   "metadata": {
    "nbpresent": {
     "id": "e6db598c-b3ac-4a16-8044-1662a0646b15"
    }
   },
   "source": [
    "- EM ensures that we have a reasonable starting structurein terms of geometry and solvent orientation\n",
    "- To begin real dynamics, we must equilibrate the solvent and ions around the protein.\n",
    "  - If we were to attempt unrestrained dynamics at this point, the system may collapse because the solvent is mostly optimized within itself, and not necessarily with the solute, and ions are randomply placed by replacing water molecules. "
   ]
  },
  {
   "cell_type": "markdown",
   "metadata": {
    "nbpresent": {
     "id": "4c85e968-f181-42fb-a3b3-ab42facdb15a"
    }
   },
   "source": [
    "### Position restraints "
   ]
  },
  {
   "cell_type": "markdown",
   "metadata": {
    "nbpresent": {
     "id": "2b10cf65-f4fd-4244-bb0b-612e4aa3ade8"
    }
   },
   "source": [
    "Use `posre.itp` to apply a position restraining force on the heavy atoms of the protein (anything that is not a hydrogen). \n",
    "- Movement is permitted, but only after overcoming a substantial energy penalty. \n",
    "- The utility of position restraints is that they allow us to relax our solvent and ions around our protein, without the added variable of structural changes in the protein. \n",
    "- The **origin** (the coordinates at which the restraint potential is zero) is provided via a coordinate file passed to the `-r` option of `grompp`. "
   ]
  },
  {
   "cell_type": "markdown",
   "metadata": {
    "nbpresent": {
     "id": "2b10cf65-f4fd-4244-bb0b-612e4aa3ade8"
    }
   },
   "source": [
    "To use Positional Restraints, add \\\"define = -DPOSRES\\\" to the `.mdp` file \n",
    "- a file with restraint coordinates must be supplied with `-r` to `gmx grompp`. (can be the same file as supplied for `-c`)"
   ]
  },
  {
   "cell_type": "markdown",
   "metadata": {
    "nbpresent": {
     "id": "4c85e968-f181-42fb-a3b3-ab42facdb15a"
    }
   },
   "source": [
    "### Equilibration run - temperature - stabilized the temperature of the system"
   ]
  },
  {
   "cell_type": "markdown",
   "metadata": {
    "nbpresent": {
     "id": "2b10cf65-f4fd-4244-bb0b-612e4aa3ade8"
    }
   },
   "source": [
    "The system needs to be brought to the temperature we wish to simulate and establish the proper orientation about the solute (the protein).\n",
    "- After we arrive at the correct temperature (based on kinetic energies), we will apply pressure to the system until it reaches the proper density.\n",
    "\n",
    "Equilibration is often conducted in two phases. \n",
    "- first phase is conducted under an NVT ensemble (constant Number of particles, Volume, and Temperature) AKA a \"isothermal-isochoric\" or \"canonical.\" \n",
    "  - The timeframe for such a procedure is depends on the contents of the system. 100-200 ps should suffice\n",
    "  - This may take a while."
   ]
  },
  {
   "cell_type": "markdown",
   "metadata": {
    "nbpresent": {
     "id": "2b10cf65-f4fd-4244-bb0b-612e4aa3ade8"
    }
   },
   "source": [
    "Call `grompp` and `mdrun` just as we did at the EM step, except: \n",
    "- use energy minimised structure as input and a different `.mdp `file for the run.\n",
    "- Instead of energy tolerance, we now give time a step size and a number of steps.\n",
    "- Furthermore, we need to set a temperature."
   ]
  },
  {
   "cell_type": "markdown",
   "metadata": {
    "nbpresent": {
     "id": "cc6aa785-2b71-44bc-8a86-0c95e3b65c82"
    }
   },
   "source": [
    "Take note of a few parameters in the new `nvt-charmm.mdp` file:\n",
    "- `gen_vel = yes`: Initiates velocity generation. Using different random seeds (gen_seed) gives different initial velocities, and thus multiple (different) simulations can be conducted from the same starting structure.\n",
    "- `tcoupl = V-rescale`: The velocity rescaling thermostat is an improvement upon the Berendsen weak coupling method, which did not reproduce a correct kinetic ensemble.\n",
    "- `pcoupl = no`: Pressure coupling is not applied. \n",
    "- A full explanation of the parameters used can be found in the GROMACS [manual](http://manual.gromacs.org/documentation/current/user-guide/mdp-options.html)"
   ]
  },
  {
   "cell_type": "code",
   "execution_count": null,
   "metadata": {
    "nbpresent": {
     "id": "2b413eeb-b4a1-4499-b977-156c6a0b4566"
    },
    "scrolled": true
   },
   "outputs": [],
   "source": [
    "# MD Equilibrium run - temperature. \n",
    "!gmx grompp -f input/nvt-charmm.mdp -c em.gro -r em.gro -p topol.top -o nvt.tpr \n",
    "!gmx mdrun -ntmpi 1 -v -deffnm nvt"
   ]
  },
  {
   "cell_type": "markdown",
   "metadata": {
    "nbpresent": {
     "id": "cc6aa785-2b71-44bc-8a86-0c95e3b65c82"
    }
   },
   "source": [
    "Analyze the temperature progression, again using gmx energy:"
   ]
  },
  {
   "cell_type": "code",
   "execution_count": null,
   "metadata": {
    "nbpresent": {
     "id": "a414818c-cb67-4514-a983-5322d9d388b0"
    },
    "scrolled": true
   },
   "outputs": [],
   "source": [
    "# extract temperature data\n",
    "!echo \"Temperature\" | gmx energy -f nvt.edr -o temperature.xvg -xvg none -b 20"
   ]
  },
  {
   "cell_type": "code",
   "execution_count": null,
   "metadata": {
    "nbpresent": {
     "id": "4ce04079-a188-4372-ac3f-10665cd8b1a5"
    },
    "scrolled": false
   },
   "outputs": [],
   "source": [
    "# Plot temperature data \n",
    "import pandas as pd\n",
    "import plotly.express as px \n",
    "\n",
    "df = pd.read_csv('temperature.xvg', sep='\\s+', header=None, names=['step','temperature'])\n",
    "px.line(df, x='step', y='temperature', title='Temperature Equilibration')"
   ]
  },
  {
   "cell_type": "markdown",
   "metadata": {
    "nbpresent": {
     "id": "00806afa-b604-4964-9616-edc3ff3d046d"
    }
   },
   "source": [
    "- Observe the plot and determine the temperature that the system reaches and remains stable at (target value (300 K))\n",
    "- Determine an equilibrium period that may be adequate for this system (ps)."
   ]
  },
  {
   "cell_type": "markdown",
   "metadata": {
    "nbpresent": {
     "id": "82f60247-efd9-4559-9b40-ddc31d78b0cf"
    }
   },
   "source": [
    "### Equilibration run - pressure - stabilize the pressure (and thus also the density) of the system"
   ]
  },
  {
   "cell_type": "markdown",
   "metadata": {
    "nbpresent": {
     "id": "d420cdd6-a94d-49a4-8776-c5ceee7b3cb4"
    }
   },
   "source": [
    "- Equilibration of pressure is conducted under an NPT ensemble, wherein the Number of particles, Pressure, and Temperature are all constant. \n",
    "- The ensemble is also called the \"isothermal-isobaric\" ensemble, and most closely resembles experimental conditions.\n",
    "\n",
    "A new `npt-charmm.mdp` file will be used. \n",
    "- Note is not drastically different from the parameter file used for NVT equilibration, note the addition of the pressure coupling section. \n",
    "\n",
    "A few other changes:\n",
    "- `continuation = yes`: Confirms we are continuing the simulation from the NVT equilibration phase\n",
    "- `gen_vel = no`: Velocities are read from the trajectory (see below) \n",
    "\n",
    "Call `grompp` and `mdrun` just as we did for temperature equilibration.\n",
    "- include `-t` flag to include the checkpoint file from the nvt equilibration\n",
    "  - this file contains all the necessary state variables to continue our simulation. \n",
    "- to conserve the velocities produced during nvt, we must include the final coordinate file (output) of the nvt simulation using `-c` option"
   ]
  },
  {
   "cell_type": "code",
   "execution_count": null,
   "metadata": {
    "nbpresent": {
     "id": "d0031438-f9e0-4d31-9c19-df4dc92d2d22"
    }
   },
   "outputs": [],
   "source": [
    "# update the files using grompp\n",
    "!gmx grompp -f input/npt-charmm.mdp -c nvt.gro -r nvt.gro -t nvt.cpt -p topol.top -o npt.tpr"
   ]
  },
  {
   "cell_type": "code",
   "execution_count": null,
   "metadata": {
    "nbpresent": {
     "id": "8a3208e1-acc3-40ab-b3be-a26fa2bb071c"
    },
    "scrolled": true
   },
   "outputs": [],
   "source": [
    "# start an MD simulation just like before\n",
    "!gmx mdrun -ntmpi 1 -v -deffnm npt"
   ]
  },
  {
   "cell_type": "markdown",
   "metadata": {
    "nbpresent": {
     "id": "eb120f75-b472-4cb1-a3ee-21c580ca03e7"
    }
   },
   "source": [
    "Analyze the pressure progression, again using energy:"
   ]
  },
  {
   "cell_type": "code",
   "execution_count": null,
   "metadata": {
    "nbpresent": {
     "id": "dd41db3e-bcdb-4cad-a8c7-834ebd3b6078"
    },
    "scrolled": false
   },
   "outputs": [],
   "source": [
    "# extract pressure data\n",
    "!echo \"Pressure\" | gmx energy -f npt.edr -o pressure.xvg -xvg none"
   ]
  },
  {
   "cell_type": "code",
   "execution_count": null,
   "metadata": {
    "nbpresent": {
     "id": "4ce04079-a188-4372-ac3f-10665cd8b1a5"
    },
    "scrolled": true
   },
   "outputs": [],
   "source": [
    "# Plot the pressure data \n",
    "import pandas as pd\n",
    "df = pd.read_csv('pressure.xvg', sep='\\s+', header=None, names=['step','pressure'])\n",
    "px.line(df, x='step', y='pressure', title='Pressure Equilibration')"
   ]
  },
  {
   "cell_type": "markdown",
   "metadata": {
    "nbpresent": {
     "id": "24293621-f825-48bb-8493-b42fbc65c616"
    }
   },
   "source": [
    "Pressure is a quantity that fluctuates widely over the course of an MD simulation\n",
    "- as is clear from the large root-mean-square fluctuation (in the order of 100 bar)\n",
    "- statistically speaking, one cannot distinguish a difference between the obtained average and the target/reference value (1 bar).\n",
    "\n",
    "Let's take a look at density:"
   ]
  },
  {
   "cell_type": "code",
   "execution_count": null,
   "metadata": {
    "nbpresent": {
     "id": "5f5636cc-2d8e-4fcb-b1a3-a6aa5e059be9"
    },
    "scrolled": true
   },
   "outputs": [],
   "source": [
    "# extract density data \n",
    "!echo \"Density\" | gmx energy -f npt.edr -o density.xvg -xvg none"
   ]
  },
  {
   "cell_type": "code",
   "execution_count": null,
   "metadata": {
    "nbpresent": {
     "id": "4ce04079-a188-4372-ac3f-10665cd8b1a5"
    },
    "scrolled": false
   },
   "outputs": [],
   "source": [
    "# plot density data \n",
    "import pandas as pd\n",
    "df = pd.read_csv('density.xvg', sep='\\s+', header=None, names=['step','density'])\n",
    "px.line(df, x='step', y='density', title='Density Equilibration')"
   ]
  },
  {
   "cell_type": "markdown",
   "metadata": {
    "nbpresent": {
     "id": "55be45c5-3caa-472d-995e-9e9532ff4f86"
    }
   },
   "source": [
    "To determine if the system is well-equilibrated now with respect to pressure and density: \n",
    "- observe the densiry plot to see if density values are very stable over time\n",
    "\n",
    "Note: Pressure-related terms are slow to converge, you may have to run NPT equilibration slightly longer than is specified here."
   ]
  },
  {
   "cell_type": "markdown",
   "metadata": {
    "nbpresent": {
     "id": "bcefd2f6-8318-40a7-98e0-dc89ecb9ca56"
    }
   },
   "source": [
    "### The \"production\" run"
   ]
  },
  {
   "cell_type": "markdown",
   "metadata": {
    "nbpresent": {
     "id": "f366f0c1-5bb1-47a1-a8af-e6f79e7eb2fc"
    }
   },
   "source": [
    "We are now ready to release the position restraints and run production MD for data collection. \n",
    "- We will make use of the checkpoint file (which in this case now contains preserve pressure coupling information) to `grompp`. We will run a 1-ns MD simulation. \n",
    "  - Note we have explictly add a section that controls the output frequency in log file (`.log`), energy file (`.edr`), in the trajcotry file (`.trr`) and the compress trajectory file (`.xtc`).\n",
    "  - note we will be using a new mdp file `md-charmm.mdp`"
   ]
  },
  {
   "cell_type": "markdown",
   "metadata": {
    "nbpresent": {
     "id": "f0ff0a16-ecdd-40e6-af2c-4234793043c1"
    }
   },
   "source": [
    "Here, we use velocity-rescaling temperature coupling as thermostat and stochastic cell rescaling as barostat. \n",
    "- A full explanation of the available thermostats and barostats in GROMACS can be found in the manual (see [here](http://manual.gromacs.org/documentation/current/reference-manual/algorithms/molecular-dynamics.html#temperature-coupling) for thermostat and [here](http://manual.gromacs.org/documentation/current/reference-manual/algorithms/molecular-dynamics.html#pressure-coupling) for barostat). \n",
    "\n",
    "Note, for thermostats and barostats we need to compute temperature or pressure. This requires global communication and is currently not done on GPU. To reduce these computational cost, \n",
    "  - [nsttcouple](https://manual.gromacs.org/current/user-guide/mdp-options.html#mdp-nsttcouple) frequency for coupling temperature set to 100 by default\n",
    "  - [nstpcouple](https://manual.gromacs.org/current/user-guide/mdp-options.html#mdp-nstpcouple) frequency for coupling pressure set to 100 by default\n",
    "  - Recommended to use `tau_t = 1` ps for V-rescale \n",
    "  - Recommended to use `tau_p = 5` ps for C-rescale\n",
    "\n",
    "`gmx grompp` will print an estimate for generated data and PME load. \n",
    "- PME load will dictate how many processors should be dedicated to the PME calculation, and how many for the PP (everything except for PME) calculations. [manual](http://manual.gromacs.org/documentation/current/user-guide/mdrun-performance.html#parallelization-schemes)"
   ]
  },
  {
   "cell_type": "code",
   "execution_count": null,
   "metadata": {
    "nbpresent": {
     "id": "9749ba51-ceef-4d26-a92b-f056a3a4e4c1"
    },
    "scrolled": true
   },
   "outputs": [],
   "source": [
    "# the produciton run `grompp`\n",
    "!gmx grompp -f input/md-charmm.mdp -c npt.gro -t npt.cpt -p topol.top -o md.tpr"
   ]
  },
  {
   "cell_type": "code",
   "execution_count": null,
   "metadata": {
    "nbpresent": {
     "id": "94034110-7553-4031-ab62-01022bce77b8"
    },
    "scrolled": true
   },
   "outputs": [],
   "source": [
    "# The production run `mdrun`\n",
    "!gmx mdrun -ntmpi 1 -v -deffnm md"
   ]
  },
  {
   "cell_type": "markdown",
   "metadata": {
    "nbpresent": {
     "id": "f5ecb43b-4d2f-44e7-85dd-62f9d2665a17"
    }
   },
   "source": [
    "### Analysis"
   ]
  },
  {
   "cell_type": "markdown",
   "metadata": {
    "nbpresent": {
     "id": "ef9d62ee-3df6-4b4e-ba99-0eb1e6374fb2"
    }
   },
   "source": [
    "What types of data are important? Wha tools do we have for analysis?\n",
    "- [`gmx trjconv`](https://manual.gromacs.org/current/onlinehelp/gmx-trjconv.html) which is used as a post-processing tool to strip out coordinates, correct for periodicity, or manually alter the trajectory (time units, frame frequency, etc)\n",
    "  - we can use this to account for any periodicity in the system. \n",
    "  - `-center`: center atoms in the box \n",
    "  - options to specify input files: `-f`, `-s`\n",
    "  - `-pcb`: sets the type of periodic boundary condition treatment. `-mol` puts the center of mass of molecules in the box, and requires a run input file to be supplied with `-s`.\n",
    "- [`gmx mindist`](https://manual.gromacs.org/current/onlinehelp/gmx-mindist.html) \n",
    "  - use this to calculate the distance between the protein and its periodic image, to check that they do not interact with one another. \n",
    "  - The distance between the protein and its periodic image should not be smaller than the cut-off used to describe non-bonded interactions.\n",
    "  - `-od`: output file\n",
    "  - `-pi`: plot the minimum distance of a group to its periodic image. \n",
    "- [`gmx rms`](https://manual.gromacs.org/current/onlinehelp/gmx-rms.html) to check for structural stability \n",
    "  - calculate RMSD relative to the crystal structure present in the original pdb file \n",
    "  - `-tu`: unit for time value \n",
    "  - Choose 4 (\"Backbone\") for both the least-squares fit and the group for RMSD calculation. "
   ]
  },
  {
   "cell_type": "code",
   "execution_count": null,
   "metadata": {
    "nbpresent": {
     "id": "49e846cb-4d93-4ff7-972e-2a01e68ffe13"
    },
    "scrolled": true
   },
   "outputs": [],
   "source": [
    "# convert trajectory files \n",
    "!printf \"1\\n1\\n\" | gmx trjconv -s md.tpr -f md.xtc -o md_center.xtc -center -pbc mol"
   ]
  },
  {
   "cell_type": "code",
   "execution_count": null,
   "metadata": {
    "nbpresent": {
     "id": "49e846cb-4d93-4ff7-972e-2a01e68ffe13"
    },
    "scrolled": true
   },
   "outputs": [],
   "source": [
    "# check distance between protein and its periodic image \n",
    "!printf \"1\\n\" | gmx mindist -s md.tpr -f md_center.xtc -pi -od mindist.xvg \n",
    "#!xmgrace mindist.xvg"
   ]
  },
  {
   "cell_type": "code",
   "execution_count": null,
   "metadata": {
    "nbpresent": {
     "id": "41a754a7-38be-4f22-b1af-838fefef505b"
    },
    "scrolled": false
   },
   "outputs": [],
   "source": [
    "# check Extract rmsd data\n",
    "!printf \"4\\n1\\n\" | gmx rms -s em.tpr -f md_center.xtc -o rmsd_xray.xvg -tu ns -xvg none"
   ]
  },
  {
   "cell_type": "code",
   "execution_count": null,
   "metadata": {
    "nbpresent": {
     "id": "4ce04079-a188-4372-ac3f-10665cd8b1a5"
    },
    "scrolled": false
   },
   "outputs": [],
   "source": [
    "# plot rmsd\n",
    "import pandas as pd\n",
    "df = pd.read_csv('rmsd_xray.xvg', sep='\\s+', header=None, names=['time','RMSD'])\n",
    "df.plot('time')"
   ]
  },
  {
   "cell_type": "markdown",
   "metadata": {
    "nbpresent": {
     "id": "0c6ed6c2-b327-4aa5-be30-5a34dda3fb00"
    }
   },
   "source": [
    "### Radius of gyration"
   ]
  },
  {
   "cell_type": "markdown",
   "metadata": {
    "nbpresent": {
     "id": "5e00cc55-3f22-419c-b7ec-12b1a1974c87"
    }
   },
   "source": [
    "This is a measure of its compactness. \n",
    "- If a protein is stably folded, it will likely maintain a relatively steady value of Rg. \n",
    "- If a protein unfolds, its Rg will change over time. \n",
    "- Analyze the radius of gyration using GROMACS [`gmx gyrate`](https://manual.gromacs.org/current/onlinehelp/gmx-gyrate.html) "
   ]
  },
  {
   "cell_type": "code",
   "execution_count": null,
   "metadata": {
    "nbpresent": {
     "id": "d5801034-d329-48bd-9563-b59b3df88421"
    },
    "scrolled": true
   },
   "outputs": [],
   "source": [
    "# analyze the radius of gyration\n",
    "!echo \"1\" | gmx gyrate -f md_center.xtc -s md.tpr -o gyrate.xvg -xvg none"
   ]
  },
  {
   "cell_type": "code",
   "execution_count": null,
   "metadata": {
    "nbpresent": {
     "id": "4ce04079-a188-4372-ac3f-10665cd8b1a5"
    },
    "scrolled": false
   },
   "outputs": [],
   "source": [
    "# plot radius of gyration\n",
    "import pandas as pd\n",
    "df = pd.read_csv('gyrate.xvg', sep='\\s+', header=None, names=['time','Rg'], usecols=[0, 1])\n",
    "df.plot('time')"
   ]
  },
  {
   "cell_type": "markdown",
   "metadata": {
    "nbpresent": {
     "id": "ca31ca31-edde-434e-9757-96e683450f2b"
    }
   },
   "source": [
    "Stable protein in its compact (folded) form implies reasonably invariant Rg values. "
   ]
  },
  {
   "cell_type": "markdown",
   "metadata": {
    "nbpresent": {
     "id": "0c6ed6c2-b327-4aa5-be30-5a34dda3fb00"
    }
   },
   "source": [
    "### Index file"
   ]
  },
  {
   "cell_type": "markdown",
   "metadata": {},
   "source": [
    "Index groups are necessary for almost every GROMACS tools. \n",
    "- If one needs special index groups, he/she can use gmx [gmx make_ndx](https://manual.gromacs.org/current/onlinehelp/gmx-make_ndx.html) to generate an index file (ndx). \n",
    "  - For example the command `splitch 1` splits the group 1 (Protein) in chains and the command `q`  close the tool.  "
   ]
  },
  {
   "cell_type": "code",
   "execution_count": null,
   "metadata": {
    "scrolled": true
   },
   "outputs": [],
   "source": [
    "# generate index group\n",
    "!printf \"splitch 1\\nq\\n\" | gmx make_ndx -f nvt.tpr -o "
   ]
  },
  {
   "cell_type": "markdown",
   "metadata": {},
   "source": [
    "Calculate the hydrogen bonds between the two protein chains using [gmx hbond](https://manual.gromacs.org/current/onlinehelp/gmx-hbond.html). \n",
    "  - The option `-num` provide the number of hydrogen bond as a function of time.  "
   ]
  },
  {
   "cell_type": "code",
   "execution_count": null,
   "metadata": {},
   "outputs": [],
   "source": [
    "# Calculate hydrogen bonds \n",
    "!printf \"17\\n18\\n\"| gmx hbond -f md.xtc -s md.tpr  -n index.ndx -num -xvg none"
   ]
  },
  {
   "cell_type": "code",
   "execution_count": null,
   "metadata": {
    "nbpresent": {
     "id": "4ce04079-a188-4372-ac3f-10665cd8b1a5"
    },
    "scrolled": false
   },
   "outputs": [],
   "source": [
    "# plot bonds \n",
    "import pandas as pd\n",
    "df = pd.read_csv('hbnum.xvg', sep='\\s+', header=None, names=['time','H-bonds'], usecols=[0, 1])\n",
    "df.plot('time')"
   ]
  },
  {
   "cell_type": "markdown",
   "metadata": {},
   "source": [
    "### Generate Report "
   ]
  },
  {
   "cell_type": "markdown",
   "metadata": {},
   "source": [
    "Report or recall about what type of simulation we have performed.(`gmx report-methods`)[https://manual.gromacs.org/current/onlinehelp/gmx-report-methods.\n",
    "html] can be useful for this purpose. \n",
    "- report methods print out basic system information on a performed run. \n",
    "- they also provide an unformatted text (with the option `-o`) or a LaTeX formatted output file with the option `-m`. "
   ]
  },
  {
   "cell_type": "code",
   "execution_count": null,
   "metadata": {},
   "outputs": [],
   "source": [
    "# generate report \n",
    "!gmx report-methods -s md.tpr"
   ]
  }
 ],
 "metadata": {
  "anaconda-cloud": {},
  "kernelspec": {
   "display_name": "Python 3 (ipykernel)",
   "language": "python",
   "name": "python3"
  },
  "language_info": {
   "codemirror_mode": {
    "name": "ipython",
    "version": 3
   },
   "file_extension": ".py",
   "mimetype": "text/x-python",
   "name": "python",
   "nbconvert_exporter": "python",
   "pygments_lexer": "ipython3",
   "version": "3.10.12"
  },
  "nbpresent": {
   "slides": {
    "5ee989b6-b87f-45b2-b186-0f81e2eb6c0e": {
     "id": "5ee989b6-b87f-45b2-b186-0f81e2eb6c0e",
     "prev": null,
     "regions": {
      "1099d9ed-4336-403d-8924-acb02ce1d7c0": {
       "attrs": {
        "height": 0.2,
        "width": 0.4,
        "x": 0.1,
        "y": 0.7
       },
       "id": "1099d9ed-4336-403d-8924-acb02ce1d7c0"
      },
      "159e8040-85d4-4abc-8f26-2cf90a0407d7": {
       "attrs": {
        "height": 0.6,
        "width": 0.8,
        "x": 0.1,
        "y": 0.1
       },
       "id": "159e8040-85d4-4abc-8f26-2cf90a0407d7"
      },
      "d9ecb908-45c1-485f-bb18-bbc91a1fd84e": {
       "attrs": {
        "height": 0.2,
        "width": 0.4,
        "x": 0.5,
        "y": 0.7
       },
       "id": "d9ecb908-45c1-485f-bb18-bbc91a1fd84e"
      }
     }
    }
   },
   "themes": {}
  }
 },
 "nbformat": 4,
 "nbformat_minor": 2
}
