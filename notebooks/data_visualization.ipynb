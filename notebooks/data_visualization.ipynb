{
 "cells": [
  {
   "cell_type": "markdown",
   "metadata": {},
   "source": [
    "### Set working directory "
   ]
  },
  {
   "cell_type": "code",
   "execution_count": null,
   "id": "9902e01b",
   "metadata": {},
   "outputs": [],
   "source": [
    "# Change to the data directory\n",
    "import os \n",
    "new_directory = '/home/spunion/folding/data/re-sim/4'\n",
    "os.chdir(new_directory)\n",
    "print(\"cwd\",os.getcwd())"
   ]
  },
  {
   "cell_type": "markdown",
   "id": "26b2721f",
   "metadata": {},
   "source": [
    "### Streamlined Simulation"
   ]
  },
  {
   "cell_type": "code",
   "execution_count": null,
   "id": "8222b358",
   "metadata": {},
   "outputs": [],
   "source": [
    "! echo 14 | gmx pdb2gmx -f 1bz4.pdb -o 1bz4_processed.gro -water spce -ff \"charmm27\""
   ]
  },
  {
   "cell_type": "code",
   "execution_count": null,
   "id": "e2ac3f60",
   "metadata": {},
   "outputs": [],
   "source": [
    "! gmx editconf -f 1bz4_processed.gro -o 1bz4_box.gro -c -d 1.0 -bt cubic"
   ]
  },
  {
   "cell_type": "code",
   "execution_count": null,
   "id": "905648a5",
   "metadata": {},
   "outputs": [],
   "source": [
    "! gmx solvate -cp 1bz4_box.gro -cs spc216.gro -o 1bz4_solv.gro -p topol.top"
   ]
  },
  {
   "cell_type": "code",
   "execution_count": null,
   "id": "5081fe0d",
   "metadata": {},
   "outputs": [],
   "source": [
    "! touch ions.mdp"
   ]
  },
  {
   "cell_type": "code",
   "execution_count": null,
   "id": "929d62d7",
   "metadata": {},
   "outputs": [],
   "source": [
    "! gmx grompp -f ions.mdp -c 1bz4_solv.gro -p topol.top -o ions.tpr -maxwarn 100"
   ]
  },
  {
   "cell_type": "code",
   "execution_count": null,
   "id": "d8f46344",
   "metadata": {},
   "outputs": [],
   "source": [
    "! echo 13 |  gmx genion -s ions.tpr -o 1bz4_solv_ions.gro -p topol.top -pname NA -nname CL -neutral"
   ]
  },
  {
   "cell_type": "code",
   "execution_count": null,
   "id": "c1165ca7",
   "metadata": {},
   "outputs": [],
   "source": [
    "! gmx grompp -f emin.mdp -c 1bz4_solv_ions.gro -p topol.top -o emin.tpr -maxwarn 100\n",
    "! gmx mdrun -v -deffnm emin"
   ]
  },
  {
   "cell_type": "code",
   "execution_count": null,
   "id": "e13a87e8",
   "metadata": {},
   "outputs": [],
   "source": [
    "! gmx grompp -f nvt.mdp -c emin.gro -r emin.gro -p topol.top -o nvt.tpr -maxwarn 100\n",
    "! gmx mdrun -v -deffnm nvt"
   ]
  },
  {
   "cell_type": "code",
   "execution_count": null,
   "id": "2723f24b",
   "metadata": {},
   "outputs": [],
   "source": [
    "! gmx grompp -f npt.mdp -c nvt.gro -r nvt.gro -t nvt.cpt -p topol.top -o npt.tpr -maxwarn 100\n",
    "! gmx mdrun -v -deffnm npt"
   ]
  },
  {
   "cell_type": "code",
   "execution_count": null,
   "id": "bfdf3a63",
   "metadata": {},
   "outputs": [],
   "source": [
    "! gmx grompp -f md.mdp -c npt.gro -t npt.cpt -p topol.top -o md.tpr -maxwarn 100\n",
    "! gmx mdrun -v -deffnm md"
   ]
  },
  {
   "cell_type": "code",
   "execution_count": null,
   "id": "57f14b34",
   "metadata": {},
   "outputs": [],
   "source": [
    "!printf \"1\\n0\\n\" | gmx trjconv -s emin.tpr -f md.xtc -o md_center.xtc -center -pbc mol"
   ]
  },
  {
   "cell_type": "markdown",
   "id": "38bfabf0",
   "metadata": {},
   "source": [
    "### Prepare Visualization Files"
   ]
  },
  {
   "cell_type": "markdown",
   "id": "3f5519d7",
   "metadata": {},
   "source": [
    "Use the output of the following cell to determine the last frame number. "
   ]
  },
  {
   "cell_type": "code",
   "execution_count": null,
   "id": "e6664958",
   "metadata": {},
   "outputs": [],
   "source": [
    "! gmx check -f md.xtc"
   ]
  },
  {
   "cell_type": "code",
   "execution_count": null,
   "id": "a6b193b5",
   "metadata": {},
   "outputs": [],
   "source": [
    "# Include last frame number after -dump\n",
    "! echo 0 | gmx trjconv -s emin.tpr -f md.xtc -o final_structure.gro -dump 500"
   ]
  },
  {
   "cell_type": "markdown",
   "metadata": {},
   "source": [
    "### Run the following in jupyter notebook "
   ]
  },
  {
   "cell_type": "code",
   "execution_count": null,
   "metadata": {},
   "outputs": [],
   "source": [
    "# open jupyter notebook \n",
    "# ! jupyter notebook --allow-root"
   ]
  },
  {
   "cell_type": "code",
   "execution_count": null,
   "id": "205e9bcb-23c5-496e-ba97-ee6e23bc6a97",
   "metadata": {},
   "outputs": [],
   "source": [
    "import nglview as ng \n",
    "import mdtraj as md\n",
    "traj = md.load(\"md_center.xtc\", top=\"final_structure.gro\")\n",
    "view = ng.show_mdtraj(traj)\n",
    "view"
   ]
  }
 ],
 "metadata": {
  "kernelspec": {
   "display_name": "Python 3 (ipykernel)",
   "language": "python",
   "name": "python3"
  },
  "language_info": {
   "codemirror_mode": {
    "name": "ipython",
    "version": 3
   },
   "file_extension": ".py",
   "mimetype": "text/x-python",
   "name": "python",
   "nbconvert_exporter": "python",
   "pygments_lexer": "ipython3",
   "version": "3.11.6"
  }
 },
 "nbformat": 4,
 "nbformat_minor": 5
}
